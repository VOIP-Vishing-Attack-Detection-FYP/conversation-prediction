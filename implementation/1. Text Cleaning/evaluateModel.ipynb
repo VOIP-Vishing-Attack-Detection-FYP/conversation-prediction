{
 "cells": [
  {
   "cell_type": "code",
   "execution_count": 8,
   "metadata": {},
   "outputs": [],
   "source": [
    "import math\n",
    "import torch\n",
    "import torch.nn as nn\n",
    "import torch.nn.functional as F\n",
    "from torch.utils.data import Dataset, DataLoader\n",
    "import pandas as pd\n",
    "import os\n",
    "import pickle  # for saving tokenizer or other objects"
   ]
  },
  {
   "cell_type": "code",
   "execution_count": 10,
   "metadata": {},
   "outputs": [],
   "source": [
    "# ========================================\n",
    "# 8) Reusable Inference Code\n",
    "# ========================================\n",
    "# Suppose we want to load the model + tokenizer in a new environment or script \n",
    "# and generate the remainder from a partial snippet.\n",
    "\n",
    "def load_model_and_tokenizer(model_dir):\n",
    "    # Load tokenizer\n",
    "    tokenizer_path = os.path.join(model_dir, \"tokenizer.pkl\")\n",
    "    with open(tokenizer_path, \"rb\") as f:\n",
    "        loaded_tokenizer = pickle.load(f)\n",
    "    # Instantiate model with correct vocab size\n",
    "    # Make sure you match d_model, nhead, layers, etc. \n",
    "    # or store them in a config file\n",
    "    model = TransformerEncoderDecoder(\n",
    "        vocab_size=loaded_tokenizer.vocab_size,\n",
    "        d_model=128,\n",
    "        nhead=4,\n",
    "        num_encoder_layers=2,\n",
    "        num_decoder_layers=2\n",
    "    )\n",
    "    # Load state_dict\n",
    "    model_path = os.path.join(model_dir, \"model_state.pt\")\n",
    "    state_dict = torch.load(model_path, map_location=torch.device('cpu'))\n",
    "    model.load_state_dict(state_dict)\n",
    "    model.eval()\n",
    "    return model, loaded_tokenizer\n",
    "\n",
    "def generate_remainder(model, tokenizer, partial_text, max_len=50):\n",
    "    model.eval()\n",
    "    # encode partial\n",
    "    partial_ids = tokenizer.encode(partial_text, add_bos=True)  # add <BOS>\n",
    "    src = torch.tensor([partial_ids], dtype=torch.long)\n",
    "\n",
    "    # We start decoder input with <BOS>\n",
    "    dec_in = torch.tensor([[tokenizer.word2idx[\"<BOS>\"]]], dtype=torch.long)\n",
    "\n",
    "    for _ in range(max_len):\n",
    "        with torch.no_grad():\n",
    "            logits = model(src, dec_in)\n",
    "            # next token from last time-step\n",
    "            next_token_logits = logits[0,-1,:]\n",
    "            next_id = torch.argmax(next_token_logits).item()\n",
    "\n",
    "        # append\n",
    "        dec_in = torch.cat([dec_in, torch.tensor([[next_id]])], dim=1)\n",
    "\n",
    "        # stop if <EOS>\n",
    "        if next_id == tokenizer.word2idx[\"<EOS>\"]:\n",
    "            break\n",
    "\n",
    "    # decode the generated tokens after <BOS>\n",
    "    generated_ids = dec_in[0,1:].tolist()\n",
    "    text_out = tokenizer.decode(generated_ids)\n",
    "    return text_out\n"
   ]
  },
  {
   "cell_type": "code",
   "execution_count": 11,
   "metadata": {},
   "outputs": [
    {
     "ename": "AttributeError",
     "evalue": "Can't get attribute 'SimpleTokenizer' on <module '__main__'>",
     "output_type": "error",
     "traceback": [
      "\u001b[1;31m---------------------------------------------------------------------------\u001b[0m",
      "\u001b[1;31mAttributeError\u001b[0m                            Traceback (most recent call last)",
      "Cell \u001b[1;32mIn[11], line 6\u001b[0m\n\u001b[0;32m      1\u001b[0m \u001b[38;5;66;03m# Example of usage:\u001b[39;00m\n\u001b[0;32m      2\u001b[0m \n\u001b[0;32m      3\u001b[0m \u001b[38;5;66;03m# (A) In the same script, we can simply reuse the 'model' and 'tokenizer' we already have.\u001b[39;00m\n\u001b[0;32m      4\u001b[0m \u001b[38;5;66;03m# Or let's simulate how we'd do it from a fresh environment:\u001b[39;00m\n\u001b[1;32m----> 6\u001b[0m loaded_model, loaded_tokenizer \u001b[38;5;241m=\u001b[39m \u001b[43mload_model_and_tokenizer\u001b[49m\u001b[43m(\u001b[49m\u001b[38;5;124;43m\"\u001b[39;49m\u001b[38;5;124;43mC:/Users/DELL/Desktop/VOIP_Phishing_Attacks/Repos/convoPredict/conversation-prediction/research/3. MidEvaluation/encoder-decoder/gpt2_saved_conversation_model\u001b[39;49m\u001b[38;5;124;43m\"\u001b[39;49m\u001b[43m)\u001b[49m\n\u001b[0;32m      7\u001b[0m loaded_model\u001b[38;5;241m.\u001b[39mto(device)\n\u001b[0;32m      9\u001b[0m \u001b[38;5;66;03m# Now let's pick a partial snippet from the dataset or custom:\u001b[39;00m\n",
      "Cell \u001b[1;32mIn[10], line 11\u001b[0m, in \u001b[0;36mload_model_and_tokenizer\u001b[1;34m(model_dir)\u001b[0m\n\u001b[0;32m      9\u001b[0m tokenizer_path \u001b[38;5;241m=\u001b[39m os\u001b[38;5;241m.\u001b[39mpath\u001b[38;5;241m.\u001b[39mjoin(model_dir, \u001b[38;5;124m\"\u001b[39m\u001b[38;5;124mtokenizer.pkl\u001b[39m\u001b[38;5;124m\"\u001b[39m)\n\u001b[0;32m     10\u001b[0m \u001b[38;5;28;01mwith\u001b[39;00m \u001b[38;5;28mopen\u001b[39m(tokenizer_path, \u001b[38;5;124m\"\u001b[39m\u001b[38;5;124mrb\u001b[39m\u001b[38;5;124m\"\u001b[39m) \u001b[38;5;28;01mas\u001b[39;00m f:\n\u001b[1;32m---> 11\u001b[0m     loaded_tokenizer \u001b[38;5;241m=\u001b[39m \u001b[43mpickle\u001b[49m\u001b[38;5;241;43m.\u001b[39;49m\u001b[43mload\u001b[49m\u001b[43m(\u001b[49m\u001b[43mf\u001b[49m\u001b[43m)\u001b[49m\n\u001b[0;32m     12\u001b[0m \u001b[38;5;66;03m# Instantiate model with correct vocab size\u001b[39;00m\n\u001b[0;32m     13\u001b[0m \u001b[38;5;66;03m# Make sure you match d_model, nhead, layers, etc. \u001b[39;00m\n\u001b[0;32m     14\u001b[0m \u001b[38;5;66;03m# or store them in a config file\u001b[39;00m\n\u001b[0;32m     15\u001b[0m model \u001b[38;5;241m=\u001b[39m TransformerEncoderDecoder(\n\u001b[0;32m     16\u001b[0m     vocab_size\u001b[38;5;241m=\u001b[39mloaded_tokenizer\u001b[38;5;241m.\u001b[39mvocab_size,\n\u001b[0;32m     17\u001b[0m     d_model\u001b[38;5;241m=\u001b[39m\u001b[38;5;241m128\u001b[39m,\n\u001b[1;32m   (...)\u001b[0m\n\u001b[0;32m     20\u001b[0m     num_decoder_layers\u001b[38;5;241m=\u001b[39m\u001b[38;5;241m2\u001b[39m\n\u001b[0;32m     21\u001b[0m )\n",
      "\u001b[1;31mAttributeError\u001b[0m: Can't get attribute 'SimpleTokenizer' on <module '__main__'>"
     ]
    }
   ],
   "source": [
    "# Example of usage:\n",
    "\n",
    "# (A) In the same script, we can simply reuse the 'model' and 'tokenizer' we already have.\n",
    "# Or let's simulate how we'd do it from a fresh environment:\n",
    "\n",
    "loaded_model, loaded_tokenizer = load_model_and_tokenizer(\"C:/Users/DELL/Desktop/VOIP_Phishing_Attacks/Repos/convoPredict/conversation-prediction/research/3. MidEvaluation/encoder-decoder/gpt2_saved_conversation_model\")\n",
    "loaded_model.to(device)\n",
    "\n",
    "# Now let's pick a partial snippet from the dataset or custom:\n",
    "test_partial = \"Hello, I'm Sam. I saw an ad about a photography workshop.\"\n",
    "print(\"=== PARTIAL ===\")\n",
    "print(test_partial)\n",
    "\n",
    "remainder_pred = generate_remainder(loaded_model, loaded_tokenizer, test_partial)\n",
    "print(\"\\n=== PREDICTED REMAINDER ===\")\n",
    "print(remainder_pred)\n"
   ]
  },
  {
   "cell_type": "code",
   "execution_count": null,
   "metadata": {},
   "outputs": [],
   "source": []
  }
 ],
 "metadata": {
  "kernelspec": {
   "display_name": "ai-backend",
   "language": "python",
   "name": "python3"
  },
  "language_info": {
   "codemirror_mode": {
    "name": "ipython",
    "version": 3
   },
   "file_extension": ".py",
   "mimetype": "text/x-python",
   "name": "python",
   "nbconvert_exporter": "python",
   "pygments_lexer": "ipython3",
   "version": "3.9.19"
  }
 },
 "nbformat": 4,
 "nbformat_minor": 2
}
