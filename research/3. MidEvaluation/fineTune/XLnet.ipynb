{
 "cells": [
  {
   "cell_type": "code",
   "execution_count": 1,
   "metadata": {},
   "outputs": [
    {
     "name": "stdout",
     "output_type": "stream",
     "text": [
      "Requirement already satisfied: transformers in c:\\users\\dell\\anaconda3\\envs\\ai-backend\\lib\\site-packages (4.47.1)\n",
      "Requirement already satisfied: datasets in c:\\users\\dell\\anaconda3\\envs\\ai-backend\\lib\\site-packages (3.2.0)\n",
      "Requirement already satisfied: torch in c:\\users\\dell\\anaconda3\\envs\\ai-backend\\lib\\site-packages (2.5.1)\n",
      "Requirement already satisfied: filelock in c:\\users\\dell\\anaconda3\\envs\\ai-backend\\lib\\site-packages (from transformers) (3.12.2)\n",
      "Requirement already satisfied: huggingface-hub<1.0,>=0.24.0 in c:\\users\\dell\\anaconda3\\envs\\ai-backend\\lib\\site-packages (from transformers) (0.27.0)\n",
      "Requirement already satisfied: numpy>=1.17 in c:\\users\\dell\\anaconda3\\envs\\ai-backend\\lib\\site-packages (from transformers) (1.24.3)\n",
      "Requirement already satisfied: packaging>=20.0 in c:\\users\\dell\\anaconda3\\envs\\ai-backend\\lib\\site-packages (from transformers) (23.2)\n",
      "Requirement already satisfied: pyyaml>=5.1 in c:\\users\\dell\\anaconda3\\envs\\ai-backend\\lib\\site-packages (from transformers) (6.0.1)\n",
      "Requirement already satisfied: regex!=2019.12.17 in c:\\users\\dell\\anaconda3\\envs\\ai-backend\\lib\\site-packages (from transformers) (2023.6.3)\n",
      "Requirement already satisfied: requests in c:\\users\\dell\\anaconda3\\envs\\ai-backend\\lib\\site-packages (from transformers) (2.32.3)\n",
      "Requirement already satisfied: tokenizers<0.22,>=0.21 in c:\\users\\dell\\anaconda3\\envs\\ai-backend\\lib\\site-packages (from transformers) (0.21.0)\n",
      "Requirement already satisfied: safetensors>=0.4.1 in c:\\users\\dell\\anaconda3\\envs\\ai-backend\\lib\\site-packages (from transformers) (0.4.5)\n",
      "Requirement already satisfied: tqdm>=4.27 in c:\\users\\dell\\anaconda3\\envs\\ai-backend\\lib\\site-packages (from transformers) (4.67.1)\n",
      "Requirement already satisfied: pyarrow>=15.0.0 in c:\\users\\dell\\anaconda3\\envs\\ai-backend\\lib\\site-packages (from datasets) (18.1.0)\n",
      "Requirement already satisfied: dill<0.3.9,>=0.3.0 in c:\\users\\dell\\anaconda3\\envs\\ai-backend\\lib\\site-packages (from datasets) (0.3.8)\n",
      "Requirement already satisfied: pandas in c:\\users\\dell\\anaconda3\\envs\\ai-backend\\lib\\site-packages (from datasets) (1.5.3)\n",
      "Requirement already satisfied: xxhash in c:\\users\\dell\\anaconda3\\envs\\ai-backend\\lib\\site-packages (from datasets) (3.5.0)\n",
      "Requirement already satisfied: multiprocess<0.70.17 in c:\\users\\dell\\anaconda3\\envs\\ai-backend\\lib\\site-packages (from datasets) (0.70.16)\n",
      "Requirement already satisfied: fsspec<=2024.9.0,>=2023.1.0 in c:\\users\\dell\\anaconda3\\envs\\ai-backend\\lib\\site-packages (from fsspec[http]<=2024.9.0,>=2023.1.0->datasets) (2023.6.0)\n",
      "Requirement already satisfied: aiohttp in c:\\users\\dell\\anaconda3\\envs\\ai-backend\\lib\\site-packages (from datasets) (3.9.0)\n",
      "Requirement already satisfied: typing-extensions>=4.8.0 in c:\\users\\dell\\anaconda3\\envs\\ai-backend\\lib\\site-packages (from torch) (4.9.0)\n",
      "Requirement already satisfied: networkx in c:\\users\\dell\\anaconda3\\envs\\ai-backend\\lib\\site-packages (from torch) (3.1)\n",
      "Requirement already satisfied: jinja2 in c:\\users\\dell\\anaconda3\\envs\\ai-backend\\lib\\site-packages (from torch) (3.1.2)\n",
      "Requirement already satisfied: sympy==1.13.1 in c:\\users\\dell\\anaconda3\\envs\\ai-backend\\lib\\site-packages (from torch) (1.13.1)\n",
      "Requirement already satisfied: mpmath<1.4,>=1.1.0 in c:\\users\\dell\\anaconda3\\envs\\ai-backend\\lib\\site-packages (from sympy==1.13.1->torch) (1.3.0)\n",
      "Requirement already satisfied: attrs>=17.3.0 in c:\\users\\dell\\anaconda3\\envs\\ai-backend\\lib\\site-packages (from aiohttp->datasets) (23.1.0)\n",
      "Requirement already satisfied: multidict<7.0,>=4.5 in c:\\users\\dell\\anaconda3\\envs\\ai-backend\\lib\\site-packages (from aiohttp->datasets) (6.0.4)\n",
      "Requirement already satisfied: yarl<2.0,>=1.0 in c:\\users\\dell\\anaconda3\\envs\\ai-backend\\lib\\site-packages (from aiohttp->datasets) (1.9.2)\n",
      "Requirement already satisfied: frozenlist>=1.1.1 in c:\\users\\dell\\anaconda3\\envs\\ai-backend\\lib\\site-packages (from aiohttp->datasets) (1.4.0)\n",
      "Requirement already satisfied: aiosignal>=1.1.2 in c:\\users\\dell\\anaconda3\\envs\\ai-backend\\lib\\site-packages (from aiohttp->datasets) (1.3.1)\n",
      "Requirement already satisfied: async-timeout<5.0,>=4.0 in c:\\users\\dell\\anaconda3\\envs\\ai-backend\\lib\\site-packages (from aiohttp->datasets) (4.0.3)\n",
      "Requirement already satisfied: charset-normalizer<4,>=2 in c:\\users\\dell\\anaconda3\\envs\\ai-backend\\lib\\site-packages (from requests->transformers) (3.2.0)\n",
      "Requirement already satisfied: idna<4,>=2.5 in c:\\users\\dell\\anaconda3\\envs\\ai-backend\\lib\\site-packages (from requests->transformers) (3.4)\n",
      "Requirement already satisfied: urllib3<3,>=1.21.1 in c:\\users\\dell\\anaconda3\\envs\\ai-backend\\lib\\site-packages (from requests->transformers) (1.26.18)\n",
      "Requirement already satisfied: certifi>=2017.4.17 in c:\\users\\dell\\anaconda3\\envs\\ai-backend\\lib\\site-packages (from requests->transformers) (2023.11.17)\n",
      "Requirement already satisfied: colorama in c:\\users\\dell\\anaconda3\\envs\\ai-backend\\lib\\site-packages (from tqdm>=4.27->transformers) (0.4.6)\n",
      "Requirement already satisfied: MarkupSafe>=2.0 in c:\\users\\dell\\anaconda3\\envs\\ai-backend\\lib\\site-packages (from jinja2->torch) (2.1.1)\n",
      "Requirement already satisfied: python-dateutil>=2.8.1 in c:\\users\\dell\\anaconda3\\envs\\ai-backend\\lib\\site-packages (from pandas->datasets) (2.8.2)\n",
      "Requirement already satisfied: pytz>=2020.1 in c:\\users\\dell\\anaconda3\\envs\\ai-backend\\lib\\site-packages (from pandas->datasets) (2023.3)\n",
      "Requirement already satisfied: six>=1.5 in c:\\users\\dell\\anaconda3\\envs\\ai-backend\\lib\\site-packages (from python-dateutil>=2.8.1->pandas->datasets) (1.16.0)\n"
     ]
    }
   ],
   "source": [
    "!pip install transformers datasets torch\n"
   ]
  },
  {
   "cell_type": "code",
   "execution_count": 4,
   "metadata": {},
   "outputs": [
    {
     "name": "stdout",
     "output_type": "stream",
     "text": [
      "Requirement already satisfied: datasets in c:\\users\\dell\\anaconda3\\envs\\ai-backend\\lib\\site-packages (3.2.0)\n",
      "Requirement already satisfied: evaluate in c:\\users\\dell\\anaconda3\\envs\\ai-backend\\lib\\site-packages (0.4.3)\n",
      "Requirement already satisfied: filelock in c:\\users\\dell\\anaconda3\\envs\\ai-backend\\lib\\site-packages (from datasets) (3.12.2)\n",
      "Requirement already satisfied: numpy>=1.17 in c:\\users\\dell\\anaconda3\\envs\\ai-backend\\lib\\site-packages (from datasets) (1.24.3)\n",
      "Requirement already satisfied: pyarrow>=15.0.0 in c:\\users\\dell\\anaconda3\\envs\\ai-backend\\lib\\site-packages (from datasets) (18.1.0)\n",
      "Requirement already satisfied: dill<0.3.9,>=0.3.0 in c:\\users\\dell\\anaconda3\\envs\\ai-backend\\lib\\site-packages (from datasets) (0.3.8)\n",
      "Requirement already satisfied: pandas in c:\\users\\dell\\anaconda3\\envs\\ai-backend\\lib\\site-packages (from datasets) (1.5.3)\n",
      "Requirement already satisfied: requests>=2.32.2 in c:\\users\\dell\\anaconda3\\envs\\ai-backend\\lib\\site-packages (from datasets) (2.32.3)\n",
      "Requirement already satisfied: tqdm>=4.66.3 in c:\\users\\dell\\anaconda3\\envs\\ai-backend\\lib\\site-packages (from datasets) (4.67.1)\n",
      "Requirement already satisfied: xxhash in c:\\users\\dell\\anaconda3\\envs\\ai-backend\\lib\\site-packages (from datasets) (3.5.0)\n",
      "Requirement already satisfied: multiprocess<0.70.17 in c:\\users\\dell\\anaconda3\\envs\\ai-backend\\lib\\site-packages (from datasets) (0.70.16)\n",
      "Requirement already satisfied: fsspec<=2024.9.0,>=2023.1.0 in c:\\users\\dell\\anaconda3\\envs\\ai-backend\\lib\\site-packages (from fsspec[http]<=2024.9.0,>=2023.1.0->datasets) (2023.6.0)\n",
      "Requirement already satisfied: aiohttp in c:\\users\\dell\\anaconda3\\envs\\ai-backend\\lib\\site-packages (from datasets) (3.9.0)\n",
      "Requirement already satisfied: huggingface-hub>=0.23.0 in c:\\users\\dell\\anaconda3\\envs\\ai-backend\\lib\\site-packages (from datasets) (0.27.0)\n",
      "Requirement already satisfied: packaging in c:\\users\\dell\\anaconda3\\envs\\ai-backend\\lib\\site-packages (from datasets) (23.2)\n",
      "Requirement already satisfied: pyyaml>=5.1 in c:\\users\\dell\\anaconda3\\envs\\ai-backend\\lib\\site-packages (from datasets) (6.0.1)\n",
      "Requirement already satisfied: attrs>=17.3.0 in c:\\users\\dell\\anaconda3\\envs\\ai-backend\\lib\\site-packages (from aiohttp->datasets) (23.1.0)\n",
      "Requirement already satisfied: multidict<7.0,>=4.5 in c:\\users\\dell\\anaconda3\\envs\\ai-backend\\lib\\site-packages (from aiohttp->datasets) (6.0.4)\n",
      "Requirement already satisfied: yarl<2.0,>=1.0 in c:\\users\\dell\\anaconda3\\envs\\ai-backend\\lib\\site-packages (from aiohttp->datasets) (1.9.2)\n",
      "Requirement already satisfied: frozenlist>=1.1.1 in c:\\users\\dell\\anaconda3\\envs\\ai-backend\\lib\\site-packages (from aiohttp->datasets) (1.4.0)\n",
      "Requirement already satisfied: aiosignal>=1.1.2 in c:\\users\\dell\\anaconda3\\envs\\ai-backend\\lib\\site-packages (from aiohttp->datasets) (1.3.1)\n",
      "Requirement already satisfied: async-timeout<5.0,>=4.0 in c:\\users\\dell\\anaconda3\\envs\\ai-backend\\lib\\site-packages (from aiohttp->datasets) (4.0.3)\n",
      "Requirement already satisfied: typing-extensions>=3.7.4.3 in c:\\users\\dell\\anaconda3\\envs\\ai-backend\\lib\\site-packages (from huggingface-hub>=0.23.0->datasets) (4.9.0)\n",
      "Requirement already satisfied: charset-normalizer<4,>=2 in c:\\users\\dell\\anaconda3\\envs\\ai-backend\\lib\\site-packages (from requests>=2.32.2->datasets) (3.2.0)\n",
      "Requirement already satisfied: idna<4,>=2.5 in c:\\users\\dell\\anaconda3\\envs\\ai-backend\\lib\\site-packages (from requests>=2.32.2->datasets) (3.4)\n",
      "Requirement already satisfied: urllib3<3,>=1.21.1 in c:\\users\\dell\\anaconda3\\envs\\ai-backend\\lib\\site-packages (from requests>=2.32.2->datasets) (1.26.18)\n",
      "Requirement already satisfied: certifi>=2017.4.17 in c:\\users\\dell\\anaconda3\\envs\\ai-backend\\lib\\site-packages (from requests>=2.32.2->datasets) (2023.11.17)\n",
      "Requirement already satisfied: colorama in c:\\users\\dell\\anaconda3\\envs\\ai-backend\\lib\\site-packages (from tqdm>=4.66.3->datasets) (0.4.6)\n",
      "Requirement already satisfied: python-dateutil>=2.8.1 in c:\\users\\dell\\anaconda3\\envs\\ai-backend\\lib\\site-packages (from pandas->datasets) (2.8.2)\n",
      "Requirement already satisfied: pytz>=2020.1 in c:\\users\\dell\\anaconda3\\envs\\ai-backend\\lib\\site-packages (from pandas->datasets) (2023.3)\n",
      "Requirement already satisfied: six>=1.5 in c:\\users\\dell\\anaconda3\\envs\\ai-backend\\lib\\site-packages (from python-dateutil>=2.8.1->pandas->datasets) (1.16.0)\n"
     ]
    }
   ],
   "source": [
    "!pip install datasets evaluate\n"
   ]
  },
  {
   "cell_type": "code",
   "execution_count": 13,
   "metadata": {},
   "outputs": [
    {
     "data": {
      "text/plain": [
       "['Requirement already satisfied: transformers in c:\\\\users\\\\dell\\\\anaconda3\\\\envs\\\\ai-backend\\\\lib\\\\site-packages (4.47.1)',\n",
       " 'Requirement already satisfied: torch in c:\\\\users\\\\dell\\\\anaconda3\\\\envs\\\\ai-backend\\\\lib\\\\site-packages (2.5.1)',\n",
       " 'Requirement already satisfied: pandas in c:\\\\users\\\\dell\\\\anaconda3\\\\envs\\\\ai-backend\\\\lib\\\\site-packages (1.5.3)',\n",
       " 'Requirement already satisfied: filelock in c:\\\\users\\\\dell\\\\anaconda3\\\\envs\\\\ai-backend\\\\lib\\\\site-packages (from transformers) (3.12.2)',\n",
       " 'Requirement already satisfied: huggingface-hub<1.0,>=0.24.0 in c:\\\\users\\\\dell\\\\anaconda3\\\\envs\\\\ai-backend\\\\lib\\\\site-packages (from transformers) (0.27.0)',\n",
       " 'Requirement already satisfied: numpy>=1.17 in c:\\\\users\\\\dell\\\\anaconda3\\\\envs\\\\ai-backend\\\\lib\\\\site-packages (from transformers) (1.24.3)',\n",
       " 'Requirement already satisfied: packaging>=20.0 in c:\\\\users\\\\dell\\\\anaconda3\\\\envs\\\\ai-backend\\\\lib\\\\site-packages (from transformers) (23.2)',\n",
       " 'Requirement already satisfied: pyyaml>=5.1 in c:\\\\users\\\\dell\\\\anaconda3\\\\envs\\\\ai-backend\\\\lib\\\\site-packages (from transformers) (6.0.1)',\n",
       " 'Requirement already satisfied: regex!=2019.12.17 in c:\\\\users\\\\dell\\\\anaconda3\\\\envs\\\\ai-backend\\\\lib\\\\site-packages (from transformers) (2023.6.3)',\n",
       " 'Requirement already satisfied: requests in c:\\\\users\\\\dell\\\\anaconda3\\\\envs\\\\ai-backend\\\\lib\\\\site-packages (from transformers) (2.32.3)',\n",
       " 'Requirement already satisfied: tokenizers<0.22,>=0.21 in c:\\\\users\\\\dell\\\\anaconda3\\\\envs\\\\ai-backend\\\\lib\\\\site-packages (from transformers) (0.21.0)',\n",
       " 'Requirement already satisfied: safetensors>=0.4.1 in c:\\\\users\\\\dell\\\\anaconda3\\\\envs\\\\ai-backend\\\\lib\\\\site-packages (from transformers) (0.4.5)',\n",
       " 'Requirement already satisfied: tqdm>=4.27 in c:\\\\users\\\\dell\\\\anaconda3\\\\envs\\\\ai-backend\\\\lib\\\\site-packages (from transformers) (4.67.1)',\n",
       " 'Requirement already satisfied: typing-extensions>=4.8.0 in c:\\\\users\\\\dell\\\\anaconda3\\\\envs\\\\ai-backend\\\\lib\\\\site-packages (from torch) (4.9.0)',\n",
       " 'Requirement already satisfied: networkx in c:\\\\users\\\\dell\\\\anaconda3\\\\envs\\\\ai-backend\\\\lib\\\\site-packages (from torch) (3.1)',\n",
       " 'Requirement already satisfied: jinja2 in c:\\\\users\\\\dell\\\\anaconda3\\\\envs\\\\ai-backend\\\\lib\\\\site-packages (from torch) (3.1.2)',\n",
       " 'Requirement already satisfied: fsspec in c:\\\\users\\\\dell\\\\anaconda3\\\\envs\\\\ai-backend\\\\lib\\\\site-packages (from torch) (2023.6.0)',\n",
       " 'Requirement already satisfied: sympy==1.13.1 in c:\\\\users\\\\dell\\\\anaconda3\\\\envs\\\\ai-backend\\\\lib\\\\site-packages (from torch) (1.13.1)',\n",
       " 'Requirement already satisfied: mpmath<1.4,>=1.1.0 in c:\\\\users\\\\dell\\\\anaconda3\\\\envs\\\\ai-backend\\\\lib\\\\site-packages (from sympy==1.13.1->torch) (1.3.0)',\n",
       " 'Requirement already satisfied: python-dateutil>=2.8.1 in c:\\\\users\\\\dell\\\\anaconda3\\\\envs\\\\ai-backend\\\\lib\\\\site-packages (from pandas) (2.8.2)',\n",
       " 'Requirement already satisfied: pytz>=2020.1 in c:\\\\users\\\\dell\\\\anaconda3\\\\envs\\\\ai-backend\\\\lib\\\\site-packages (from pandas) (2023.3)',\n",
       " 'Requirement already satisfied: six>=1.5 in c:\\\\users\\\\dell\\\\anaconda3\\\\envs\\\\ai-backend\\\\lib\\\\site-packages (from python-dateutil>=2.8.1->pandas) (1.16.0)',\n",
       " 'Requirement already satisfied: colorama in c:\\\\users\\\\dell\\\\anaconda3\\\\envs\\\\ai-backend\\\\lib\\\\site-packages (from tqdm>=4.27->transformers) (0.4.6)',\n",
       " 'Requirement already satisfied: MarkupSafe>=2.0 in c:\\\\users\\\\dell\\\\anaconda3\\\\envs\\\\ai-backend\\\\lib\\\\site-packages (from jinja2->torch) (2.1.1)',\n",
       " 'Requirement already satisfied: charset-normalizer<4,>=2 in c:\\\\users\\\\dell\\\\anaconda3\\\\envs\\\\ai-backend\\\\lib\\\\site-packages (from requests->transformers) (3.2.0)',\n",
       " 'Requirement already satisfied: idna<4,>=2.5 in c:\\\\users\\\\dell\\\\anaconda3\\\\envs\\\\ai-backend\\\\lib\\\\site-packages (from requests->transformers) (3.4)',\n",
       " 'Requirement already satisfied: urllib3<3,>=1.21.1 in c:\\\\users\\\\dell\\\\anaconda3\\\\envs\\\\ai-backend\\\\lib\\\\site-packages (from requests->transformers) (1.26.18)',\n",
       " 'Requirement already satisfied: certifi>=2017.4.17 in c:\\\\users\\\\dell\\\\anaconda3\\\\envs\\\\ai-backend\\\\lib\\\\site-packages (from requests->transformers) (2023.11.17)']"
      ]
     },
     "execution_count": 13,
     "metadata": {},
     "output_type": "execute_result"
    }
   ],
   "source": [
    "!pip install transformers torch pandas\n"
   ]
  },
  {
   "cell_type": "code",
   "execution_count": 1,
   "metadata": {},
   "outputs": [
    {
     "name": "stderr",
     "output_type": "stream",
     "text": [
      "c:\\Users\\DELL\\anaconda3\\envs\\ai-backend\\lib\\site-packages\\tqdm\\auto.py:21: TqdmWarning: IProgress not found. Please update jupyter and ipywidgets. See https://ipywidgets.readthedocs.io/en/stable/user_install.html\n",
      "  from .autonotebook import tqdm as notebook_tqdm\n",
      "c:\\Users\\DELL\\anaconda3\\envs\\ai-backend\\lib\\site-packages\\torchvision\\io\\image.py:13: UserWarning: Failed to load image Python extension: '[WinError 127] The specified procedure could not be found'If you don't plan on using image functionality from `torchvision.io`, you can ignore this warning. Otherwise, there might be something wrong with your environment. Did you have `libjpeg` or `libpng` installed before building `torchvision` from source?\n",
      "  warn(\n"
     ]
    },
    {
     "name": "stdout",
     "output_type": "stream",
     "text": [
      "WARNING:tensorflow:From c:\\Users\\DELL\\anaconda3\\envs\\ai-backend\\lib\\site-packages\\keras\\src\\losses.py:2976: The name tf.losses.sparse_softmax_cross_entropy is deprecated. Please use tf.compat.v1.losses.sparse_softmax_cross_entropy instead.\n",
      "\n"
     ]
    }
   ],
   "source": [
    "import pandas as pd\n",
    "from transformers import XLNetTokenizer, XLNetLMHeadModel, Trainer, TrainingArguments\n",
    "from torch.utils.data import Dataset, DataLoader\n"
   ]
  },
  {
   "cell_type": "code",
   "execution_count": 2,
   "metadata": {},
   "outputs": [],
   "source": [
    "\n",
    "class ConversationDataset(Dataset):\n",
    "    def __init__(self, tokenizer, filepath, max_len=512):\n",
    "        self.tokenizer = tokenizer\n",
    "        self.data = pd.read_csv(filepath)\n",
    "        self.max_len = max_len\n",
    "        self.conversations = self._prepare_data()\n",
    "\n",
    "    def _prepare_data(self):\n",
    "        # Group and create full and partial texts\n",
    "        conversations = []\n",
    "        grouped = self.data.groupby('CONVERSATION_ID')\n",
    "        for _, group in grouped:\n",
    "            group = group.sort_values(by='CONVERSATION_STEP')\n",
    "            full_text = \" \".join(group['TEXT'].tolist())\n",
    "            partial_index = int(len(group) * 0.5)  # Using 50% of the conversation as partial\n",
    "            partial_text = \" \".join(group['TEXT'].iloc[:partial_index].tolist())\n",
    "            conversations.append({'partial': partial_text, 'full': full_text})\n",
    "        return conversations\n",
    "\n",
    "    def __len__(self):\n",
    "        return len(self.conversations)\n",
    "\n",
    "    def __getitem__(self, idx):\n",
    "        conversation = self.conversations[idx]\n",
    "        encoded_input = self.tokenizer(\n",
    "            conversation['partial'],\n",
    "            max_length=self.max_len,\n",
    "            padding='max_length',\n",
    "            truncation=True,\n",
    "            return_tensors='pt'\n",
    "        )\n",
    "        encoded_labels = self.tokenizer(\n",
    "            conversation['full'],\n",
    "            max_length=self.max_len,\n",
    "            padding='max_length',\n",
    "            truncation=True,\n",
    "            return_tensors='pt'\n",
    "        )\n",
    "        # `input_ids` as labels for language modeling (XLNet auto-regression)\n",
    "        return {\n",
    "            'input_ids': encoded_input.input_ids.squeeze(),\n",
    "            'attention_mask': encoded_input.attention_mask.squeeze(),\n",
    "            'labels': encoded_labels.input_ids.squeeze()\n",
    "        }\n",
    "\n",
    "# Usage\n",
    "tokenizer = XLNetTokenizer.from_pretrained('xlnet-base-cased')\n",
    "csv_path = \"C:/Users/DELL/Desktop/VOIP_Phishing_Attacks/Repos/convoPredict/conversation-prediction/FINAL_DATASET2.csv\"\n",
    "dataset = ConversationDataset(tokenizer, csv_path)\n"
   ]
  },
  {
   "cell_type": "code",
   "execution_count": 4,
   "metadata": {},
   "outputs": [],
   "source": [
    "model = XLNetLMHeadModel.from_pretrained('xlnet-base-cased')\n"
   ]
  },
  {
   "cell_type": "code",
   "execution_count": 5,
   "metadata": {},
   "outputs": [
    {
     "name": "stderr",
     "output_type": "stream",
     "text": [
      " 18%|█▊        | 10/57 [11:07<1:05:00, 82.99s/it]"
     ]
    },
    {
     "name": "stdout",
     "output_type": "stream",
     "text": [
      "{'loss': 13.6548, 'grad_norm': 231.1257781982422, 'learning_rate': 1.0000000000000002e-06, 'epoch': 0.53}\n"
     ]
    },
    {
     "name": "stderr",
     "output_type": "stream",
     "text": [
      " 35%|███▌      | 20/57 [23:21<46:27, 75.33s/it]  "
     ]
    },
    {
     "name": "stdout",
     "output_type": "stream",
     "text": [
      "{'loss': 12.682, 'grad_norm': 117.57601165771484, 'learning_rate': 2.0000000000000003e-06, 'epoch': 1.05}\n"
     ]
    },
    {
     "name": "stderr",
     "output_type": "stream",
     "text": [
      " 53%|█████▎    | 30/57 [34:55<29:52, 66.39s/it]"
     ]
    },
    {
     "name": "stdout",
     "output_type": "stream",
     "text": [
      "{'loss': 11.0163, 'grad_norm': 65.33290100097656, 'learning_rate': 3e-06, 'epoch': 1.58}\n"
     ]
    },
    {
     "name": "stderr",
     "output_type": "stream",
     "text": [
      " 70%|███████   | 40/57 [47:20<18:25, 65.05s/it] "
     ]
    },
    {
     "name": "stdout",
     "output_type": "stream",
     "text": [
      "{'loss': 9.5867, 'grad_norm': 42.49066925048828, 'learning_rate': 4.000000000000001e-06, 'epoch': 2.11}\n"
     ]
    },
    {
     "name": "stderr",
     "output_type": "stream",
     "text": [
      " 88%|████████▊ | 50/57 [59:28<07:58, 68.34s/it] "
     ]
    },
    {
     "name": "stdout",
     "output_type": "stream",
     "text": [
      "{'loss': 8.2404, 'grad_norm': 51.6396598815918, 'learning_rate': 5e-06, 'epoch': 2.63}\n"
     ]
    },
    {
     "name": "stderr",
     "output_type": "stream",
     "text": [
      "100%|██████████| 57/57 [1:06:32<00:00, 70.05s/it]"
     ]
    },
    {
     "name": "stdout",
     "output_type": "stream",
     "text": [
      "{'train_runtime': 3991.066, 'train_samples_per_second': 0.057, 'train_steps_per_second': 0.014, 'train_loss': 10.552279355233175, 'epoch': 3.0}\n"
     ]
    },
    {
     "name": "stderr",
     "output_type": "stream",
     "text": [
      "\n"
     ]
    },
    {
     "data": {
      "text/plain": [
       "TrainOutput(global_step=57, training_loss=10.552279355233175, metrics={'train_runtime': 3991.066, 'train_samples_per_second': 0.057, 'train_steps_per_second': 0.014, 'total_flos': 64560379723776.0, 'train_loss': 10.552279355233175, 'epoch': 3.0})"
      ]
     },
     "execution_count": 5,
     "metadata": {},
     "output_type": "execute_result"
    }
   ],
   "source": [
    "training_args = TrainingArguments(\n",
    "    output_dir='./results',          # output directory\n",
    "    num_train_epochs=3,              # number of training epochs\n",
    "    per_device_train_batch_size=4,   # batch size for training\n",
    "    per_device_eval_batch_size=16,   # batch size for evaluation\n",
    "    warmup_steps=500,                # number of warmup steps for learning rate scheduler\n",
    "    weight_decay=0.01,               # strength of weight decay\n",
    "    logging_dir='./logs',            # directory for storing logs\n",
    "    logging_steps=10,\n",
    ")\n",
    "\n",
    "trainer = Trainer(\n",
    "    model=model,\n",
    "    args=training_args,\n",
    "    train_dataset=dataset,\n",
    ")\n",
    "\n",
    "trainer.train()\n"
   ]
  },
  {
   "cell_type": "code",
   "execution_count": 6,
   "metadata": {},
   "outputs": [
    {
     "data": {
      "text/plain": [
       "('./xlnet_finetuned\\\\tokenizer_config.json',\n",
       " './xlnet_finetuned\\\\special_tokens_map.json',\n",
       " './xlnet_finetuned\\\\spiece.model',\n",
       " './xlnet_finetuned\\\\added_tokens.json')"
      ]
     },
     "execution_count": 6,
     "metadata": {},
     "output_type": "execute_result"
    }
   ],
   "source": [
    "model.save_pretrained('./xlnet_finetuned')\n",
    "tokenizer.save_pretrained('./xlnet_finetuned')\n"
   ]
  },
  {
   "cell_type": "code",
   "execution_count": null,
   "metadata": {},
   "outputs": [],
   "source": []
  },
  {
   "cell_type": "code",
   "execution_count": 20,
   "metadata": {},
   "outputs": [],
   "source": []
  },
  {
   "cell_type": "code",
   "execution_count": null,
   "metadata": {},
   "outputs": [],
   "source": []
  }
 ],
 "metadata": {
  "kernelspec": {
   "display_name": "ai-backend",
   "language": "python",
   "name": "python3"
  },
  "language_info": {
   "codemirror_mode": {
    "name": "ipython",
    "version": 3
   },
   "file_extension": ".py",
   "mimetype": "text/x-python",
   "name": "python",
   "nbconvert_exporter": "python",
   "pygments_lexer": "ipython3",
   "version": "3.9.19"
  }
 },
 "nbformat": 4,
 "nbformat_minor": 2
}
