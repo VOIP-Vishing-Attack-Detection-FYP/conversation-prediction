{
 "cells": [
  {
   "cell_type": "code",
   "execution_count": 3,
   "metadata": {},
   "outputs": [
    {
     "name": "stderr",
     "output_type": "stream",
     "text": [
      "This is a friendly reminder - the current text generation call will exceed the model's predefined maximum length (-1). Depending on the model, you may observe exceptions, performance degradation, or nothing at all.\n"
     ]
    },
    {
     "name": "stdout",
     "output_type": "stream",
     "text": [
      "Input: Hello, this is the assistant. How can I assist you today?\n",
      "Generated: Hello, this is the assistant. How can I assist you today?ssssssssssssssssssssssssssssssssssssssssssssssssss\n",
      "\n",
      "Input: I'm interested in booking a flight to New York.\n",
      "Generated: I'm interested in booking a flight to New York.iorioriorporporporiorioriorioriorioriorioriorioriorioriorioriorioriorioriorioriorioriorioriorioriorioriorioriorioriorioriorioriorioriorioriorioriorior\n",
      "\n"
     ]
    }
   ],
   "source": [
    "# Import necessary libraries\n",
    "import torch\n",
    "from transformers import XLNetTokenizer, XLNetLMHeadModel\n",
    "from torch.utils.data import Dataset, DataLoader\n",
    "\n",
    "# Load the fine-tuned model and tokenizer\n",
    "model_path = './xlnet_finetuned'\n",
    "tokenizer = XLNetTokenizer.from_pretrained(model_path)\n",
    "model = XLNetLMHeadModel.from_pretrained(model_path)\n",
    "model.eval()\n",
    "model.to('cuda' if torch.cuda.is_available() else 'cpu')\n",
    "\n",
    "# Define a dataset for handling input data for predictions\n",
    "class InputDataset(Dataset):\n",
    "    def __init__(self, tokenizer, texts, max_len=512):\n",
    "        self.tokenizer = tokenizer\n",
    "        self.texts = texts\n",
    "        self.max_len = max_len\n",
    "\n",
    "    def __len__(self):\n",
    "        return len(self.texts)\n",
    "\n",
    "    def __getitem__(self, idx):\n",
    "        text = self.texts[idx]\n",
    "        inputs = self.tokenizer.encode_plus(\n",
    "            text,\n",
    "            None,\n",
    "            add_special_tokens=True,\n",
    "            max_length=self.max_len,\n",
    "            padding='max_length',\n",
    "            truncation=True,\n",
    "            return_tensors='pt'\n",
    "        )\n",
    "        return inputs['input_ids'].squeeze(0), inputs['attention_mask'].squeeze(0)\n",
    "\n",
    "# Sample data for prediction\n",
    "sample_texts = [\n",
    "    \"Hello, this is the assistant. How can I assist you today?\",\n",
    "    \"I'm interested in booking a flight to New York.\"\n",
    "]\n",
    "\n",
    "# Create dataset and dataloader\n",
    "input_dataset = InputDataset(tokenizer, sample_texts)\n",
    "input_dataloader = DataLoader(input_dataset, batch_size=2)\n",
    "\n",
    "# Generate predictions\n",
    "for batch in input_dataloader:\n",
    "    input_ids, attention_mask = batch\n",
    "    input_ids = input_ids.to('cuda' if torch.cuda.is_available() else 'cpu')\n",
    "    attention_mask = attention_mask.to('cuda' if torch.cuda.is_available() else 'cpu')\n",
    "\n",
    "    with torch.no_grad():\n",
    "        # Set max_new_tokens to generate a fixed number of tokens beyond the input\n",
    "        outputs = model.generate(\n",
    "            input_ids, \n",
    "            attention_mask=attention_mask, \n",
    "            max_new_tokens=50  # generate up to 50 new tokens beyond the length of input_ids\n",
    "        )\n",
    "        for i, output in enumerate(outputs):\n",
    "            print(f\"Input: {sample_texts[i]}\")\n",
    "            print(f\"Generated: {tokenizer.decode(output, skip_special_tokens=True)}\\n\")\n",
    "\n"
   ]
  },
  {
   "cell_type": "code",
   "execution_count": null,
   "metadata": {},
   "outputs": [],
   "source": []
  }
 ],
 "metadata": {
  "kernelspec": {
   "display_name": "ai-backend",
   "language": "python",
   "name": "python3"
  },
  "language_info": {
   "codemirror_mode": {
    "name": "ipython",
    "version": 3
   },
   "file_extension": ".py",
   "mimetype": "text/x-python",
   "name": "python",
   "nbconvert_exporter": "python",
   "pygments_lexer": "ipython3",
   "version": "3.9.19"
  }
 },
 "nbformat": 4,
 "nbformat_minor": 2
}
