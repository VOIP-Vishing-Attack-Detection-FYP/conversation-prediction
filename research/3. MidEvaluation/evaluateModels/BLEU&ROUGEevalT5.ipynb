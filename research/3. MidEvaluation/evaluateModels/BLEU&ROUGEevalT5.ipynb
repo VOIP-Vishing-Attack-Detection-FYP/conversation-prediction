{
 "cells": [
  {
   "cell_type": "code",
   "execution_count": 3,
   "metadata": {},
   "outputs": [
    {
     "name": "stdout",
     "output_type": "stream",
     "text": [
      "Collecting rouge\n",
      "  Downloading rouge-1.0.1-py3-none-any.whl.metadata (4.1 kB)\n",
      "Requirement already satisfied: six in c:\\users\\dell\\anaconda3\\envs\\ai-backend\\lib\\site-packages (from rouge) (1.16.0)\n",
      "Downloading rouge-1.0.1-py3-none-any.whl (13 kB)\n",
      "Installing collected packages: rouge\n",
      "Successfully installed rouge-1.0.1\n"
     ]
    }
   ],
   "source": [
    "!pip install rouge"
   ]
  },
  {
   "cell_type": "code",
   "execution_count": 8,
   "metadata": {},
   "outputs": [],
   "source": [
    "# =========================================\n",
    "# 1) Imports\n",
    "# =========================================\n",
    "import pandas as pd\n",
    "import torch\n",
    "from transformers import T5Tokenizer, T5ForConditionalGeneration\n",
    "from nltk.translate.bleu_score import sentence_bleu, SmoothingFunction\n",
    "from rouge import Rouge\n",
    "import matplotlib.pyplot as plt"
   ]
  },
  {
   "cell_type": "code",
   "execution_count": 9,
   "metadata": {},
   "outputs": [
    {
     "data": {
      "text/plain": [
       "T5ForConditionalGeneration(\n",
       "  (shared): Embedding(32128, 512)\n",
       "  (encoder): T5Stack(\n",
       "    (embed_tokens): Embedding(32128, 512)\n",
       "    (block): ModuleList(\n",
       "      (0): T5Block(\n",
       "        (layer): ModuleList(\n",
       "          (0): T5LayerSelfAttention(\n",
       "            (SelfAttention): T5Attention(\n",
       "              (q): Linear(in_features=512, out_features=512, bias=False)\n",
       "              (k): Linear(in_features=512, out_features=512, bias=False)\n",
       "              (v): Linear(in_features=512, out_features=512, bias=False)\n",
       "              (o): Linear(in_features=512, out_features=512, bias=False)\n",
       "              (relative_attention_bias): Embedding(32, 8)\n",
       "            )\n",
       "            (layer_norm): T5LayerNorm()\n",
       "            (dropout): Dropout(p=0.1, inplace=False)\n",
       "          )\n",
       "          (1): T5LayerFF(\n",
       "            (DenseReluDense): T5DenseActDense(\n",
       "              (wi): Linear(in_features=512, out_features=2048, bias=False)\n",
       "              (wo): Linear(in_features=2048, out_features=512, bias=False)\n",
       "              (dropout): Dropout(p=0.1, inplace=False)\n",
       "              (act): ReLU()\n",
       "            )\n",
       "            (layer_norm): T5LayerNorm()\n",
       "            (dropout): Dropout(p=0.1, inplace=False)\n",
       "          )\n",
       "        )\n",
       "      )\n",
       "      (1-5): 5 x T5Block(\n",
       "        (layer): ModuleList(\n",
       "          (0): T5LayerSelfAttention(\n",
       "            (SelfAttention): T5Attention(\n",
       "              (q): Linear(in_features=512, out_features=512, bias=False)\n",
       "              (k): Linear(in_features=512, out_features=512, bias=False)\n",
       "              (v): Linear(in_features=512, out_features=512, bias=False)\n",
       "              (o): Linear(in_features=512, out_features=512, bias=False)\n",
       "            )\n",
       "            (layer_norm): T5LayerNorm()\n",
       "            (dropout): Dropout(p=0.1, inplace=False)\n",
       "          )\n",
       "          (1): T5LayerFF(\n",
       "            (DenseReluDense): T5DenseActDense(\n",
       "              (wi): Linear(in_features=512, out_features=2048, bias=False)\n",
       "              (wo): Linear(in_features=2048, out_features=512, bias=False)\n",
       "              (dropout): Dropout(p=0.1, inplace=False)\n",
       "              (act): ReLU()\n",
       "            )\n",
       "            (layer_norm): T5LayerNorm()\n",
       "            (dropout): Dropout(p=0.1, inplace=False)\n",
       "          )\n",
       "        )\n",
       "      )\n",
       "    )\n",
       "    (final_layer_norm): T5LayerNorm()\n",
       "    (dropout): Dropout(p=0.1, inplace=False)\n",
       "  )\n",
       "  (decoder): T5Stack(\n",
       "    (embed_tokens): Embedding(32128, 512)\n",
       "    (block): ModuleList(\n",
       "      (0): T5Block(\n",
       "        (layer): ModuleList(\n",
       "          (0): T5LayerSelfAttention(\n",
       "            (SelfAttention): T5Attention(\n",
       "              (q): Linear(in_features=512, out_features=512, bias=False)\n",
       "              (k): Linear(in_features=512, out_features=512, bias=False)\n",
       "              (v): Linear(in_features=512, out_features=512, bias=False)\n",
       "              (o): Linear(in_features=512, out_features=512, bias=False)\n",
       "              (relative_attention_bias): Embedding(32, 8)\n",
       "            )\n",
       "            (layer_norm): T5LayerNorm()\n",
       "            (dropout): Dropout(p=0.1, inplace=False)\n",
       "          )\n",
       "          (1): T5LayerCrossAttention(\n",
       "            (EncDecAttention): T5Attention(\n",
       "              (q): Linear(in_features=512, out_features=512, bias=False)\n",
       "              (k): Linear(in_features=512, out_features=512, bias=False)\n",
       "              (v): Linear(in_features=512, out_features=512, bias=False)\n",
       "              (o): Linear(in_features=512, out_features=512, bias=False)\n",
       "            )\n",
       "            (layer_norm): T5LayerNorm()\n",
       "            (dropout): Dropout(p=0.1, inplace=False)\n",
       "          )\n",
       "          (2): T5LayerFF(\n",
       "            (DenseReluDense): T5DenseActDense(\n",
       "              (wi): Linear(in_features=512, out_features=2048, bias=False)\n",
       "              (wo): Linear(in_features=2048, out_features=512, bias=False)\n",
       "              (dropout): Dropout(p=0.1, inplace=False)\n",
       "              (act): ReLU()\n",
       "            )\n",
       "            (layer_norm): T5LayerNorm()\n",
       "            (dropout): Dropout(p=0.1, inplace=False)\n",
       "          )\n",
       "        )\n",
       "      )\n",
       "      (1-5): 5 x T5Block(\n",
       "        (layer): ModuleList(\n",
       "          (0): T5LayerSelfAttention(\n",
       "            (SelfAttention): T5Attention(\n",
       "              (q): Linear(in_features=512, out_features=512, bias=False)\n",
       "              (k): Linear(in_features=512, out_features=512, bias=False)\n",
       "              (v): Linear(in_features=512, out_features=512, bias=False)\n",
       "              (o): Linear(in_features=512, out_features=512, bias=False)\n",
       "            )\n",
       "            (layer_norm): T5LayerNorm()\n",
       "            (dropout): Dropout(p=0.1, inplace=False)\n",
       "          )\n",
       "          (1): T5LayerCrossAttention(\n",
       "            (EncDecAttention): T5Attention(\n",
       "              (q): Linear(in_features=512, out_features=512, bias=False)\n",
       "              (k): Linear(in_features=512, out_features=512, bias=False)\n",
       "              (v): Linear(in_features=512, out_features=512, bias=False)\n",
       "              (o): Linear(in_features=512, out_features=512, bias=False)\n",
       "            )\n",
       "            (layer_norm): T5LayerNorm()\n",
       "            (dropout): Dropout(p=0.1, inplace=False)\n",
       "          )\n",
       "          (2): T5LayerFF(\n",
       "            (DenseReluDense): T5DenseActDense(\n",
       "              (wi): Linear(in_features=512, out_features=2048, bias=False)\n",
       "              (wo): Linear(in_features=2048, out_features=512, bias=False)\n",
       "              (dropout): Dropout(p=0.1, inplace=False)\n",
       "              (act): ReLU()\n",
       "            )\n",
       "            (layer_norm): T5LayerNorm()\n",
       "            (dropout): Dropout(p=0.1, inplace=False)\n",
       "          )\n",
       "        )\n",
       "      )\n",
       "    )\n",
       "    (final_layer_norm): T5LayerNorm()\n",
       "    (dropout): Dropout(p=0.1, inplace=False)\n",
       "  )\n",
       "  (lm_head): Linear(in_features=512, out_features=32128, bias=False)\n",
       ")"
      ]
     },
     "execution_count": 9,
     "metadata": {},
     "output_type": "execute_result"
    }
   ],
   "source": [
    "# =========================================\n",
    "# 2) Load Saved Model and Tokenizer\n",
    "# =========================================\n",
    "model_path = \"C:/Users/DELL/Desktop/VOIP_Phishing_Attacks/Repos/convoPredict/conversation-prediction/research/3. MidEvaluation/fineTune/t5_finetuned_conversation\"  # Update this path if your model is stored elsewhere\n",
    "tokenizer = T5Tokenizer.from_pretrained(model_path)\n",
    "model = T5ForConditionalGeneration.from_pretrained(model_path)\n",
    "model.to('cuda' if torch.cuda.is_available() else 'cpu')"
   ]
  },
  {
   "cell_type": "code",
   "execution_count": 10,
   "metadata": {},
   "outputs": [],
   "source": [
    "# =========================================\n",
    "# 3) Load Test Data\n",
    "# =========================================\n",
    "test_data_path = \"C:/Users/DELL/Desktop/VOIP_Phishing_Attacks/Repos/convoPredict/conversation-prediction/testdataset.csv\"\n",
    "test_data = pd.read_csv(test_data_path)\n"
   ]
  },
  {
   "cell_type": "code",
   "execution_count": 11,
   "metadata": {},
   "outputs": [],
   "source": [
    "# =========================================\n",
    "# 4) Prepare Data\n",
    "# =========================================\n",
    "def prepare_data(test_data):\n",
    "    # Assuming CONVERSATION_ID and CONVERSATION_STEP are columns in your CSV\n",
    "    test_data = test_data.sort_values(by=['CONVERSATION_ID', 'CONVERSATION_STEP'])\n",
    "    conversations = test_data.groupby('CONVERSATION_ID')['TEXT'].agg(lambda txt: ' '.join(txt)).tolist()\n",
    "    return conversations\n",
    "\n",
    "test_conversations = prepare_data(test_data)"
   ]
  },
  {
   "cell_type": "code",
   "execution_count": 12,
   "metadata": {},
   "outputs": [
    {
     "data": {
      "text/plain": [
       "[\"Hello, I need help with my bank account. Sure, I can help you with that. Can you please provide your account number? My account number is 12345678. Thank you. Can you also provide your PIN? My PIN is 1234. Thank you. Please hold on while I verify your information. Okay, I'll wait. Wait, how do I know this is really my bank? I assure you, this is a legitimate call. You can check the number we are calling from. Alright, the number does match my bank's number. Great, now please provide your account number and PIN. Here is my account number: 12345678 and my PIN: 1234. Thank you. Your account is now secure. I'm glad to hear that. Thank you for your help. You're welcome. Have a nice day.\",\n",
       " 'Hi, I received a message about a package delivery. Yes, we have a package for you. Can you confirm your address? Sure, my address is 123 Main St. Thank you. Your package will be delivered tomorrow. Great, thank you!',\n",
       " \"Hello, this is Amazon customer service. We have seen a recent order number AMZ-0987 for an iPhone 11 Pro on your account. Wait, I didn't order an iPhone 11 Pro. What's going on? This order was billed to your card for $1499. We noticed some suspicious activity, so we have put a hold on this transaction. That doesn't seem right. I haven't made any purchases like that. To cancel this transaction, please press 1 now. If you wish to report fraud, press 2. I think I need to check my account directly. Can you verify which card was used? For security reasons, we cannot provide that over the call. Please verify your details first. I will contact Amazon customer service directly. Thank you. Sir, if you do not act now, this transaction may go through. No, I will check my account myself. Goodbye.\",\n",
       " \"Hello, this is HMRC. A criminal case has been registered under your name for tax fraud and tax evasion. Wait, what? A criminal case? That doesn't make sense. Yes, sir. There is also a warrant out for your arrest. A warrant for my arrest? Are you serious? This is a recordable line, sir. I have to play this recording in the courthouse, so we don't need any interruptions in this call. Wait, this is going to be played in court? Yes, sir. The recording will be played in the courthouse. This doesn't sound right. How much do I supposedly owe? There has been an automatic miscalculation of £1,693 under your name. That's odd—I always pay my taxes on time. At this point, you have two options. Your first option is to go to court and fight the case. If you are found guilty, you will have to pay penalties and face legal action. And what's the second option? You can resolve this matter out of court by making the payment today. I don't think this is legitimate. I will contact HMRC directly. Sir, if you don't act now, the legal process will begin, and you could be arrested. I'll take my chances. Goodbye.\",\n",
       " \"You have reached the Department of National Crime Agency. How can I help you? Uh, I got a message saying that there is some problem with my National Insurance number. Okay, when did you receive the call? I got it yesterday. First of all, let me introduce myself. My name is Officer Season, Charlie Alpha 6581. Alright... and what exactly is the issue? Before we proceed, did you receive any reference number in the message? No, I don't think so. Alright. We have identified suspicious activities linked to your National Insurance number, which may result in legal action. Wait, what kind of suspicious activities? It appears your National Insurance number has been used in fraudulent transactions. That doesn't make sense. I haven't done anything illegal. Sir, if you don't act now, your National Insurance number may be suspended, and legal action may follow. I don't think this is real. I will contact the official National Insurance helpline. If you do not cooperate, you may face consequences. This is your final warning. I'm not falling for this. Goodbye.\",\n",
       " \"Yeah, hi. Can I speak to you? Uh, yeah. Who is this? He was trying to reach you for the last couple of days but didn't get a hold of you. Who was trying to reach me? The reason I was trying to phone you, sir, is because for the last two days, we have been receiving notifications from your email. Notifications? What kind of notifications? Somebody has been trying to access your email from China. Wait, from China? That doesn't sound right. Yes, from China. Do you know anybody there? No, I don't. How do you even know this? We are connected to global security databases, and your email was flagged. I don't believe this. Which email are you talking about? For security reasons, I can't provide details until we verify your identity. That doesn't make sense. I will check my email myself. Sir, if you don't act now, your email could be compromised. I'm not falling for this. Goodbye.\",\n",
       " \"Thank you for calling customer support. You are speaking to [Agent Name]. How can I help you? Um, hi. I have a message on my screen that says my computer is blocked for security reasons. Okay, I understand. Has this happened before, or is this the first time you're seeing this? I've never seen anything like this before. Alright. Can you tell me what you were doing on your computer when you got this message? I was clicking on some links I came across on Facebook. After I clicked on one, I got this warning. I'm not sure exactly what I clicked on. I see. It's possible that you clicked on a malicious link. Do you see any specific error code or instructions on the screen? Yes, it says something about 'security risk detected' and tells me to call a number. Alright, that sounds like a potential scam message. Please do not call the number. Let's try clearing your browser cache and running a security scan. Oh, okay. That makes sense. What should I do first? Let's start by closing the pop-up. If it won't close, try pressing 'Ctrl + Alt + Delete' and opening Task Manager to end the browser process. Got it. I'll try that now. Once that's done, restart your computer and run a full security scan using your antivirus software. Okay, I'll do that. Thank you for your help. You're welcome! If you need any further assistance, feel free to call us back. Have a great day!\",\n",
       " \"Thank you for calling customer support. How can I help you? Yes, I got an email and text earlier today saying a purchase of $1,160 was made using my debit card. I understand. Did the email provide a specific order number or any details? Yes, it said something about Bitcoin, but I never ordered that. I can check that for you. Did you share your email or password with anyone? No, I haven't. Alright, let me look into this. Please hold for a moment. Thank you. I have checked your account. There is no unauthorized transaction. The email may be a phishing attempt. Do not click any links or call the number. Oh, I see. Thank you for checking. You're welcome! Let us know if you need further assistance.\",\n",
       " \"Hello, miss. Welcome to Amazon. How can I help you today? Uh, I got an email with an invoice for a Dell Inspiron laptop for $598. I don't remember ordering this. That could be an unauthorized order. I need your first and last name to check for you. Okay, my first name is [REDACTED], last name is [REDACTED]. Hold on the line while I check your account. Alright. I see the order here. To cancel, we need to verify your payment method. Please log into your bank and check your transactions. Wait, why do I need to log into my bank? It is for security verification. We need to ensure your funds are safe. I don't feel comfortable doing that. I'll contact Amazon directly. If you don't act now, the charge may go through. No thanks, I'm hanging up.\",\n",
       " \"Thanks for getting connected to the cancellation department. This is [Agent Name]. How are you today? Hi, I received an invoice this morning saying I'm being charged $389 for McAfee Total Protection. Where did you receive this email? On your computer or phone? I got it in my email. Did you authorize this subscription? No, I don't even know what McAfee Total Protection is. McAfee is a utility software for security. But no worries, I can cancel this for you. Okay, so what do I need to do? I just need you to install a verification tool on your computer to proceed. Wait, what kind of tool? It's just a security tool to confirm your identity. It will help process your refund. I don't feel comfortable with that. I'll call McAfee directly.\",\n",
       " \"Thanks for calling cancellation department. How may I help you today? Hi, I received an invoice for $749. I don't recognize the charge. I understand. Did the email provide any details on what the purchase was for? No, it just says 'invoice' and nothing else. Okay, let me check our system. Can I have your first and last name? My first name is [REDACTED], last name is [REDACTED]. Thank you. Please hold while I check. Okay. I see here that this charge is related to Avira antivirus software. Have you previously used Avira? No, I haven't. It looks like an unauthorized transaction. I will process the cancellation for you. Oh, thank you. That's a relief. You're welcome! Let us know if you need further help.\",\n",
       " \"Hello, this is [Scammer Name]. How can I help you? Yeah, I'm calling about an invoice we received for $398. Yes, I see the charge in our system. However, banks are closed today, so we will process the refund tomorrow. That's strange. My bank, Cyprus Credit Union, is open. We still need to process it on our end. Meanwhile, can you log into your online banking to verify the charge? Why do I need to do that? Shouldn't you be able to cancel it directly? It's just a verification step to ensure your refund is processed correctly. I don't feel comfortable doing that. I'll call my bank directly. Sir, if you don't act now, the charge may go through permanently. I'm not falling for this. Goodbye.\",\n",
       " \"Thank you for calling PayPal. How can I help you? Hi, I finally got a chance to call you. I have a bill from PayPal I need to take care of. What bill did you receive, sir? Um, it's for Bitcoin. I thought I had cleared that already. I returned my Bitcoin six months ago. I see. Could you provide your invoice number or order number? Yeah, it's 568-685. Thank you. May I have your first and last name, please? Sure, it's [REDACTED]. I see that this charge is linked to a prior transaction. Let me verify the details and check if this can be resolved. Okay, thank you. Sir, I confirm that the Bitcoin was returned, but there was a processing delay. The charge has now been canceled. Oh, great! I appreciate your help. You're welcome! Let us know if you need anything else.\",\n",
       " \"Thanks for getting connected to McAfee. This is [Scammer Name]. How may I help you? Hi, it's [User Name]. How are you doing today? Yes, ma'am. Are you in front of your computer right now? Yes, I just turned it on. I got home from lunch five minutes ago. Alright, once you see the home screen, let me know. Okay. Now, I want you to close your email and open Google Chrome. Alright, it's open. Now, type in this website to download a security tool for verification. Wait, why do I need a tool? This is necessary to remove the virus that caused your security issue. I don't think this is legitimate. I will check with McAfee directly.\",\n",
       " \"Thank you for calling technical support. How can I help you? Hi, I'm getting a message on my screen that says access to this device has been blocked for security reasons. Oh, were you doing something on the internet when this happened? Yes, I was looking at dress patterns and clicked on a link from a Facebook page. I see. It's possible that you clicked on a malicious link. Let's try restarting your computer and running a security scan. Okay, I'll do that now. Great! If you need further assistance, feel free to call us back.\",\n",
       " \"Hello, thank you for calling Amazon support. How may I help you today? Yes, I received an email saying I was charged $734.99 for something on my Amazon account. Okay, sir. May I have your first and last name? It's [REDACTED]. I see the charge. To cancel it, I need you to log into your bank and check your transactions. Wait, why do I need to do that? We need to verify your identity before we process the refund. That doesn't make sense. I'll contact Amazon directly.\",\n",
       " \"Thank you for calling Norton support. How are you doing today? I'm doing fine. How are you? I'm fine, thank you. I believe you received an email confirmation for your Norton renewal? Yes, but I don't remember signing up for Norton. Would you like to cancel your subscription? Yes, I want to cancel it. I need you to open your computer and fill out a cancellation form. Wait, why do I need a form? It's a security measure to process the refund. I'll check my Norton account directly. Goodbye.\",\n",
       " \"Hello, is this Amazon? Yes, ma'am. How can I help you today? I had a message about something wrong with my account. Alright, let me check that for you. May I have your name? It's [REDACTED]. I see no fraudulent activity on your account. The message you received might be a scam. Do not click on any links or provide personal information. Oh, I see. Thank you for checking. You're welcome! Let us know if you need any further assistance.\",\n",
       " \"Thank you for calling Geek Squad support. How can I assist you? I received a message saying I'm being charged $299 for my computer services. Yes, this charge is for renewing your antivirus and security protection. I don't recall subscribing to that. These services were pre-installed on your computer and are set for auto-renewal. I'd like to cancel the charge. I will send you a cancellation form. Please open your browser and type in this website. That sounds suspicious. I'll call Geek Squad directly.\",\n",
       " \"Hello, sir. This is [ISP Name]. How can I help you? Yeah, I got a call from this number about an internet issue. Yes, we are calling from your internet service provider. There was a technical failure last night, and some of your services are inactive. My internet has been working fine all day. Not all services are affected. However, if you don't update the settings, you may lose internet access soon. Are you in front of your computer? Why do I need to be in front of my computer? We need to update your settings remotely to prevent disconnection. I'll call my ISP directly. Thanks.\",\n",
       " \"Thank you for calling Norton support. This is David. How can I help you today? Hey David, can I talk to someone in accounting? We are from the refund department. What is the issue? I need to cancel an order. I got charged $594 for Xfinity. Can you confirm your invoice number? Okay, it's 123456. I see the charge in our system. Your Norton subscription auto-renewed yesterday. I don't even use Norton. No worries, we will process a refund. Please open your computer and visit this link. I don't feel comfortable doing that. I'll contact Norton directly.\",\n",
       " \"Thank you for calling Amazon. How can I help you? I need to speak with someone in the accounting department. Yes, you're speaking with the billing team. How can I assist? I received an email about a charge, but I didn't place an order. Can I have your name and email address to verify your account? Sure, it's [REDACTED]. Thank you. I see no suspicious charges on your account. The email you received may be a phishing attempt. Do not click on any links. Oh, I see. Thank you for checking. You're welcome! Let us know if you need further assistance.\",\n",
       " \"Thank you for calling Microsoft support. How can I help you? Hi, I got a message on my screen saying my computer is blocked. Were you doing anything online when this happened? Yes, I was on Wikipedia. It looks like your system has been infected with a Trojan. We need to remove it immediately. That sounds serious. What do I need to do? Please press the Windows key and R on your keyboard. Then type in a web address I will provide. Wait, why do I need to do that? To install a security patch that will remove the virus. I'll take my computer to a repair shop instead.\",\n",
       " \"Thank you for calling Geek Squad. How can I help you? Hi, I received a message about a $299 charge for my computer services. Let me check your account. Can I have your name and email address? Sure, it's [REDACTED]. Thank you. I see that your subscription renewed automatically. Would you like to cancel? Yes, I'd like to cancel. No problem. I've canceled your subscription, and a refund will be processed in 3-5 business days. Thank you! That's a relief. You're welcome! Have a great day.\",\n",
       " \"Hello, this is Tony. I got an email about a business opportunity? Yes, thank you for calling. Where are you calling from? Louisville, Kentucky. Who am I speaking with? This is [Scammer Name]. I have an investment opportunity for you. Oh? I'm interested. What kind of opportunity? I need a partner for a $150 million business venture. $150 million?! That sounds like a lot of money. Yes, but you need to act fast. Send me an email, and I'll send the details. I'd rather discuss it over the phone. Emails aren't secure. Don't worry, everything is safe. Just send the email, and we'll move forward. I think I'll pass. Thanks anyway.\",\n",
       " \"Hi, yeah, I've got an email here about a laptop I didn't order. Can you help with that? Yes, can you provide your order ID number, please? Yeah, so I can see it's for a Microsoft Surface Pro. What do you want to know? I will check your account. Please hold for a moment. Okay, thanks. I've checked your account, and there are no unauthorized purchases. This email looks like a phishing attempt. Do not click on any links. Oh, good to know. I appreciate the help! You're welcome! Let us know if you need anything else.\",\n",
       " \"Hello, this is British Telecom technical department. We are informing you that your internet line will be terminated today. Wait, what? Why is my internet being terminated? There is a technical issue on your line. To fix the problem, please press one to connect with BT support. Okay, let me speak to someone. Thank you for your response. We are transferring you to a team manager for verification. Hello, yes, I had a call about my broadband being cut off. Yes, sir. Your internet is at risk of disconnection. Please verify your details so we can restore the service. This sounds suspicious. I'll call BT directly.\",\n",
       " \"Hello, this call is from Interpol. Your Austrian identity has been misused for fraudulent and illegal activity. What? That doesn't make sense. I don't even live in Austria. For more information, press one to speak with an officer. How do I know this is real? Sir, this is a serious matter. If you do not respond, legal action may be taken. I'll contact my local authorities instead. Goodbye.\",\n",
       " \"Hi, this is Amazon customer service. We have detected a recent order AMZ-0987 for an iPhone 11 Pro on your account. Wait, what? I didn't order an iPhone 11 Pro. This purchase, amounting to $1,499, was billed to your card. We noticed suspicious activity and put a hold on this transaction. Okay, what do I need to do? To report this, please press one now. To cancel, press two. I don't trust this. I will check my Amazon account directly. If you don't act now, the transaction may be completed. No thanks, I'll handle this myself.\"]"
      ]
     },
     "execution_count": 12,
     "metadata": {},
     "output_type": "execute_result"
    }
   ],
   "source": [
    "test_conversations"
   ]
  },
  {
   "cell_type": "code",
   "execution_count": 13,
   "metadata": {},
   "outputs": [],
   "source": [
    "# =========================================\n",
    "# 5) Generate Predictions\n",
    "# =========================================\n",
    "def generate_predictions(model, tokenizer, conversations):\n",
    "    model.eval()\n",
    "    predictions = []\n",
    "    with torch.no_grad():\n",
    "        for text in conversations:\n",
    "            inputs = tokenizer.encode_plus(text, return_tensors=\"pt\", max_length=512, truncation=True, padding=\"max_length\").to(model.device)\n",
    "            outputs = model.generate(inputs['input_ids'], attention_mask=inputs['attention_mask'], max_length=512)\n",
    "            pred_text = tokenizer.decode(outputs[0], skip_special_tokens=True)\n",
    "            predictions.append(pred_text)\n",
    "    return predictions\n",
    "\n",
    "predictions = generate_predictions(model, tokenizer, test_conversations)"
   ]
  },
  {
   "cell_type": "code",
   "execution_count": null,
   "metadata": {},
   "outputs": [],
   "source": []
  },
  {
   "cell_type": "code",
   "execution_count": 14,
   "metadata": {},
   "outputs": [
    {
     "name": "stdout",
     "output_type": "stream",
     "text": [
      "Average BLEU Score: 0.2839772239317784\n",
      "Average ROUGE Scores: {}\n"
     ]
    },
    {
     "name": "stderr",
     "output_type": "stream",
     "text": [
      "C:\\Users\\DELL\\AppData\\Local\\Temp\\ipykernel_4980\\1469384668.py:16: FutureWarning: The default value of numeric_only in DataFrame.mean is deprecated. In a future version, it will default to False. In addition, specifying 'numeric_only=None' is deprecated. Select only valid columns or specify the value of numeric_only to silence this warning.\n",
      "  average_rouge = pd.DataFrame(rouge_scores).mean()\n"
     ]
    }
   ],
   "source": [
    "# =========================================\n",
    "# 6) Evaluate with BLEU and ROUGE\n",
    "# =========================================\n",
    "rouge = Rouge()\n",
    "bleu_scores = []\n",
    "rouge_scores = []\n",
    "\n",
    "for ref, pred in zip(test_conversations, predictions):\n",
    "    bleu_score = sentence_bleu([ref.split()], pred.split(), smoothing_function=SmoothingFunction().method1)\n",
    "    rouge_score = rouge.get_scores(pred, ref)[0]\n",
    "    bleu_scores.append(bleu_score)\n",
    "    rouge_scores.append(rouge_score)\n",
    "\n",
    "# Calculate average scores\n",
    "average_bleu = sum(bleu_scores) / len(bleu_scores)\n",
    "average_rouge = pd.DataFrame(rouge_scores).mean()\n",
    "\n",
    "print(f\"Average BLEU Score: {average_bleu}\")\n",
    "print(f\"Average ROUGE Scores: {average_rouge.to_dict()}\")"
   ]
  },
  {
   "cell_type": "code",
   "execution_count": 15,
   "metadata": {},
   "outputs": [
    {
     "name": "stdout",
     "output_type": "stream",
     "text": [
      "Requirement already satisfied: statsmodels in c:\\users\\dell\\anaconda3\\envs\\ai-backend\\lib\\site-packages (0.14.4)\n",
      "Requirement already satisfied: numpy<3,>=1.22.3 in c:\\users\\dell\\anaconda3\\envs\\ai-backend\\lib\\site-packages (from statsmodels) (1.24.3)\n",
      "Requirement already satisfied: scipy!=1.9.2,>=1.8 in c:\\users\\dell\\anaconda3\\envs\\ai-backend\\lib\\site-packages (from statsmodels) (1.11.1)\n",
      "Requirement already satisfied: pandas!=2.1.0,>=1.4 in c:\\users\\dell\\anaconda3\\envs\\ai-backend\\lib\\site-packages (from statsmodels) (1.5.3)\n",
      "Requirement already satisfied: patsy>=0.5.6 in c:\\users\\dell\\anaconda3\\envs\\ai-backend\\lib\\site-packages (from statsmodels) (1.0.1)\n",
      "Requirement already satisfied: packaging>=21.3 in c:\\users\\dell\\anaconda3\\envs\\ai-backend\\lib\\site-packages (from statsmodels) (23.2)\n",
      "Requirement already satisfied: python-dateutil>=2.8.1 in c:\\users\\dell\\anaconda3\\envs\\ai-backend\\lib\\site-packages (from pandas!=2.1.0,>=1.4->statsmodels) (2.8.2)\n",
      "Requirement already satisfied: pytz>=2020.1 in c:\\users\\dell\\anaconda3\\envs\\ai-backend\\lib\\site-packages (from pandas!=2.1.0,>=1.4->statsmodels) (2023.3)\n",
      "Requirement already satisfied: six>=1.5 in c:\\users\\dell\\anaconda3\\envs\\ai-backend\\lib\\site-packages (from python-dateutil>=2.8.1->pandas!=2.1.0,>=1.4->statsmodels) (1.16.0)\n"
     ]
    }
   ],
   "source": [
    "!pip install -U statsmodels\n"
   ]
  },
  {
   "cell_type": "code",
   "execution_count": 16,
   "metadata": {},
   "outputs": [
    {
     "data": {
      "image/png": "[encoded data removed]",
      "text/plain": [
       "<Figure size 700x500 with 1 Axes>"
      ]
     },
     "metadata": {},
     "output_type": "display_data"
    }
   ],
   "source": [
    "# =============================================\n",
    "# 7) Visualize the BLEU distribution\n",
    "# =============================================\n",
    "plt.figure(figsize=(7,5))\n",
    "plt.hist(bleu_scores, bins=30, color=\"skyblue\", edgecolor=\"black\")\n",
    "plt.title(\"Distribution of Sample-Level BLEU Scores for T5\")\n",
    "plt.xlabel(\"BLEU Score\")\n",
    "plt.ylabel(\"Frequency\")\n",
    "plt.show()\n"
   ]
  },
  {
   "cell_type": "code",
   "execution_count": 18,
   "metadata": {},
   "outputs": [
    {
     "ename": "NameError",
     "evalue": "name 'sns' is not defined",
     "output_type": "error",
     "traceback": [
      "\u001b[1;31m---------------------------------------------------------------------------\u001b[0m",
      "\u001b[1;31mNameError\u001b[0m                                 Traceback (most recent call last)",
      "Cell \u001b[1;32mIn[18], line 14\u001b[0m\n\u001b[0;32m     12\u001b[0m rouge_df \u001b[38;5;241m=\u001b[39m pd\u001b[38;5;241m.\u001b[39mDataFrame(rouge_scores)\n\u001b[0;32m     13\u001b[0m \u001b[38;5;28;01mfor\u001b[39;00m col \u001b[38;5;129;01min\u001b[39;00m rouge_df\u001b[38;5;241m.\u001b[39mcolumns:\n\u001b[1;32m---> 14\u001b[0m     \u001b[43msns\u001b[49m\u001b[38;5;241m.\u001b[39mkdeplot(rouge_df[col], label\u001b[38;5;241m=\u001b[39mcol)\n\u001b[0;32m     15\u001b[0m plt\u001b[38;5;241m.\u001b[39mtitle(\u001b[38;5;124m'\u001b[39m\u001b[38;5;124mDistribution of ROUGE Scores\u001b[39m\u001b[38;5;124m'\u001b[39m)\n\u001b[0;32m     16\u001b[0m plt\u001b[38;5;241m.\u001b[39mxlabel(\u001b[38;5;124m'\u001b[39m\u001b[38;5;124mScore\u001b[39m\u001b[38;5;124m'\u001b[39m)\n",
      "\u001b[1;31mNameError\u001b[0m: name 'sns' is not defined"
     ]
    },
    {
     "data": {
      "image/png": "[encoded data removed]",
      "text/plain": [
       "<Figure size 1200x600 with 2 Axes>"
      ]
     },
     "metadata": {},
     "output_type": "display_data"
    }
   ],
   "source": [
    "# =========================================\n",
    "# 7) Visualization\n",
    "# =========================================\n",
    "plt.figure(figsize=(12, 6))\n",
    "plt.subplot(1, 2, 1)\n",
    "plt.hist(bleu_scores, bins=20, color='blue')\n",
    "plt.title('Distribution of BLEU Scores')\n",
    "plt.xlabel('BLEU Score')\n",
    "plt.ylabel('Frequency')\n",
    "\n",
    "plt.subplot(1, 2, 2)\n",
    "rouge_df = pd.DataFrame(rouge_scores)\n",
    "for col in rouge_df.columns:\n",
    "    sns.kdeplot(rouge_df[col], label=col)\n",
    "plt.title('Distribution of ROUGE Scores')\n",
    "plt.xlabel('Score')\n",
    "plt.legend()\n",
    "\n",
    "plt.tight_layout()\n",
    "plt.show()"
   ]
  },
  {
   "cell_type": "code",
   "execution_count": null,
   "metadata": {},
   "outputs": [],
   "source": []
  },
  {
   "cell_type": "code",
   "execution_count": null,
   "metadata": {},
   "outputs": [],
   "source": []
  }
 ],
 "metadata": {
  "kernelspec": {
   "display_name": "ai-backend",
   "language": "python",
   "name": "python3"
  },
  "language_info": {
   "codemirror_mode": {
    "name": "ipython",
    "version": 3
   },
   "file_extension": ".py",
   "mimetype": "text/x-python",
   "name": "python",
   "nbconvert_exporter": "python",
   "pygments_lexer": "ipython3",
   "version": "3.9.19"
  }
 },
 "nbformat": 4,
 "nbformat_minor": 2
}
