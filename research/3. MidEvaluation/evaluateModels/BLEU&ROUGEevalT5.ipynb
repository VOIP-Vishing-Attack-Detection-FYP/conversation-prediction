{
 "cells": [
  {
   "cell_type": "code",
   "execution_count": 3,
   "metadata": {},
   "outputs": [
    {
     "name": "stdout",
     "output_type": "stream",
     "text": [
      "Collecting rouge\n",
      "  Downloading rouge-1.0.1-py3-none-any.whl.metadata (4.1 kB)\n",
      "Requirement already satisfied: six in c:\\users\\dell\\anaconda3\\envs\\ai-backend\\lib\\site-packages (from rouge) (1.16.0)\n",
      "Downloading rouge-1.0.1-py3-none-any.whl (13 kB)\n",
      "Installing collected packages: rouge\n",
      "Successfully installed rouge-1.0.1\n"
     ]
    }
   ],
   "source": [
    "!pip install rouge"
   ]
  },
  {
   "cell_type": "code",
   "execution_count": 4,
   "metadata": {},
   "outputs": [],
   "source": [
    "# =========================================\n",
    "# 1) Imports\n",
    "# =========================================\n",
    "import pandas as pd\n",
    "import torch\n",
    "from transformers import T5Tokenizer, T5ForConditionalGeneration\n",
    "from nltk.translate.bleu_score import sentence_bleu, SmoothingFunction\n",
    "from rouge import Rouge\n",
    "import matplotlib.pyplot as plt"
   ]
  },
  {
   "cell_type": "code",
   "execution_count": 5,
   "metadata": {},
   "outputs": [
    {
     "data": {
      "text/plain": [
       "T5ForConditionalGeneration(\n",
       "  (shared): Embedding(32128, 512)\n",
       "  (encoder): T5Stack(\n",
       "    (embed_tokens): Embedding(32128, 512)\n",
       "    (block): ModuleList(\n",
       "      (0): T5Block(\n",
       "        (layer): ModuleList(\n",
       "          (0): T5LayerSelfAttention(\n",
       "            (SelfAttention): T5Attention(\n",
       "              (q): Linear(in_features=512, out_features=512, bias=False)\n",
       "              (k): Linear(in_features=512, out_features=512, bias=False)\n",
       "              (v): Linear(in_features=512, out_features=512, bias=False)\n",
       "              (o): Linear(in_features=512, out_features=512, bias=False)\n",
       "              (relative_attention_bias): Embedding(32, 8)\n",
       "            )\n",
       "            (layer_norm): T5LayerNorm()\n",
       "            (dropout): Dropout(p=0.1, inplace=False)\n",
       "          )\n",
       "          (1): T5LayerFF(\n",
       "            (DenseReluDense): T5DenseActDense(\n",
       "              (wi): Linear(in_features=512, out_features=2048, bias=False)\n",
       "              (wo): Linear(in_features=2048, out_features=512, bias=False)\n",
       "              (dropout): Dropout(p=0.1, inplace=False)\n",
       "              (act): ReLU()\n",
       "            )\n",
       "            (layer_norm): T5LayerNorm()\n",
       "            (dropout): Dropout(p=0.1, inplace=False)\n",
       "          )\n",
       "        )\n",
       "      )\n",
       "      (1-5): 5 x T5Block(\n",
       "        (layer): ModuleList(\n",
       "          (0): T5LayerSelfAttention(\n",
       "            (SelfAttention): T5Attention(\n",
       "              (q): Linear(in_features=512, out_features=512, bias=False)\n",
       "              (k): Linear(in_features=512, out_features=512, bias=False)\n",
       "              (v): Linear(in_features=512, out_features=512, bias=False)\n",
       "              (o): Linear(in_features=512, out_features=512, bias=False)\n",
       "            )\n",
       "            (layer_norm): T5LayerNorm()\n",
       "            (dropout): Dropout(p=0.1, inplace=False)\n",
       "          )\n",
       "          (1): T5LayerFF(\n",
       "            (DenseReluDense): T5DenseActDense(\n",
       "              (wi): Linear(in_features=512, out_features=2048, bias=False)\n",
       "              (wo): Linear(in_features=2048, out_features=512, bias=False)\n",
       "              (dropout): Dropout(p=0.1, inplace=False)\n",
       "              (act): ReLU()\n",
       "            )\n",
       "            (layer_norm): T5LayerNorm()\n",
       "            (dropout): Dropout(p=0.1, inplace=False)\n",
       "          )\n",
       "        )\n",
       "      )\n",
       "    )\n",
       "    (final_layer_norm): T5LayerNorm()\n",
       "    (dropout): Dropout(p=0.1, inplace=False)\n",
       "  )\n",
       "  (decoder): T5Stack(\n",
       "    (embed_tokens): Embedding(32128, 512)\n",
       "    (block): ModuleList(\n",
       "      (0): T5Block(\n",
       "        (layer): ModuleList(\n",
       "          (0): T5LayerSelfAttention(\n",
       "            (SelfAttention): T5Attention(\n",
       "              (q): Linear(in_features=512, out_features=512, bias=False)\n",
       "              (k): Linear(in_features=512, out_features=512, bias=False)\n",
       "              (v): Linear(in_features=512, out_features=512, bias=False)\n",
       "              (o): Linear(in_features=512, out_features=512, bias=False)\n",
       "              (relative_attention_bias): Embedding(32, 8)\n",
       "            )\n",
       "            (layer_norm): T5LayerNorm()\n",
       "            (dropout): Dropout(p=0.1, inplace=False)\n",
       "          )\n",
       "          (1): T5LayerCrossAttention(\n",
       "            (EncDecAttention): T5Attention(\n",
       "              (q): Linear(in_features=512, out_features=512, bias=False)\n",
       "              (k): Linear(in_features=512, out_features=512, bias=False)\n",
       "              (v): Linear(in_features=512, out_features=512, bias=False)\n",
       "              (o): Linear(in_features=512, out_features=512, bias=False)\n",
       "            )\n",
       "            (layer_norm): T5LayerNorm()\n",
       "            (dropout): Dropout(p=0.1, inplace=False)\n",
       "          )\n",
       "          (2): T5LayerFF(\n",
       "            (DenseReluDense): T5DenseActDense(\n",
       "              (wi): Linear(in_features=512, out_features=2048, bias=False)\n",
       "              (wo): Linear(in_features=2048, out_features=512, bias=False)\n",
       "              (dropout): Dropout(p=0.1, inplace=False)\n",
       "              (act): ReLU()\n",
       "            )\n",
       "            (layer_norm): T5LayerNorm()\n",
       "            (dropout): Dropout(p=0.1, inplace=False)\n",
       "          )\n",
       "        )\n",
       "      )\n",
       "      (1-5): 5 x T5Block(\n",
       "        (layer): ModuleList(\n",
       "          (0): T5LayerSelfAttention(\n",
       "            (SelfAttention): T5Attention(\n",
       "              (q): Linear(in_features=512, out_features=512, bias=False)\n",
       "              (k): Linear(in_features=512, out_features=512, bias=False)\n",
       "              (v): Linear(in_features=512, out_features=512, bias=False)\n",
       "              (o): Linear(in_features=512, out_features=512, bias=False)\n",
       "            )\n",
       "            (layer_norm): T5LayerNorm()\n",
       "            (dropout): Dropout(p=0.1, inplace=False)\n",
       "          )\n",
       "          (1): T5LayerCrossAttention(\n",
       "            (EncDecAttention): T5Attention(\n",
       "              (q): Linear(in_features=512, out_features=512, bias=False)\n",
       "              (k): Linear(in_features=512, out_features=512, bias=False)\n",
       "              (v): Linear(in_features=512, out_features=512, bias=False)\n",
       "              (o): Linear(in_features=512, out_features=512, bias=False)\n",
       "            )\n",
       "            (layer_norm): T5LayerNorm()\n",
       "            (dropout): Dropout(p=0.1, inplace=False)\n",
       "          )\n",
       "          (2): T5LayerFF(\n",
       "            (DenseReluDense): T5DenseActDense(\n",
       "              (wi): Linear(in_features=512, out_features=2048, bias=False)\n",
       "              (wo): Linear(in_features=2048, out_features=512, bias=False)\n",
       "              (dropout): Dropout(p=0.1, inplace=False)\n",
       "              (act): ReLU()\n",
       "            )\n",
       "            (layer_norm): T5LayerNorm()\n",
       "            (dropout): Dropout(p=0.1, inplace=False)\n",
       "          )\n",
       "        )\n",
       "      )\n",
       "    )\n",
       "    (final_layer_norm): T5LayerNorm()\n",
       "    (dropout): Dropout(p=0.1, inplace=False)\n",
       "  )\n",
       "  (lm_head): Linear(in_features=512, out_features=32128, bias=False)\n",
       ")"
      ]
     },
     "execution_count": 5,
     "metadata": {},
     "output_type": "execute_result"
    }
   ],
   "source": [
    "# =========================================\n",
    "# 2) Load Saved Model and Tokenizer\n",
    "# =========================================\n",
    "model_path = \"C:/Users/DELL/Desktop/VOIP_Phishing_Attacks/Repos/convoPredict/conversation-prediction/research/3. MidEvaluation/fineTune/t5_finetuned_conversation\"  # Update this path if your model is stored elsewhere\n",
    "tokenizer = T5Tokenizer.from_pretrained(model_path)\n",
    "model = T5ForConditionalGeneration.from_pretrained(model_path)\n",
    "model.to('cuda' if torch.cuda.is_available() else 'cpu')"
   ]
  },
  {
   "cell_type": "code",
   "execution_count": 6,
   "metadata": {},
   "outputs": [],
   "source": [
    "# =========================================\n",
    "# 3) Load Test Data\n",
    "# =========================================\n",
    "test_data_path = \"C:/Users/DELL/Desktop/VOIP_Phishing_Attacks/Repos/convoPredict/conversation-prediction/testdataset.csv\"\n",
    "test_data = pd.read_csv(test_data_path)\n"
   ]
  },
  {
   "cell_type": "code",
   "execution_count": 7,
   "metadata": {},
   "outputs": [],
   "source": [
    "# =========================================\n",
    "# 4) Prepare Data\n",
    "# =========================================\n",
    "def prepare_data(test_data):\n",
    "    # Assuming CONVERSATION_ID and CONVERSATION_STEP are columns in your CSV\n",
    "    test_data = test_data.sort_values(by=['CONVERSATION_ID', 'CONVERSATION_STEP'])\n",
    "    conversations = test_data.groupby('CONVERSATION_ID')['TEXT'].agg(lambda txt: ' '.join(txt)).tolist()\n",
    "    return conversations\n",
    "\n",
    "test_conversations = prepare_data(test_data)"
   ]
  },
  {
   "cell_type": "code",
   "execution_count": 8,
   "metadata": {},
   "outputs": [],
   "source": [
    "# =========================================\n",
    "# 5) Generate Predictions\n",
    "# =========================================\n",
    "def generate_predictions(model, tokenizer, conversations):\n",
    "    model.eval()\n",
    "    predictions = []\n",
    "    with torch.no_grad():\n",
    "        for text in conversations:\n",
    "            inputs = tokenizer.encode_plus(text, return_tensors=\"pt\", max_length=512, truncation=True, padding=\"max_length\").to(model.device)\n",
    "            outputs = model.generate(inputs['input_ids'], attention_mask=inputs['attention_mask'], max_length=512)\n",
    "            pred_text = tokenizer.decode(outputs[0], skip_special_tokens=True)\n",
    "            predictions.append(pred_text)\n",
    "    return predictions\n",
    "\n",
    "predictions = generate_predictions(model, tokenizer, test_conversations)"
   ]
  },
  {
   "cell_type": "code",
   "execution_count": 9,
   "metadata": {},
   "outputs": [
    {
     "name": "stdout",
     "output_type": "stream",
     "text": [
      "Average BLEU Score: 0.2839772239317784\n",
      "Average ROUGE Scores: {}\n"
     ]
    },
    {
     "name": "stderr",
     "output_type": "stream",
     "text": [
      "C:\\Users\\DELL\\AppData\\Local\\Temp\\ipykernel_28096\\1469384668.py:16: FutureWarning: The default value of numeric_only in DataFrame.mean is deprecated. In a future version, it will default to False. In addition, specifying 'numeric_only=None' is deprecated. Select only valid columns or specify the value of numeric_only to silence this warning.\n",
      "  average_rouge = pd.DataFrame(rouge_scores).mean()\n"
     ]
    }
   ],
   "source": [
    "# =========================================\n",
    "# 6) Evaluate with BLEU and ROUGE\n",
    "# =========================================\n",
    "rouge = Rouge()\n",
    "bleu_scores = []\n",
    "rouge_scores = []\n",
    "\n",
    "for ref, pred in zip(test_conversations, predictions):\n",
    "    bleu_score = sentence_bleu([ref.split()], pred.split(), smoothing_function=SmoothingFunction().method1)\n",
    "    rouge_score = rouge.get_scores(pred, ref)[0]\n",
    "    bleu_scores.append(bleu_score)\n",
    "    rouge_scores.append(rouge_score)\n",
    "\n",
    "# Calculate average scores\n",
    "average_bleu = sum(bleu_scores) / len(bleu_scores)\n",
    "average_rouge = pd.DataFrame(rouge_scores).mean()\n",
    "\n",
    "print(f\"Average BLEU Score: {average_bleu}\")\n",
    "print(f\"Average ROUGE Scores: {average_rouge.to_dict()}\")"
   ]
  },
  {
   "cell_type": "code",
   "execution_count": 11,
   "metadata": {},
   "outputs": [
    {
     "name": "stdout",
     "output_type": "stream",
     "text": [
      "Collecting statsmodels\n",
      "  Downloading statsmodels-0.14.4-cp39-cp39-win_amd64.whl.metadata (9.5 kB)\n",
      "Requirement already satisfied: numpy<3,>=1.22.3 in c:\\users\\dell\\anaconda3\\envs\\ai-backend\\lib\\site-packages (from statsmodels) (1.24.3)\n",
      "Requirement already satisfied: scipy!=1.9.2,>=1.8 in c:\\users\\dell\\anaconda3\\envs\\ai-backend\\lib\\site-packages (from statsmodels) (1.11.1)\n",
      "Requirement already satisfied: pandas!=2.1.0,>=1.4 in c:\\users\\dell\\anaconda3\\envs\\ai-backend\\lib\\site-packages (from statsmodels) (1.5.3)\n",
      "Collecting patsy>=0.5.6 (from statsmodels)\n",
      "  Downloading patsy-1.0.1-py2.py3-none-any.whl.metadata (3.3 kB)\n",
      "Requirement already satisfied: packaging>=21.3 in c:\\users\\dell\\anaconda3\\envs\\ai-backend\\lib\\site-packages (from statsmodels) (23.2)\n",
      "Requirement already satisfied: python-dateutil>=2.8.1 in c:\\users\\dell\\anaconda3\\envs\\ai-backend\\lib\\site-packages (from pandas!=2.1.0,>=1.4->statsmodels) (2.8.2)\n",
      "Requirement already satisfied: pytz>=2020.1 in c:\\users\\dell\\anaconda3\\envs\\ai-backend\\lib\\site-packages (from pandas!=2.1.0,>=1.4->statsmodels) (2023.3)\n",
      "Requirement already satisfied: six>=1.5 in c:\\users\\dell\\anaconda3\\envs\\ai-backend\\lib\\site-packages (from python-dateutil>=2.8.1->pandas!=2.1.0,>=1.4->statsmodels) (1.16.0)\n",
      "Downloading statsmodels-0.14.4-cp39-cp39-win_amd64.whl (9.9 MB)\n",
      "   ---------------------------------------- 0.0/9.9 MB ? eta -:--:--\n",
      "   ---------------------------------------- 0.0/9.9 MB 660.6 kB/s eta 0:00:15\n",
      "   ---------------------------------------- 0.1/9.9 MB 1.3 MB/s eta 0:00:08\n",
      "   - -------------------------------------- 0.3/9.9 MB 2.0 MB/s eta 0:00:05\n",
      "   - -------------------------------------- 0.4/9.9 MB 2.3 MB/s eta 0:00:05\n",
      "   -- ------------------------------------- 0.7/9.9 MB 3.0 MB/s eta 0:00:04\n",
      "   ---- ----------------------------------- 1.0/9.9 MB 3.8 MB/s eta 0:00:03\n",
      "   ----- ---------------------------------- 1.4/9.9 MB 4.4 MB/s eta 0:00:02\n",
      "   ------- -------------------------------- 1.7/9.9 MB 4.8 MB/s eta 0:00:02\n",
      "   -------- ------------------------------- 2.1/9.9 MB 5.2 MB/s eta 0:00:02\n",
      "   ---------- ----------------------------- 2.6/9.9 MB 5.7 MB/s eta 0:00:02\n",
      "   ------------ --------------------------- 3.0/9.9 MB 6.0 MB/s eta 0:00:02\n",
      "   ------------- -------------------------- 3.2/9.9 MB 6.2 MB/s eta 0:00:02\n",
      "   -------------- ------------------------- 3.6/9.9 MB 6.1 MB/s eta 0:00:02\n",
      "   -------------- ------------------------- 3.7/9.9 MB 6.2 MB/s eta 0:00:01\n",
      "   ----------------- ---------------------- 4.3/9.9 MB 6.3 MB/s eta 0:00:01\n",
      "   ----------------- ---------------------- 4.3/9.9 MB 6.3 MB/s eta 0:00:01\n",
      "   ----------------- ---------------------- 4.3/9.9 MB 6.3 MB/s eta 0:00:01\n",
      "   ----------------- ---------------------- 4.3/9.9 MB 6.3 MB/s eta 0:00:01\n",
      "   ----------------- ---------------------- 4.3/9.9 MB 6.3 MB/s eta 0:00:01\n",
      "   ----------------- ---------------------- 4.3/9.9 MB 6.3 MB/s eta 0:00:01\n",
      "   ----------------- ---------------------- 4.3/9.9 MB 6.3 MB/s eta 0:00:01\n",
      "   ----------------- ---------------------- 4.3/9.9 MB 6.3 MB/s eta 0:00:01\n",
      "   ----------------- ---------------------- 4.3/9.9 MB 6.3 MB/s eta 0:00:01\n",
      "   ----------------- ---------------------- 4.3/9.9 MB 6.3 MB/s eta 0:00:01\n",
      "   ----------------- ---------------------- 4.3/9.9 MB 6.3 MB/s eta 0:00:01\n",
      "   ----------------- ---------------------- 4.3/9.9 MB 6.3 MB/s eta 0:00:01\n",
      "   ----------------- ---------------------- 4.3/9.9 MB 6.3 MB/s eta 0:00:01\n",
      "   ----------------- ---------------------- 4.3/9.9 MB 6.3 MB/s eta 0:00:01\n",
      "   ----------------- ---------------------- 4.3/9.9 MB 3.2 MB/s eta 0:00:02\n",
      "   ----------------- ---------------------- 4.3/9.9 MB 3.2 MB/s eta 0:00:02\n",
      "   ----------------- ---------------------- 4.3/9.9 MB 3.1 MB/s eta 0:00:02\n",
      "   ------------------ --------------------- 4.5/9.9 MB 3.0 MB/s eta 0:00:02\n",
      "   ------------------- -------------------- 4.7/9.9 MB 3.1 MB/s eta 0:00:02\n",
      "   -------------------- ------------------- 5.0/9.9 MB 3.2 MB/s eta 0:00:02\n",
      "   --------------------- ------------------ 5.3/9.9 MB 3.3 MB/s eta 0:00:02\n",
      "   ---------------------- ----------------- 5.7/9.9 MB 3.4 MB/s eta 0:00:02\n",
      "   ----------------------- ---------------- 5.9/9.9 MB 3.5 MB/s eta 0:00:02\n",
      "   ------------------------- -------------- 6.3/9.9 MB 3.6 MB/s eta 0:00:01\n",
      "   -------------------------- ------------- 6.6/9.9 MB 3.7 MB/s eta 0:00:01\n",
      "   --------------------------- ------------ 6.7/9.9 MB 3.7 MB/s eta 0:00:01\n",
      "   --------------------------- ------------ 6.7/9.9 MB 3.7 MB/s eta 0:00:01\n",
      "   --------------------------- ------------ 6.7/9.9 MB 3.7 MB/s eta 0:00:01\n",
      "   --------------------------- ------------ 6.7/9.9 MB 3.4 MB/s eta 0:00:01\n",
      "   --------------------------- ------------ 6.7/9.9 MB 3.4 MB/s eta 0:00:01\n",
      "   --------------------------- ------------ 6.7/9.9 MB 3.2 MB/s eta 0:00:01\n",
      "   --------------------------- ------------ 6.9/9.9 MB 3.2 MB/s eta 0:00:01\n",
      "   ---------------------------- ----------- 7.0/9.9 MB 3.2 MB/s eta 0:00:01\n",
      "   ---------------------------- ----------- 7.1/9.9 MB 3.2 MB/s eta 0:00:01\n",
      "   ----------------------------- ---------- 7.4/9.9 MB 3.2 MB/s eta 0:00:01\n",
      "   ------------------------------ --------- 7.6/9.9 MB 3.3 MB/s eta 0:00:01\n",
      "   -------------------------------- ------- 7.9/9.9 MB 3.3 MB/s eta 0:00:01\n",
      "   --------------------------------- ------ 8.2/9.9 MB 3.4 MB/s eta 0:00:01\n",
      "   ---------------------------------- ----- 8.5/9.9 MB 3.5 MB/s eta 0:00:01\n",
      "   ----------------------------------- ---- 8.8/9.9 MB 3.5 MB/s eta 0:00:01\n",
      "   ------------------------------------ --- 9.1/9.9 MB 3.6 MB/s eta 0:00:01\n",
      "   ------------------------------------ --- 9.1/9.9 MB 3.6 MB/s eta 0:00:01\n",
      "   ------------------------------------ --- 9.1/9.9 MB 3.6 MB/s eta 0:00:01\n",
      "   ------------------------------------ --- 9.1/9.9 MB 3.6 MB/s eta 0:00:01\n",
      "   ------------------------------------ --- 9.1/9.9 MB 3.6 MB/s eta 0:00:01\n",
      "   ------------------------------------ --- 9.1/9.9 MB 3.6 MB/s eta 0:00:01\n",
      "   ------------------------------------ --- 9.1/9.9 MB 3.6 MB/s eta 0:00:01\n",
      "   ------------------------------------ --- 9.1/9.9 MB 3.6 MB/s eta 0:00:01\n",
      "   ------------------------------------ --- 9.1/9.9 MB 3.6 MB/s eta 0:00:01\n",
      "   ------------------------------------ --- 9.1/9.9 MB 3.6 MB/s eta 0:00:01\n",
      "   ------------------------------------ --- 9.1/9.9 MB 3.6 MB/s eta 0:00:01\n",
      "   ------------------------------------ --- 9.1/9.9 MB 3.6 MB/s eta 0:00:01\n",
      "   ------------------------------------ --- 9.1/9.9 MB 3.6 MB/s eta 0:00:01\n",
      "   ------------------------------------ --- 9.1/9.9 MB 3.6 MB/s eta 0:00:01\n",
      "   ------------------------------------ --- 9.1/9.9 MB 3.6 MB/s eta 0:00:01\n",
      "   ------------------------------------ --- 9.1/9.9 MB 3.6 MB/s eta 0:00:01\n",
      "   ------------------------------------ --- 9.1/9.9 MB 3.6 MB/s eta 0:00:01\n",
      "   ------------------------------------ --- 9.1/9.9 MB 3.6 MB/s eta 0:00:01\n",
      "   ------------------------------------ --- 9.1/9.9 MB 3.6 MB/s eta 0:00:01\n",
      "   ------------------------------------ --- 9.1/9.9 MB 3.6 MB/s eta 0:00:01\n",
      "   ------------------------------------ --- 9.1/9.9 MB 3.6 MB/s eta 0:00:01\n",
      "   ------------------------------------ --- 9.1/9.9 MB 3.6 MB/s eta 0:00:01\n",
      "   ------------------------------------ --- 9.1/9.9 MB 3.6 MB/s eta 0:00:01\n",
      "   ------------------------------------ --- 9.1/9.9 MB 2.5 MB/s eta 0:00:01\n",
      "   ------------------------------------ --- 9.1/9.9 MB 2.5 MB/s eta 0:00:01\n",
      "   ------------------------------------ --- 9.1/9.9 MB 2.5 MB/s eta 0:00:01\n",
      "   ------------------------------------ --- 9.1/9.9 MB 2.5 MB/s eta 0:00:01\n",
      "   ------------------------------------ --- 9.1/9.9 MB 2.4 MB/s eta 0:00:01\n",
      "   ------------------------------------- -- 9.2/9.9 MB 2.4 MB/s eta 0:00:01\n",
      "   ------------------------------------- -- 9.2/9.9 MB 2.4 MB/s eta 0:00:01\n",
      "   ------------------------------------- -- 9.3/9.9 MB 2.4 MB/s eta 0:00:01\n",
      "   -------------------------------------- - 9.4/9.9 MB 2.4 MB/s eta 0:00:01\n",
      "   ---------------------------------------  9.6/9.9 MB 2.4 MB/s eta 0:00:01\n",
      "   ---------------------------------------  9.8/9.9 MB 2.4 MB/s eta 0:00:01\n",
      "   ---------------------------------------  9.9/9.9 MB 2.4 MB/s eta 0:00:01\n",
      "   ---------------------------------------  9.9/9.9 MB 2.4 MB/s eta 0:00:01\n",
      "   ---------------------------------------  9.9/9.9 MB 2.4 MB/s eta 0:00:01\n",
      "   ---------------------------------------- 9.9/9.9 MB 2.3 MB/s eta 0:00:00\n",
      "Downloading patsy-1.0.1-py2.py3-none-any.whl (232 kB)\n",
      "   ---------------------------------------- 0.0/232.9 kB ? eta -:--:--\n",
      "   ----------------------------------- ---- 204.8/232.9 kB 4.1 MB/s eta 0:00:01\n",
      "   ---------------------------------------- 232.9/232.9 kB 3.5 MB/s eta 0:00:00\n",
      "Installing collected packages: patsy, statsmodels\n",
      "Successfully installed patsy-1.0.1 statsmodels-0.14.4\n"
     ]
    }
   ],
   "source": [
    "!pip install -U statsmodels\n"
   ]
  },
  {
   "cell_type": "code",
   "execution_count": 13,
   "metadata": {},
   "outputs": [
    {
     "data": {
      "image/png": "[encoded data removed]",
      "text/plain": [
       "<Figure size 700x500 with 1 Axes>"
      ]
     },
     "metadata": {},
     "output_type": "display_data"
    },
    {
     "ename": "",
     "evalue": "",
     "output_type": "error",
     "traceback": [
      "\u001b[1;31mThe Kernel crashed while executing code in the current cell or a previous cell. \n",
      "\u001b[1;31mPlease review the code in the cell(s) to identify a possible cause of the failure. \n",
      "\u001b[1;31mClick <a href='https://aka.ms/vscodeJupyterKernelCrash'>here</a> for more info. \n",
      "\u001b[1;31mView Jupyter <a href='command:jupyter.viewOutput'>log</a> for further details."
     ]
    }
   ],
   "source": [
    "# =============================================\n",
    "# 7) Visualize the BLEU distribution\n",
    "# =============================================\n",
    "plt.figure(figsize=(7,5))\n",
    "plt.hist(bleu_scores, bins=30, color=\"skyblue\", edgecolor=\"black\")\n",
    "plt.title(\"Distribution of Sample-Level BLEU Scores\")\n",
    "plt.xlabel(\"BLEU Score\")\n",
    "plt.ylabel(\"Frequency\")\n",
    "plt.show()\n"
   ]
  },
  {
   "cell_type": "code",
   "execution_count": 12,
   "metadata": {},
   "outputs": [
    {
     "ename": "NameError",
     "evalue": "name 'sns' is not defined",
     "output_type": "error",
     "traceback": [
      "\u001b[1;31m---------------------------------------------------------------------------\u001b[0m",
      "\u001b[1;31mNameError\u001b[0m                                 Traceback (most recent call last)",
      "Cell \u001b[1;32mIn[12], line 14\u001b[0m\n\u001b[0;32m     12\u001b[0m rouge_df \u001b[38;5;241m=\u001b[39m pd\u001b[38;5;241m.\u001b[39mDataFrame(rouge_scores)\n\u001b[0;32m     13\u001b[0m \u001b[38;5;28;01mfor\u001b[39;00m col \u001b[38;5;129;01min\u001b[39;00m rouge_df\u001b[38;5;241m.\u001b[39mcolumns:\n\u001b[1;32m---> 14\u001b[0m     \u001b[43msns\u001b[49m\u001b[38;5;241m.\u001b[39mkdeplot(rouge_df[col], label\u001b[38;5;241m=\u001b[39mcol)\n\u001b[0;32m     15\u001b[0m plt\u001b[38;5;241m.\u001b[39mtitle(\u001b[38;5;124m'\u001b[39m\u001b[38;5;124mDistribution of ROUGE Scores\u001b[39m\u001b[38;5;124m'\u001b[39m)\n\u001b[0;32m     16\u001b[0m plt\u001b[38;5;241m.\u001b[39mxlabel(\u001b[38;5;124m'\u001b[39m\u001b[38;5;124mScore\u001b[39m\u001b[38;5;124m'\u001b[39m)\n",
      "\u001b[1;31mNameError\u001b[0m: name 'sns' is not defined"
     ]
    },
    {
     "data": {
      "image/png": "[encoded data removed]",
      "text/plain": [
       "<Figure size 1200x600 with 2 Axes>"
      ]
     },
     "metadata": {},
     "output_type": "display_data"
    }
   ],
   "source": [
    "# =========================================\n",
    "# 7) Visualization\n",
    "# =========================================\n",
    "plt.figure(figsize=(12, 6))\n",
    "plt.subplot(1, 2, 1)\n",
    "plt.hist(bleu_scores, bins=20, color='blue')\n",
    "plt.title('Distribution of BLEU Scores')\n",
    "plt.xlabel('BLEU Score')\n",
    "plt.ylabel('Frequency')\n",
    "\n",
    "plt.subplot(1, 2, 2)\n",
    "rouge_df = pd.DataFrame(rouge_scores)\n",
    "for col in rouge_df.columns:\n",
    "    sns.kdeplot(rouge_df[col], label=col)\n",
    "plt.title('Distribution of ROUGE Scores')\n",
    "plt.xlabel('Score')\n",
    "plt.legend()\n",
    "\n",
    "plt.tight_layout()\n",
    "plt.show()"
   ]
  },
  {
   "cell_type": "code",
   "execution_count": null,
   "metadata": {},
   "outputs": [],
   "source": []
  }
 ],
 "metadata": {
  "kernelspec": {
   "display_name": "ai-backend",
   "language": "python",
   "name": "python3"
  },
  "language_info": {
   "codemirror_mode": {
    "name": "ipython",
    "version": 3
   },
   "file_extension": ".py",
   "mimetype": "text/x-python",
   "name": "python",
   "nbconvert_exporter": "python",
   "pygments_lexer": "ipython3",
   "version": "3.9.19"
  }
 },
 "nbformat": 4,
 "nbformat_minor": 2
}
