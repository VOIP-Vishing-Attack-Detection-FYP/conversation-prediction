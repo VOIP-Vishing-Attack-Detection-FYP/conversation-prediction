{
 "cells": [
  {
   "cell_type": "code",
   "execution_count": 1,
   "metadata": {},
   "outputs": [
    {
     "data": {
      "text/plain": [
       "'\\nBLEU and ROUGE Evaluation for a GPT-2 Conversation Prediction Model\\n\\nSteps:\\n1) Load CSV from user path\\n2) Build partial->remainder pairs\\n3) Load fine-tuned GPT-2 model\\n4) Generate predicted remainder for each partial snippet\\n5) Compare predicted vs. reference with BLEU and ROUGE\\n6) Visualize the distribution of sample-level BLEU or ROUGE\\n'"
      ]
     },
     "execution_count": 1,
     "metadata": {},
     "output_type": "execute_result"
    }
   ],
   "source": [
    "\"\"\"\n",
    "BLEU and ROUGE Evaluation for a GPT-2 Conversation Prediction Model\n",
    "\n",
    "Steps:\n",
    "1) Load CSV from user path\n",
    "2) Build partial->remainder pairs\n",
    "3) Load fine-tuned GPT-2 model\n",
    "4) Generate predicted remainder for each partial snippet\n",
    "5) Compare predicted vs. reference with BLEU and ROUGE\n",
    "6) Visualize the distribution of sample-level BLEU or ROUGE\n",
    "\"\"\"\n",
    "\n",
    "# If needed:\n",
    "# !pip install nltk evaluate rouge-score\n",
    "# Also, you might need to download NLTK data for BLEU if not present:\n",
    "# import nltk\n",
    "# nltk.download('punkt')\n"
   ]
  },
  {
   "cell_type": "code",
   "execution_count": 3,
   "metadata": {},
   "outputs": [
    {
     "name": "stdout",
     "output_type": "stream",
     "text": [
      "Collecting evaluate\n",
      "  Downloading evaluate-0.4.3-py3-none-any.whl.metadata (9.2 kB)\n",
      "Requirement already satisfied: datasets>=2.0.0 in c:\\users\\dell\\anaconda3\\envs\\ai-backend\\lib\\site-packages (from evaluate) (3.2.0)\n",
      "Requirement already satisfied: numpy>=1.17 in c:\\users\\dell\\anaconda3\\envs\\ai-backend\\lib\\site-packages (from evaluate) (1.24.3)\n",
      "Requirement already satisfied: dill in c:\\users\\dell\\anaconda3\\envs\\ai-backend\\lib\\site-packages (from evaluate) (0.3.8)\n",
      "Requirement already satisfied: pandas in c:\\users\\dell\\anaconda3\\envs\\ai-backend\\lib\\site-packages (from evaluate) (1.5.3)\n",
      "Requirement already satisfied: requests>=2.19.0 in c:\\users\\dell\\anaconda3\\envs\\ai-backend\\lib\\site-packages (from evaluate) (2.32.3)\n",
      "Requirement already satisfied: tqdm>=4.62.1 in c:\\users\\dell\\anaconda3\\envs\\ai-backend\\lib\\site-packages (from evaluate) (4.67.1)\n",
      "Requirement already satisfied: xxhash in c:\\users\\dell\\anaconda3\\envs\\ai-backend\\lib\\site-packages (from evaluate) (3.5.0)\n",
      "Requirement already satisfied: multiprocess in c:\\users\\dell\\anaconda3\\envs\\ai-backend\\lib\\site-packages (from evaluate) (0.70.16)\n",
      "Requirement already satisfied: fsspec>=2021.05.0 in c:\\users\\dell\\anaconda3\\envs\\ai-backend\\lib\\site-packages (from fsspec[http]>=2021.05.0->evaluate) (2023.6.0)\n",
      "Requirement already satisfied: huggingface-hub>=0.7.0 in c:\\users\\dell\\anaconda3\\envs\\ai-backend\\lib\\site-packages (from evaluate) (0.27.0)\n",
      "Requirement already satisfied: packaging in c:\\users\\dell\\anaconda3\\envs\\ai-backend\\lib\\site-packages (from evaluate) (23.2)\n",
      "Requirement already satisfied: filelock in c:\\users\\dell\\anaconda3\\envs\\ai-backend\\lib\\site-packages (from datasets>=2.0.0->evaluate) (3.12.2)\n",
      "Requirement already satisfied: pyarrow>=15.0.0 in c:\\users\\dell\\anaconda3\\envs\\ai-backend\\lib\\site-packages (from datasets>=2.0.0->evaluate) (18.1.0)\n",
      "Requirement already satisfied: aiohttp in c:\\users\\dell\\anaconda3\\envs\\ai-backend\\lib\\site-packages (from datasets>=2.0.0->evaluate) (3.9.0)\n",
      "Requirement already satisfied: pyyaml>=5.1 in c:\\users\\dell\\anaconda3\\envs\\ai-backend\\lib\\site-packages (from datasets>=2.0.0->evaluate) (6.0.1)\n",
      "Requirement already satisfied: typing-extensions>=3.7.4.3 in c:\\users\\dell\\anaconda3\\envs\\ai-backend\\lib\\site-packages (from huggingface-hub>=0.7.0->evaluate) (4.9.0)\n",
      "Requirement already satisfied: charset-normalizer<4,>=2 in c:\\users\\dell\\anaconda3\\envs\\ai-backend\\lib\\site-packages (from requests>=2.19.0->evaluate) (3.2.0)\n",
      "Requirement already satisfied: idna<4,>=2.5 in c:\\users\\dell\\anaconda3\\envs\\ai-backend\\lib\\site-packages (from requests>=2.19.0->evaluate) (3.4)\n",
      "Requirement already satisfied: urllib3<3,>=1.21.1 in c:\\users\\dell\\anaconda3\\envs\\ai-backend\\lib\\site-packages (from requests>=2.19.0->evaluate) (1.26.18)\n",
      "Requirement already satisfied: certifi>=2017.4.17 in c:\\users\\dell\\anaconda3\\envs\\ai-backend\\lib\\site-packages (from requests>=2.19.0->evaluate) (2023.11.17)\n",
      "Requirement already satisfied: colorama in c:\\users\\dell\\anaconda3\\envs\\ai-backend\\lib\\site-packages (from tqdm>=4.62.1->evaluate) (0.4.6)\n",
      "Requirement already satisfied: python-dateutil>=2.8.1 in c:\\users\\dell\\anaconda3\\envs\\ai-backend\\lib\\site-packages (from pandas->evaluate) (2.8.2)\n",
      "Requirement already satisfied: pytz>=2020.1 in c:\\users\\dell\\anaconda3\\envs\\ai-backend\\lib\\site-packages (from pandas->evaluate) (2023.3)\n",
      "Requirement already satisfied: attrs>=17.3.0 in c:\\users\\dell\\anaconda3\\envs\\ai-backend\\lib\\site-packages (from aiohttp->datasets>=2.0.0->evaluate) (23.1.0)\n",
      "Requirement already satisfied: multidict<7.0,>=4.5 in c:\\users\\dell\\anaconda3\\envs\\ai-backend\\lib\\site-packages (from aiohttp->datasets>=2.0.0->evaluate) (6.0.4)\n",
      "Requirement already satisfied: yarl<2.0,>=1.0 in c:\\users\\dell\\anaconda3\\envs\\ai-backend\\lib\\site-packages (from aiohttp->datasets>=2.0.0->evaluate) (1.9.2)\n",
      "Requirement already satisfied: frozenlist>=1.1.1 in c:\\users\\dell\\anaconda3\\envs\\ai-backend\\lib\\site-packages (from aiohttp->datasets>=2.0.0->evaluate) (1.4.0)\n",
      "Requirement already satisfied: aiosignal>=1.1.2 in c:\\users\\dell\\anaconda3\\envs\\ai-backend\\lib\\site-packages (from aiohttp->datasets>=2.0.0->evaluate) (1.3.1)\n",
      "Requirement already satisfied: async-timeout<5.0,>=4.0 in c:\\users\\dell\\anaconda3\\envs\\ai-backend\\lib\\site-packages (from aiohttp->datasets>=2.0.0->evaluate) (4.0.3)\n",
      "Requirement already satisfied: six>=1.5 in c:\\users\\dell\\anaconda3\\envs\\ai-backend\\lib\\site-packages (from python-dateutil>=2.8.1->pandas->evaluate) (1.16.0)\n",
      "Downloading evaluate-0.4.3-py3-none-any.whl (84 kB)\n",
      "   ---------------------------------------- 0.0/84.0 kB ? eta -:--:--\n",
      "   ---- ----------------------------------- 10.2/84.0 kB ? eta -:--:--\n",
      "   -------------- ------------------------- 30.7/84.0 kB 435.7 kB/s eta 0:00:01\n",
      "   ---------------------------------------  81.9/84.0 kB 651.6 kB/s eta 0:00:01\n",
      "   ---------------------------------------- 84.0/84.0 kB 590.2 kB/s eta 0:00:00\n",
      "Installing collected packages: evaluate\n",
      "Successfully installed evaluate-0.4.3\n"
     ]
    }
   ],
   "source": [
    "!pip install evaluate"
   ]
  },
  {
   "cell_type": "code",
   "execution_count": 4,
   "metadata": {},
   "outputs": [
    {
     "name": "stderr",
     "output_type": "stream",
     "text": [
      "c:\\Users\\DELL\\anaconda3\\envs\\ai-backend\\lib\\site-packages\\tqdm\\auto.py:21: TqdmWarning: IProgress not found. Please update jupyter and ipywidgets. See https://ipywidgets.readthedocs.io/en/stable/user_install.html\n",
      "  from .autonotebook import tqdm as notebook_tqdm\n",
      "c:\\Users\\DELL\\anaconda3\\envs\\ai-backend\\lib\\site-packages\\torchvision\\io\\image.py:13: UserWarning: Failed to load image Python extension: '[WinError 127] The specified procedure could not be found'If you don't plan on using image functionality from `torchvision.io`, you can ignore this warning. Otherwise, there might be something wrong with your environment. Did you have `libjpeg` or `libpng` installed before building `torchvision` from source?\n",
      "  warn(\n"
     ]
    },
    {
     "name": "stdout",
     "output_type": "stream",
     "text": [
      "WARNING:tensorflow:From c:\\Users\\DELL\\anaconda3\\envs\\ai-backend\\lib\\site-packages\\keras\\src\\losses.py:2976: The name tf.losses.sparse_softmax_cross_entropy is deprecated. Please use tf.compat.v1.losses.sparse_softmax_cross_entropy instead.\n",
      "\n",
      "Device in use: cpu\n"
     ]
    }
   ],
   "source": [
    "# =============================================\n",
    "# 1) Imports\n",
    "# =============================================\n",
    "import os\n",
    "import math\n",
    "import pandas as pd\n",
    "import torch\n",
    "\n",
    "# We'll use NLTK for BLEU\n",
    "import nltk\n",
    "from nltk.translate.bleu_score import sentence_bleu, SmoothingFunction\n",
    "\n",
    "# We'll use evaluate for ROUGE\n",
    "import evaluate\n",
    "\n",
    "# Torch, Transformers\n",
    "from torch.utils.data import Dataset\n",
    "from transformers import GPT2LMHeadModel, GPT2Tokenizer\n",
    "\n",
    "import matplotlib.pyplot as plt\n",
    "import numpy as np\n",
    "\n",
    "device = torch.device(\"cuda\" if torch.cuda.is_available() else \"cpu\")\n",
    "print(\"Device in use:\", device)\n"
   ]
  },
  {
   "cell_type": "code",
   "execution_count": 5,
   "metadata": {},
   "outputs": [
    {
     "name": "stdout",
     "output_type": "stream",
     "text": [
      "CSV Path: C:/Users/DELL/Desktop/VOIP_Phishing_Attacks/Repos/convoPredict/conversation-prediction/FINAL_DATASET2.csv\n",
      "Model Dir: C:/Users/DELL/Desktop/VOIP_Phishing_Attacks/Repos/convoPredict/conversation-prediction/research/3. MidEvaluation/fineTune/gpt2_conversation_predict_model\n"
     ]
    }
   ],
   "source": [
    "# =============================================\n",
    "# 2) CSV Path & Model Dir\n",
    "# =============================================\n",
    "csv_path = r\"C:/Users/DELL/Desktop/VOIP_Phishing_Attacks/Repos/convoPredict/conversation-prediction/FINAL_DATASET2.csv\"\n",
    "model_dir = r\"C:/Users/DELL/Desktop/VOIP_Phishing_Attacks/Repos/convoPredict/conversation-prediction/research/3. MidEvaluation/fineTune/gpt2_conversation_predict_model\"\n",
    "\n",
    "partial_ratio = 0.5  # <--- param: how large partial snippet is vs remainder\n",
    "print(\"CSV Path:\", csv_path)\n",
    "print(\"Model Dir:\", model_dir)\n"
   ]
  },
  {
   "cell_type": "code",
   "execution_count": 6,
   "metadata": {},
   "outputs": [
    {
     "name": "stdout",
     "output_type": "stream",
     "text": [
      "Number of partial->remainder pairs: 76\n",
      "Sample pair:\n",
      "Partial: Hello, this is [Your Name]'s personal assistant. How may I assist you today?\n",
      "Hi, I'm Sam. I saw an ad about a photography workshop hosted by [Org Name] next month. I'm interested in registering but had a few questions.\n",
      "Hi Sam, it's great to hear of your interest in the photography workshop. I'd be happy to help with any questions you have.\n",
      "Thanks! I was wondering about the skill level required for participants. I'm fairly new to photography.\n",
      "The workshop is designed to accommodate all skill levels, from beginners to more experienced photographers. [Org Name] aims to ensure everyone can learn and grow, regardless of their starting point.\n",
      "That sounds perfect. What's the registration process? \n",
      "Remainder: You can register through our website. I can guide you through the steps if you'd like, or send you a direct link to the registration page.\n",
      "A direct link would be great. Can you also tell me about the workshop fee?\n",
      "Certainly, the fee for the workshop is $200, which includes all materials and lunch for the day. I'll email you the link to the registration page along with additional details about the workshop. May I have your email address?\n",
      "Sure, it's sam.photography@example.com.\n",
      "Thank you, Sam. You'll receive an email shortly with all the information you need. Is there anything else I can assist you with today?\n",
      "No, that's everything. Thanks for your help!\n",
      "You're welcome, Sam. We look forward to having you at the workshop. Have a great day!\n"
     ]
    }
   ],
   "source": [
    "# =============================================\n",
    "# 3) Build partial->remainder from CSV\n",
    "# =============================================\n",
    "def build_partial_remainder(csv_path, partial_ratio=0.5):\n",
    "    \"\"\"\n",
    "    Groups lines by conversation ID, sorts by step,\n",
    "    then splits each conversation into partial vs remainder.\n",
    "    Returns a list of (partial_str, remainder_str).\n",
    "    \"\"\"\n",
    "    df = pd.read_csv(csv_path)\n",
    "    pairs = []\n",
    "    for convo_id, group in df.groupby(\"CONVERSATION_ID\"):\n",
    "        group_sorted = group.sort_values(\"CONVERSATION_STEP\")\n",
    "        texts = group_sorted[\"TEXT\"].tolist()\n",
    "        if len(texts) < 2:\n",
    "            continue\n",
    "        cutoff = max(1, int(len(texts)*partial_ratio))\n",
    "        partial_list = texts[:cutoff]\n",
    "        remainder_list= texts[cutoff:]\n",
    "        partial_str = \"\\n\".join(partial_list).strip()\n",
    "        remainder_str= \"\\n\".join(remainder_list).strip()\n",
    "        if partial_str and remainder_str:\n",
    "            pairs.append((partial_str, remainder_str))\n",
    "    return pairs\n",
    "\n",
    "pairs = build_partial_remainder(csv_path, partial_ratio=partial_ratio)\n",
    "print(f\"Number of partial->remainder pairs: {len(pairs)}\")\n",
    "if pairs:\n",
    "    print(\"Sample pair:\\nPartial:\", pairs[0][0], \"\\nRemainder:\", pairs[0][1])\n"
   ]
  },
  {
   "cell_type": "code",
   "execution_count": 7,
   "metadata": {},
   "outputs": [
    {
     "name": "stdout",
     "output_type": "stream",
     "text": [
      "Loading tokenizer and model from: C:/Users/DELL/Desktop/VOIP_Phishing_Attacks/Repos/convoPredict/conversation-prediction/research/3. MidEvaluation/fineTune/gpt2_conversation_predict_model\n",
      "Model loaded.\n"
     ]
    }
   ],
   "source": [
    "# =============================================\n",
    "# 4) Load GPT-2 Fine-Tuned Model\n",
    "# =============================================\n",
    "print(\"Loading tokenizer and model from:\", model_dir)\n",
    "tokenizer = GPT2Tokenizer.from_pretrained(model_dir)\n",
    "# GPT-2 typically no pad token => let's set pad_token = eos_token\n",
    "tokenizer.pad_token = tokenizer.eos_token\n",
    "\n",
    "model = GPT2LMHeadModel.from_pretrained(model_dir)\n",
    "model.to(device)\n",
    "model.eval()\n",
    "print(\"Model loaded.\")\n"
   ]
  },
  {
   "cell_type": "code",
   "execution_count": 8,
   "metadata": {},
   "outputs": [],
   "source": [
    "# =============================================\n",
    "# 5) Generate Predicted Remainder from Partial\n",
    "# =============================================\n",
    "def generate_remainder(model, tokenizer, partial_text, max_new_tokens=50):\n",
    "    inputs = tokenizer(partial_text, return_tensors=\"pt\").to(device)\n",
    "    with torch.no_grad():\n",
    "        output_ids = model.generate(\n",
    "            **inputs,\n",
    "            max_new_tokens=max_new_tokens, \n",
    "            do_sample=False, \n",
    "            pad_token_id=tokenizer.eos_token_id  # avoid errors for pad\n",
    "        )\n",
    "    full_text = tokenizer.decode(output_ids[0], skip_special_tokens=True)\n",
    "    # The entire text includes partial + newly generated remainder\n",
    "    # If you want to isolate the remainder portion, you can do some substring logic\n",
    "    return full_text\n",
    "\n",
    "# We'll define a function that tries to extract the part after the partial \n",
    "# to compare with the reference remainder. This is optional.\n",
    "def extract_model_remainder(full_gen, partial_text):\n",
    "    \"\"\"\n",
    "    Attempt to get the substring of full_gen that appears after partial_text\n",
    "    for direct comparison with the reference remainder.\n",
    "    We'll do a naive approach: find partial_text inside full_gen and take what's after.\n",
    "    \"\"\"\n",
    "    idx = full_gen.find(partial_text)\n",
    "    if idx == -1:\n",
    "        # partial_text not found exactly, fallback\n",
    "        return full_gen\n",
    "    else:\n",
    "        # remainder is what's after partial_text\n",
    "        after_part = full_gen[idx+len(partial_text):].strip()\n",
    "        return after_part\n"
   ]
  },
  {
   "cell_type": "code",
   "execution_count": 10,
   "metadata": {},
   "outputs": [
    {
     "name": "stdout",
     "output_type": "stream",
     "text": [
      "Collecting rouge_score\n",
      "  Downloading rouge_score-0.1.2.tar.gz (17 kB)\n",
      "  Preparing metadata (setup.py): started\n",
      "  Preparing metadata (setup.py): finished with status 'done'\n",
      "Requirement already satisfied: absl-py in c:\\users\\dell\\anaconda3\\envs\\ai-backend\\lib\\site-packages (from rouge_score) (1.4.0)\n",
      "Requirement already satisfied: nltk in c:\\users\\dell\\anaconda3\\envs\\ai-backend\\lib\\site-packages (from rouge_score) (3.8.1)\n",
      "Requirement already satisfied: numpy in c:\\users\\dell\\anaconda3\\envs\\ai-backend\\lib\\site-packages (from rouge_score) (1.24.3)\n",
      "Requirement already satisfied: six>=1.14.0 in c:\\users\\dell\\anaconda3\\envs\\ai-backend\\lib\\site-packages (from rouge_score) (1.16.0)\n",
      "Requirement already satisfied: click in c:\\users\\dell\\anaconda3\\envs\\ai-backend\\lib\\site-packages (from nltk->rouge_score) (8.1.6)\n",
      "Requirement already satisfied: joblib in c:\\users\\dell\\anaconda3\\envs\\ai-backend\\lib\\site-packages (from nltk->rouge_score) (1.3.1)\n",
      "Requirement already satisfied: regex>=2021.8.3 in c:\\users\\dell\\anaconda3\\envs\\ai-backend\\lib\\site-packages (from nltk->rouge_score) (2023.6.3)\n",
      "Requirement already satisfied: tqdm in c:\\users\\dell\\anaconda3\\envs\\ai-backend\\lib\\site-packages (from nltk->rouge_score) (4.67.1)\n",
      "Requirement already satisfied: colorama in c:\\users\\dell\\anaconda3\\envs\\ai-backend\\lib\\site-packages (from click->nltk->rouge_score) (0.4.6)\n",
      "Building wheels for collected packages: rouge_score\n",
      "  Building wheel for rouge_score (setup.py): started\n",
      "  Building wheel for rouge_score (setup.py): finished with status 'done'\n",
      "  Created wheel for rouge_score: filename=rouge_score-0.1.2-py3-none-any.whl size=24972 sha256=46e08655b66a408af7c91d6df458c424f66e4d17a3a0f18a360b6504aa9767e2\n",
      "  Stored in directory: c:\\users\\dell\\appdata\\local\\pip\\cache\\wheels\\9b\\3d\\39\\09558097d3119ca0a4d462df68f22c6f3c1b345ac63a09b86e\n",
      "Successfully built rouge_score\n",
      "Installing collected packages: rouge_score\n",
      "Successfully installed rouge_score-0.1.2\n"
     ]
    }
   ],
   "source": [
    "!pip install rouge_score"
   ]
  },
  {
   "cell_type": "code",
   "execution_count": 11,
   "metadata": {},
   "outputs": [
    {
     "name": "stdout",
     "output_type": "stream",
     "text": [
      "Evaluating model on partial->remainder dataset...\n",
      "Computing ROUGE on the entire set...\n",
      "ROUGE results: {'rouge1': 0.22971821764532108, 'rouge2': 0.03120677304499376, 'rougeL': 0.15371285446445654, 'rougeLsum': 0.19713266079334413}\n",
      "\n",
      "Average BLEU on test set = 0.0210\n",
      "ROUGE-L F1 (corpus-level) = 0.1537\n"
     ]
    }
   ],
   "source": [
    "# =============================================\n",
    "# 6) Evaluate with BLEU and ROUGE\n",
    "# =============================================\n",
    "\n",
    "# We'll define NLTK BLEU with sentence_bleu each sample\n",
    "# We'll define a ROUGE evaluator using `evaluate.load(\"rouge\")`\n",
    "\n",
    "rouge_evaluator = evaluate.load(\"rouge\")\n",
    "\n",
    "# We'll store sample-level BLEU and ROUGE-L\n",
    "bleu_scores = []\n",
    "rougeL_scores = []\n",
    "\n",
    "# We'll also store references vs predictions for a batch approach to ROUGE\n",
    "references = []\n",
    "predictions = []\n",
    "\n",
    "# We'll define a smoothing function for BLEU\n",
    "smoother = nltk.translate.bleu_score.SmoothingFunction().method1\n",
    "\n",
    "print(\"Evaluating model on partial->remainder dataset...\")\n",
    "\n",
    "for i, (partial, reference_remainder) in enumerate(pairs):\n",
    "    # 1) Generate entire text from partial\n",
    "    gen_text = generate_remainder(model, tokenizer, partial, max_new_tokens=100)\n",
    "    # 2) Extract the remainder portion from the generation\n",
    "    predicted_remainder = extract_model_remainder(gen_text, partial)\n",
    "\n",
    "    # For BLEU, we do sentence_bleu(references, hypothesis), references must be list of tokens\n",
    "    ref_tokens = nltk.word_tokenize(reference_remainder.lower())\n",
    "    hyp_tokens = nltk.word_tokenize(predicted_remainder.lower())\n",
    "\n",
    "    # If reference is empty or partial is empty, skip or handle carefully\n",
    "    if len(ref_tokens)==0 or len(hyp_tokens)==0:\n",
    "        bleu = 0.0\n",
    "    else:\n",
    "        bleu = sentence_bleu(\n",
    "            [ref_tokens], \n",
    "            hyp_tokens, \n",
    "            smoothing_function=smoother\n",
    "        )\n",
    "    bleu_scores.append(bleu)\n",
    "\n",
    "    # For ROUGE, we can store them for batch evaluate or do single-sample approach\n",
    "    references.append(reference_remainder)\n",
    "    predictions.append(predicted_remainder)\n",
    "\n",
    "print(\"Computing ROUGE on the entire set...\")\n",
    "\n",
    "# compute ROUGE metrics on all references/predictions\n",
    "# evaluate library expects lists\n",
    "rouge_results = rouge_evaluator.compute(predictions=predictions, references=references)\n",
    "# typically it includes 'rouge1', 'rouge2', 'rougeL', 'rougeLsum'\n",
    "rougeL = rouge_results[\"rougeL\"]  # F-measure for ROUGE-L\n",
    "print(\"ROUGE results:\", rouge_results)\n",
    "\n",
    "# We'll store sample-level ROUGE-L by computing individually if we want\n",
    "# for a distribution. But the evaluate library approach is standard for an average.\n",
    "\n",
    "# So we do have a single \"rougeL\" for the entire corpus. If you want sample-level:\n",
    "# you'd do something like:\n",
    "# single_result = rouge_evaluator.compute(predictions=[predicted_remainder], references=[reference_remainder])\n",
    "\n",
    "# We'll just store the final corpus-level rougeL in rougeL_scores\n",
    "# or we skip sample-level distribution approach for ROUGE in this example\n",
    "rougeL_scores = rougeL  # corpus-level\n",
    "\n",
    "avg_bleu = np.mean(bleu_scores)\n",
    "print(f\"\\nAverage BLEU on test set = {avg_bleu:.4f}\")\n",
    "print(f\"ROUGE-L F1 (corpus-level) = {rougeL_scores:.4f}\")\n"
   ]
  },
  {
   "cell_type": "code",
   "execution_count": 12,
   "metadata": {},
   "outputs": [
    {
     "data": {
      "image/png": "[encoded data removed]",
      "text/plain": [
       "<Figure size 700x500 with 1 Axes>"
      ]
     },
     "metadata": {},
     "output_type": "display_data"
    }
   ],
   "source": [
    "# =============================================\n",
    "# 7) Visualize the BLEU distribution\n",
    "# =============================================\n",
    "plt.figure(figsize=(7,5))\n",
    "plt.hist(bleu_scores, bins=30, color=\"skyblue\", edgecolor=\"black\")\n",
    "plt.title(\"Distribution of Sample-Level BLEU Scores\")\n",
    "plt.xlabel(\"BLEU Score\")\n",
    "plt.ylabel(\"Frequency\")\n",
    "plt.show()\n",
    "\n",
    "# Because we only have a single corpus-level ROUGE-L, we can't do a distribution for each sample\n",
    "# unless we compute sample-level ROUGE individually. \n",
    "# If you want sample-level, you'd do a loop with rouge_evaluator for each sample \n",
    "# or a different approach. For demonstration, we show BLEU distribution.\n"
   ]
  },
  {
   "cell_type": "code",
   "execution_count": null,
   "metadata": {},
   "outputs": [],
   "source": []
  }
 ],
 "metadata": {
  "kernelspec": {
   "display_name": "ai-backend",
   "language": "python",
   "name": "python3"
  },
  "language_info": {
   "codemirror_mode": {
    "name": "ipython",
    "version": 3
   },
   "file_extension": ".py",
   "mimetype": "text/x-python",
   "name": "python",
   "nbconvert_exporter": "python",
   "pygments_lexer": "ipython3",
   "version": "3.9.19"
  }
 },
 "nbformat": 4,
 "nbformat_minor": 2
}
