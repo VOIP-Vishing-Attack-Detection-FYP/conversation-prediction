{
 "cells": [
  {
   "cell_type": "code",
   "execution_count": 1,
   "metadata": {},
   "outputs": [
    {
     "data": {
      "text/plain": [
       "'\\nBLEU and ROUGE Evaluation for a GPT-2 Conversation Prediction Model\\n\\nSteps:\\n1) Load CSV from user path\\n2) Build partial->remainder pairs\\n3) Load fine-tuned GPT-2 model\\n4) Generate predicted remainder for each partial snippet\\n5) Compare predicted vs. reference with BLEU and ROUGE\\n6) Visualize the distribution of sample-level BLEU or ROUGE\\n'"
      ]
     },
     "execution_count": 1,
     "metadata": {},
     "output_type": "execute_result"
    }
   ],
   "source": [
    "\"\"\"\n",
    "BLEU and ROUGE Evaluation for a GPT-2 Conversation Prediction Model\n",
    "\n",
    "Steps:\n",
    "1) Load CSV from user path\n",
    "2) Build partial->remainder pairs\n",
    "3) Load fine-tuned GPT-2 model\n",
    "4) Generate predicted remainder for each partial snippet\n",
    "5) Compare predicted vs. reference with BLEU and ROUGE\n",
    "6) Visualize the distribution of sample-level BLEU or ROUGE\n",
    "\"\"\"\n",
    "\n",
    "# If needed:\n",
    "# !pip install nltk evaluate rouge-score\n",
    "# Also, you might need to download NLTK data for BLEU if not present:\n",
    "# import nltk\n",
    "# nltk.download('punkt')\n"
   ]
  },
  {
   "cell_type": "code",
   "execution_count": 2,
   "metadata": {},
   "outputs": [],
   "source": [
    "# !pip install evaluate"
   ]
  },
  {
   "cell_type": "code",
   "execution_count": 3,
   "metadata": {},
   "outputs": [
    {
     "name": "stderr",
     "output_type": "stream",
     "text": [
      "c:\\Users\\DELL\\anaconda3\\envs\\ai-backend\\lib\\site-packages\\tqdm\\auto.py:21: TqdmWarning: IProgress not found. Please update jupyter and ipywidgets. See https://ipywidgets.readthedocs.io/en/stable/user_install.html\n",
      "  from .autonotebook import tqdm as notebook_tqdm\n",
      "c:\\Users\\DELL\\anaconda3\\envs\\ai-backend\\lib\\site-packages\\torchvision\\io\\image.py:13: UserWarning: Failed to load image Python extension: '[WinError 127] The specified procedure could not be found'If you don't plan on using image functionality from `torchvision.io`, you can ignore this warning. Otherwise, there might be something wrong with your environment. Did you have `libjpeg` or `libpng` installed before building `torchvision` from source?\n",
      "  warn(\n"
     ]
    },
    {
     "name": "stdout",
     "output_type": "stream",
     "text": [
      "WARNING:tensorflow:From c:\\Users\\DELL\\anaconda3\\envs\\ai-backend\\lib\\site-packages\\keras\\src\\losses.py:2976: The name tf.losses.sparse_softmax_cross_entropy is deprecated. Please use tf.compat.v1.losses.sparse_softmax_cross_entropy instead.\n",
      "\n",
      "Device in use: cpu\n"
     ]
    }
   ],
   "source": [
    "# =============================================\n",
    "# 1) Imports\n",
    "# =============================================\n",
    "import os\n",
    "import math\n",
    "import pandas as pd\n",
    "import torch\n",
    "\n",
    "# We'll use NLTK for BLEU\n",
    "import nltk\n",
    "from nltk.translate.bleu_score import sentence_bleu, SmoothingFunction\n",
    "\n",
    "# We'll use evaluate for ROUGE\n",
    "import evaluate\n",
    "\n",
    "# Torch, Transformers\n",
    "from torch.utils.data import Dataset\n",
    "from transformers import GPT2LMHeadModel, GPT2Tokenizer\n",
    "\n",
    "import matplotlib.pyplot as plt\n",
    "import numpy as np\n",
    "\n",
    "device = torch.device(\"cuda\" if torch.cuda.is_available() else \"cpu\")\n",
    "print(\"Device in use:\", device)\n"
   ]
  },
  {
   "cell_type": "code",
   "execution_count": 4,
   "metadata": {},
   "outputs": [
    {
     "name": "stdout",
     "output_type": "stream",
     "text": [
      "CSV Path: C:/Users/DELL/Desktop/VOIP_Phishing_Attacks/Repos/convoPredict/conversation-prediction/testdataset.csv\n",
      "Model Dir: C:/Users/DELL/Desktop/VOIP_Phishing_Attacks/Repos/convoPredict/conversation-prediction/research/3. MidEvaluation/fineTune/gpt2_conversation_predict_model\n"
     ]
    }
   ],
   "source": [
    "# =============================================\n",
    "# 2) CSV Path & Model Dir\n",
    "# =============================================\n",
    "csv_path = r\"C:/Users/DELL/Desktop/VOIP_Phishing_Attacks/Repos/convoPredict/conversation-prediction/testdataset.csv\"\n",
    "model_dir = r\"C:/Users/DELL/Desktop/VOIP_Phishing_Attacks/Repos/convoPredict/conversation-prediction/research/3. MidEvaluation/fineTune/gpt2_conversation_predict_model\"\n",
    "\n",
    "partial_ratio = 0.5  # <--- param: how large partial snippet is vs remainder\n",
    "print(\"CSV Path:\", csv_path)\n",
    "print(\"Model Dir:\", model_dir)\n"
   ]
  },
  {
   "cell_type": "code",
   "execution_count": 5,
   "metadata": {},
   "outputs": [
    {
     "name": "stdout",
     "output_type": "stream",
     "text": [
      "Number of partial->remainder pairs: 29\n",
      "Sample pair:\n",
      "Partial: Hello, I need help with my bank account.\n",
      "Sure, I can help you with that. Can you please provide your account number?\n",
      "My account number is 12345678.\n",
      "Thank you. Can you also provide your PIN?\n",
      "My PIN is 1234.\n",
      "Thank you. Please hold on while I verify your information.\n",
      "Okay, I'll wait. \n",
      "Remainder: Wait, how do I know this is really my bank?\n",
      "I assure you, this is a legitimate call. You can check the number we are calling from.\n",
      "Alright, the number does match my bank's number.\n",
      "Great, now please provide your account number and PIN.\n",
      "Here is my account number: 12345678 and my PIN: 1234.\n",
      "Thank you. Your account is now secure.\n",
      "I'm glad to hear that. Thank you for your help.\n",
      "You're welcome. Have a nice day.\n"
     ]
    }
   ],
   "source": [
    "# =============================================\n",
    "# 3) Build partial->remainder from CSV\n",
    "# =============================================\n",
    "def build_partial_remainder(csv_path, partial_ratio=0.5):\n",
    "    \"\"\"\n",
    "    Groups lines by conversation ID, sorts by step,\n",
    "    then splits each conversation into partial vs remainder.\n",
    "    Returns a list of (partial_str, remainder_str).\n",
    "    \"\"\"\n",
    "    df = pd.read_csv(csv_path)\n",
    "    pairs = []\n",
    "    for convo_id, group in df.groupby(\"CONVERSATION_ID\"):\n",
    "        group_sorted = group.sort_values(\"CONVERSATION_STEP\")\n",
    "        texts = group_sorted[\"TEXT\"].tolist()\n",
    "        if len(texts) < 2:\n",
    "            continue\n",
    "        cutoff = max(1, int(len(texts)*partial_ratio))\n",
    "        partial_list = texts[:cutoff]\n",
    "        remainder_list= texts[cutoff:]\n",
    "        partial_str = \"\\n\".join(partial_list).strip()\n",
    "        remainder_str= \"\\n\".join(remainder_list).strip()\n",
    "        if partial_str and remainder_str:\n",
    "            pairs.append((partial_str, remainder_str))\n",
    "    return pairs\n",
    "\n",
    "pairs = build_partial_remainder(csv_path, partial_ratio=partial_ratio)\n",
    "print(f\"Number of partial->remainder pairs: {len(pairs)}\")\n",
    "if pairs:\n",
    "    print(\"Sample pair:\\nPartial:\", pairs[0][0], \"\\nRemainder:\", pairs[0][1])\n"
   ]
  },
  {
   "cell_type": "code",
   "execution_count": 6,
   "metadata": {},
   "outputs": [
    {
     "name": "stdout",
     "output_type": "stream",
     "text": [
      "Loading tokenizer and model from: C:/Users/DELL/Desktop/VOIP_Phishing_Attacks/Repos/convoPredict/conversation-prediction/research/3. MidEvaluation/fineTune/gpt2_conversation_predict_model\n"
     ]
    },
    {
     "name": "stdout",
     "output_type": "stream",
     "text": [
      "Model loaded.\n"
     ]
    }
   ],
   "source": [
    "# =============================================\n",
    "# 4) Load GPT-2 Fine-Tuned Model\n",
    "# =============================================\n",
    "print(\"Loading tokenizer and model from:\", model_dir)\n",
    "tokenizer = GPT2Tokenizer.from_pretrained(model_dir)\n",
    "# GPT-2 typically no pad token => let's set pad_token = eos_token\n",
    "tokenizer.pad_token = tokenizer.eos_token\n",
    "\n",
    "model = GPT2LMHeadModel.from_pretrained(model_dir)\n",
    "model.to(device)\n",
    "model.eval()\n",
    "print(\"Model loaded.\")\n"
   ]
  },
  {
   "cell_type": "code",
   "execution_count": 7,
   "metadata": {},
   "outputs": [],
   "source": [
    "# =============================================\n",
    "# 5) Generate Predicted Remainder from Partial\n",
    "# =============================================\n",
    "def generate_remainder(model, tokenizer, partial_text, max_new_tokens=50):\n",
    "    inputs = tokenizer(partial_text, return_tensors=\"pt\").to(device)\n",
    "    with torch.no_grad():\n",
    "        output_ids = model.generate(\n",
    "            **inputs,\n",
    "            max_new_tokens=max_new_tokens, \n",
    "            do_sample=False, \n",
    "            pad_token_id=tokenizer.eos_token_id  # avoid errors for pad\n",
    "        )\n",
    "    full_text = tokenizer.decode(output_ids[0], skip_special_tokens=True)\n",
    "    # The entire text includes partial + newly generated remainder\n",
    "    # If you want to isolate the remainder portion, you can do some substring logic\n",
    "    return full_text\n",
    "\n",
    "# We'll define a function that tries to extract the part after the partial \n",
    "# to compare with the reference remainder. This is optional.\n",
    "def extract_model_remainder(full_gen, partial_text):\n",
    "    \"\"\"\n",
    "    Attempt to get the substring of full_gen that appears after partial_text\n",
    "    for direct comparison with the reference remainder.\n",
    "    We'll do a naive approach: find partial_text inside full_gen and take what's after.\n",
    "    \"\"\"\n",
    "    idx = full_gen.find(partial_text)\n",
    "    if idx == -1:\n",
    "        # partial_text not found exactly, fallback\n",
    "        return full_gen\n",
    "    else:\n",
    "        # remainder is what's after partial_text\n",
    "        after_part = full_gen[idx+len(partial_text):].strip()\n",
    "        return after_part\n"
   ]
  },
  {
   "cell_type": "code",
   "execution_count": 8,
   "metadata": {},
   "outputs": [
    {
     "name": "stdout",
     "output_type": "stream",
     "text": [
      "Requirement already satisfied: rouge_score in c:\\users\\dell\\anaconda3\\envs\\ai-backend\\lib\\site-packages (0.1.2)\n",
      "Requirement already satisfied: absl-py in c:\\users\\dell\\anaconda3\\envs\\ai-backend\\lib\\site-packages (from rouge_score) (1.4.0)\n",
      "Requirement already satisfied: nltk in c:\\users\\dell\\anaconda3\\envs\\ai-backend\\lib\\site-packages (from rouge_score) (3.8.1)\n",
      "Requirement already satisfied: numpy in c:\\users\\dell\\anaconda3\\envs\\ai-backend\\lib\\site-packages (from rouge_score) (1.24.3)\n",
      "Requirement already satisfied: six>=1.14.0 in c:\\users\\dell\\anaconda3\\envs\\ai-backend\\lib\\site-packages (from rouge_score) (1.16.0)\n",
      "Requirement already satisfied: click in c:\\users\\dell\\anaconda3\\envs\\ai-backend\\lib\\site-packages (from nltk->rouge_score) (8.1.6)\n",
      "Requirement already satisfied: joblib in c:\\users\\dell\\anaconda3\\envs\\ai-backend\\lib\\site-packages (from nltk->rouge_score) (1.3.1)\n",
      "Requirement already satisfied: regex>=2021.8.3 in c:\\users\\dell\\anaconda3\\envs\\ai-backend\\lib\\site-packages (from nltk->rouge_score) (2023.6.3)\n",
      "Requirement already satisfied: tqdm in c:\\users\\dell\\anaconda3\\envs\\ai-backend\\lib\\site-packages (from nltk->rouge_score) (4.67.1)\n",
      "Requirement already satisfied: colorama in c:\\users\\dell\\anaconda3\\envs\\ai-backend\\lib\\site-packages (from click->nltk->rouge_score) (0.4.6)\n"
     ]
    }
   ],
   "source": [
    "# !pip install rouge_score"
   ]
  },
  {
   "cell_type": "code",
   "execution_count": 9,
   "metadata": {},
   "outputs": [
    {
     "name": "stdout",
     "output_type": "stream",
     "text": [
      "Evaluating model on partial->remainder dataset...\n",
      "Computing ROUGE on the entire set...\n",
      "ROUGE results: {'rouge1': 0.15045413527282825, 'rouge2': 0.012404530591411188, 'rougeL': 0.11800321353720708, 'rougeLsum': 0.14025164306548576}\n",
      "\n",
      "Average BLEU on test set = 0.0135\n",
      "ROUGE-L F1 (corpus-level) = 0.1180\n"
     ]
    }
   ],
   "source": [
    "# =============================================\n",
    "# 6) Evaluate with BLEU and ROUGE\n",
    "# =============================================\n",
    "\n",
    "# We'll define NLTK BLEU with sentence_bleu each sample\n",
    "# We'll define a ROUGE evaluator using `evaluate.load(\"rouge\")`\n",
    "\n",
    "rouge_evaluator = evaluate.load(\"rouge\")\n",
    "\n",
    "# We'll store sample-level BLEU and ROUGE-L\n",
    "bleu_scores = []\n",
    "rougeL_scores = []\n",
    "\n",
    "# We'll also store references vs predictions for a batch approach to ROUGE\n",
    "references = []\n",
    "predictions = []\n",
    "\n",
    "# We'll define a smoothing function for BLEU\n",
    "smoother = nltk.translate.bleu_score.SmoothingFunction().method1\n",
    "\n",
    "print(\"Evaluating model on partial->remainder dataset...\")\n",
    "\n",
    "for i, (partial, reference_remainder) in enumerate(pairs):\n",
    "    # 1) Generate entire text from partial\n",
    "    gen_text = generate_remainder(model, tokenizer, partial, max_new_tokens=100)\n",
    "    # 2) Extract the remainder portion from the generation\n",
    "    predicted_remainder = extract_model_remainder(gen_text, partial)\n",
    "\n",
    "    # For BLEU, we do sentence_bleu(references, hypothesis), references must be list of tokens\n",
    "    ref_tokens = nltk.word_tokenize(reference_remainder.lower())\n",
    "    hyp_tokens = nltk.word_tokenize(predicted_remainder.lower())\n",
    "\n",
    "    # If reference is empty or partial is empty, skip or handle carefully\n",
    "    if len(ref_tokens)==0 or len(hyp_tokens)==0:\n",
    "        bleu = 0.0\n",
    "    else:\n",
    "        bleu = sentence_bleu(\n",
    "            [ref_tokens], \n",
    "            hyp_tokens, \n",
    "            smoothing_function=smoother\n",
    "        )\n",
    "    bleu_scores.append(bleu)\n",
    "\n",
    "    # For ROUGE, we can store them for batch evaluate or do single-sample approach\n",
    "    references.append(reference_remainder)\n",
    "    predictions.append(predicted_remainder)\n",
    "\n",
    "print(\"Computing ROUGE on the entire set...\")\n",
    "\n",
    "# compute ROUGE metrics on all references/predictions\n",
    "# evaluate library expects lists\n",
    "rouge_results = rouge_evaluator.compute(predictions=predictions, references=references)\n",
    "# typically it includes 'rouge1', 'rouge2', 'rougeL', 'rougeLsum'\n",
    "rougeL = rouge_results[\"rougeL\"]  # F-measure for ROUGE-L\n",
    "print(\"ROUGE results:\", rouge_results)\n",
    "\n",
    "# We'll store sample-level ROUGE-L by computing individually if we want\n",
    "# for a distribution. But the evaluate library approach is standard for an average.\n",
    "\n",
    "# So we do have a single \"rougeL\" for the entire corpus. If you want sample-level:\n",
    "# you'd do something like:\n",
    "# single_result = rouge_evaluator.compute(predictions=[predicted_remainder], references=[reference_remainder])\n",
    "\n",
    "# We'll just store the final corpus-level rougeL in rougeL_scores\n",
    "# or we skip sample-level distribution approach for ROUGE in this example\n",
    "rougeL_scores = rougeL  # corpus-level\n",
    "\n",
    "avg_bleu = np.mean(bleu_scores)\n",
    "print(f\"\\nAverage BLEU on test set = {avg_bleu:.4f}\")\n",
    "print(f\"ROUGE-L F1 (corpus-level) = {rougeL_scores:.4f}\")\n"
   ]
  },
  {
   "cell_type": "code",
   "execution_count": 10,
   "metadata": {},
   "outputs": [
    {
     "data": {
      "image/png": "[encoded data removed]",
      "text/plain": [
       "<Figure size 700x500 with 1 Axes>"
      ]
     },
     "metadata": {},
     "output_type": "display_data"
    }
   ],
   "source": [
    "# =============================================\n",
    "# 7) Visualize the BLEU distribution\n",
    "# =============================================\n",
    "plt.figure(figsize=(7,5))\n",
    "plt.hist(bleu_scores, bins=30, color=\"skyblue\", edgecolor=\"black\")\n",
    "plt.title(\"Distribution of Sample-Level BLEU Scores on T5\")\n",
    "plt.xlabel(\"BLEU Score\")\n",
    "plt.ylabel(\"Frequency\")\n",
    "plt.show()"
   ]
  },
  {
   "cell_type": "code",
   "execution_count": null,
   "metadata": {},
   "outputs": [],
   "source": []
  },
  {
   "cell_type": "code",
   "execution_count": null,
   "metadata": {},
   "outputs": [],
   "source": []
  },
  {
   "cell_type": "code",
   "execution_count": null,
   "metadata": {},
   "outputs": [],
   "source": []
  }
 ],
 "metadata": {
  "kernelspec": {
   "display_name": "ai-backend",
   "language": "python",
   "name": "python3"
  },
  "language_info": {
   "codemirror_mode": {
    "name": "ipython",
    "version": 3
   },
   "file_extension": ".py",
   "mimetype": "text/x-python",
   "name": "python",
   "nbconvert_exporter": "python",
   "pygments_lexer": "ipython3",
   "version": "3.9.19"
  }
 },
 "nbformat": 4,
 "nbformat_minor": 2
}
