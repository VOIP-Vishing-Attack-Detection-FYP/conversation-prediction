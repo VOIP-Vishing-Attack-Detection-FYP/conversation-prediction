{
 "cells": [
  {
   "cell_type": "code",
   "execution_count": 3,
   "metadata": {},
   "outputs": [
    {
     "name": "stdout",
     "output_type": "stream",
     "text": [
      "Requirement already satisfied: pandas in c:\\users\\dell\\anaconda3\\envs\\ai-backend\\lib\\site-packages (1.5.3)\n",
      "Requirement already satisfied: torch in c:\\users\\dell\\anaconda3\\envs\\ai-backend\\lib\\site-packages (2.5.1)\n",
      "Requirement already satisfied: transformers in c:\\users\\dell\\anaconda3\\envs\\ai-backend\\lib\\site-packages (4.47.1)\n",
      "Requirement already satisfied: nltk in c:\\users\\dell\\anaconda3\\envs\\ai-backend\\lib\\site-packages (3.8.1)\n",
      "Requirement already satisfied: rouge-score in c:\\users\\dell\\anaconda3\\envs\\ai-backend\\lib\\site-packages (0.1.2)\n",
      "Requirement already satisfied: matplotlib in c:\\users\\dell\\anaconda3\\envs\\ai-backend\\lib\\site-packages (3.7.2)\n",
      "Requirement already satisfied: seaborn in c:\\users\\dell\\anaconda3\\envs\\ai-backend\\lib\\site-packages (0.13.2)\n",
      "Requirement already satisfied: python-dateutil>=2.8.1 in c:\\users\\dell\\anaconda3\\envs\\ai-backend\\lib\\site-packages (from pandas) (2.8.2)\n",
      "Requirement already satisfied: pytz>=2020.1 in c:\\users\\dell\\anaconda3\\envs\\ai-backend\\lib\\site-packages (from pandas) (2023.3)\n",
      "Requirement already satisfied: numpy>=1.20.3 in c:\\users\\dell\\anaconda3\\envs\\ai-backend\\lib\\site-packages (from pandas) (1.24.3)\n",
      "Requirement already satisfied: filelock in c:\\users\\dell\\anaconda3\\envs\\ai-backend\\lib\\site-packages (from torch) (3.12.2)\n",
      "Requirement already satisfied: typing-extensions>=4.8.0 in c:\\users\\dell\\anaconda3\\envs\\ai-backend\\lib\\site-packages (from torch) (4.9.0)\n",
      "Requirement already satisfied: networkx in c:\\users\\dell\\anaconda3\\envs\\ai-backend\\lib\\site-packages (from torch) (3.1)\n",
      "Requirement already satisfied: jinja2 in c:\\users\\dell\\anaconda3\\envs\\ai-backend\\lib\\site-packages (from torch) (3.1.2)\n",
      "Requirement already satisfied: fsspec in c:\\users\\dell\\anaconda3\\envs\\ai-backend\\lib\\site-packages (from torch) (2023.6.0)\n",
      "Requirement already satisfied: sympy==1.13.1 in c:\\users\\dell\\anaconda3\\envs\\ai-backend\\lib\\site-packages (from torch) (1.13.1)\n",
      "Requirement already satisfied: mpmath<1.4,>=1.1.0 in c:\\users\\dell\\anaconda3\\envs\\ai-backend\\lib\\site-packages (from sympy==1.13.1->torch) (1.3.0)\n",
      "Requirement already satisfied: huggingface-hub<1.0,>=0.24.0 in c:\\users\\dell\\anaconda3\\envs\\ai-backend\\lib\\site-packages (from transformers) (0.27.0)\n",
      "Requirement already satisfied: packaging>=20.0 in c:\\users\\dell\\anaconda3\\envs\\ai-backend\\lib\\site-packages (from transformers) (23.2)\n",
      "Requirement already satisfied: pyyaml>=5.1 in c:\\users\\dell\\anaconda3\\envs\\ai-backend\\lib\\site-packages (from transformers) (6.0.1)\n",
      "Requirement already satisfied: regex!=2019.12.17 in c:\\users\\dell\\anaconda3\\envs\\ai-backend\\lib\\site-packages (from transformers) (2023.6.3)\n",
      "Requirement already satisfied: requests in c:\\users\\dell\\anaconda3\\envs\\ai-backend\\lib\\site-packages (from transformers) (2.32.3)\n",
      "Requirement already satisfied: tokenizers<0.22,>=0.21 in c:\\users\\dell\\anaconda3\\envs\\ai-backend\\lib\\site-packages (from transformers) (0.21.0)\n",
      "Requirement already satisfied: safetensors>=0.4.1 in c:\\users\\dell\\anaconda3\\envs\\ai-backend\\lib\\site-packages (from transformers) (0.4.5)\n",
      "Requirement already satisfied: tqdm>=4.27 in c:\\users\\dell\\anaconda3\\envs\\ai-backend\\lib\\site-packages (from transformers) (4.67.1)\n",
      "Requirement already satisfied: click in c:\\users\\dell\\anaconda3\\envs\\ai-backend\\lib\\site-packages (from nltk) (8.1.6)\n",
      "Requirement already satisfied: joblib in c:\\users\\dell\\anaconda3\\envs\\ai-backend\\lib\\site-packages (from nltk) (1.3.1)\n",
      "Requirement already satisfied: absl-py in c:\\users\\dell\\anaconda3\\envs\\ai-backend\\lib\\site-packages (from rouge-score) (1.4.0)\n",
      "Requirement already satisfied: six>=1.14.0 in c:\\users\\dell\\anaconda3\\envs\\ai-backend\\lib\\site-packages (from rouge-score) (1.16.0)\n",
      "Requirement already satisfied: contourpy>=1.0.1 in c:\\users\\dell\\anaconda3\\envs\\ai-backend\\lib\\site-packages (from matplotlib) (1.1.0)\n",
      "Requirement already satisfied: cycler>=0.10 in c:\\users\\dell\\anaconda3\\envs\\ai-backend\\lib\\site-packages (from matplotlib) (0.11.0)\n",
      "Requirement already satisfied: fonttools>=4.22.0 in c:\\users\\dell\\anaconda3\\envs\\ai-backend\\lib\\site-packages (from matplotlib) (4.42.0)\n",
      "Requirement already satisfied: kiwisolver>=1.0.1 in c:\\users\\dell\\anaconda3\\envs\\ai-backend\\lib\\site-packages (from matplotlib) (1.4.4)\n",
      "Requirement already satisfied: pillow>=6.2.0 in c:\\users\\dell\\anaconda3\\envs\\ai-backend\\lib\\site-packages (from matplotlib) (10.0.0)\n",
      "Requirement already satisfied: pyparsing<3.1,>=2.3.1 in c:\\users\\dell\\anaconda3\\envs\\ai-backend\\lib\\site-packages (from matplotlib) (3.0.9)\n",
      "Requirement already satisfied: importlib-resources>=3.2.0 in c:\\users\\dell\\anaconda3\\envs\\ai-backend\\lib\\site-packages (from matplotlib) (6.0.0)\n",
      "Requirement already satisfied: zipp>=3.1.0 in c:\\users\\dell\\anaconda3\\envs\\ai-backend\\lib\\site-packages (from importlib-resources>=3.2.0->matplotlib) (3.16.2)\n",
      "Requirement already satisfied: colorama in c:\\users\\dell\\anaconda3\\envs\\ai-backend\\lib\\site-packages (from tqdm>=4.27->transformers) (0.4.6)\n",
      "Requirement already satisfied: MarkupSafe>=2.0 in c:\\users\\dell\\anaconda3\\envs\\ai-backend\\lib\\site-packages (from jinja2->torch) (2.1.1)\n",
      "Requirement already satisfied: charset-normalizer<4,>=2 in c:\\users\\dell\\anaconda3\\envs\\ai-backend\\lib\\site-packages (from requests->transformers) (3.2.0)\n",
      "Requirement already satisfied: idna<4,>=2.5 in c:\\users\\dell\\anaconda3\\envs\\ai-backend\\lib\\site-packages (from requests->transformers) (3.4)\n",
      "Requirement already satisfied: urllib3<3,>=1.21.1 in c:\\users\\dell\\anaconda3\\envs\\ai-backend\\lib\\site-packages (from requests->transformers) (1.26.18)\n",
      "Requirement already satisfied: certifi>=2017.4.17 in c:\\users\\dell\\anaconda3\\envs\\ai-backend\\lib\\site-packages (from requests->transformers) (2023.11.17)\n"
     ]
    }
   ],
   "source": [
    "!pip install pandas torch transformers nltk rouge-score matplotlib seaborn\n"
   ]
  },
  {
   "cell_type": "code",
   "execution_count": 10,
   "metadata": {},
   "outputs": [
    {
     "name": "stdout",
     "output_type": "stream",
     "text": [
      "Using device: cpu\n"
     ]
    },
    {
     "name": "stderr",
     "output_type": "stream",
     "text": [
      "[nltk_data] Downloading package punkt to\n",
      "[nltk_data]     C:\\Users\\DELL\\AppData\\Roaming\\nltk_data...\n",
      "[nltk_data]   Package punkt is already up-to-date!\n"
     ]
    }
   ],
   "source": [
    "# =========================================\n",
    "# 1) Imports\n",
    "# =========================================\n",
    "import os\n",
    "import math\n",
    "import pandas as pd\n",
    "import torch\n",
    "import nltk\n",
    "from nltk.translate.bleu_score import sentence_bleu, SmoothingFunction\n",
    "from transformers import XLNetTokenizer, XLNetLMHeadModel\n",
    "import matplotlib.pyplot as plt\n",
    "import numpy as np\n",
    "\n",
    "nltk.download('punkt')  # Ensure the NLTK tokenizers are downloaded\n",
    "\n",
    "device = torch.device(\"cuda\" if torch.cuda.is_available() else \"cpu\")\n",
    "print(\"Using device:\", device)"
   ]
  },
  {
   "cell_type": "code",
   "execution_count": 11,
   "metadata": {},
   "outputs": [
    {
     "name": "stdout",
     "output_type": "stream",
     "text": [
      "CSV Path: C:/Users/DELL/Desktop/VOIP_Phishing_Attacks/Repos/convoPredict/conversation-prediction/testdataset.csv\n",
      "Model Path: C:/Users/DELL/Desktop/VOIP_Phishing_Attacks/Repos/convoPredict/conversation-prediction/research/3. MidEvaluation/fineTune/xlnet_finetuned\n"
     ]
    }
   ],
   "source": [
    "# =========================================\n",
    "# 2) Paths\n",
    "# =========================================\n",
    "csv_path = r\"C:/Users/DELL/Desktop/VOIP_Phishing_Attacks/Repos/convoPredict/conversation-prediction/testdataset.csv\"\n",
    "model_path = \"C:/Users/DELL/Desktop/VOIP_Phishing_Attacks/Repos/convoPredict/conversation-prediction/research/3. MidEvaluation/fineTune/xlnet_finetuned\"\n",
    "print(\"CSV Path:\", csv_path)\n",
    "print(\"Model Path:\", model_path)"
   ]
  },
  {
   "cell_type": "code",
   "execution_count": 12,
   "metadata": {},
   "outputs": [
    {
     "name": "stdout",
     "output_type": "stream",
     "text": [
      "Number of partial->entire pairs: 29\n",
      "\n",
      "Sample pair:\n",
      "Partial: Hello, I need help with my bank account.\n",
      "Sure, I can help you with that. Can you please provide your account number?\n",
      "My account number is 12345678.\n",
      "Thank you. Can you also provide your PIN?\n",
      "My PIN is 1234.\n",
      "Thank you. Please hold on while I verify your information.\n",
      "Okay, I'll wait. \n",
      "Entire: Hello, I need help with my bank account.\n",
      "Sure, I can help you with that. Can you please provide your account number?\n",
      "My account number is 12345678.\n",
      "Thank you. Can you also provide your PIN?\n",
      "My PIN is 1234.\n",
      "Thank you. Please hold on while I verify your information.\n",
      "Okay, I'll wait.\n",
      "Wait, how do I know this is really my bank?\n",
      "I assure you, this is a legitimate call. You can check the number we are calling from.\n",
      "Alright, the number does match my bank's number.\n",
      "Great, now please provide your account number and PIN.\n",
      "Here is my account number: 12345678 and my PIN: 1234.\n",
      "Thank you. Your account is now secure.\n",
      "I'm glad to hear that. Thank you for your help.\n",
      "You're welcome. Have a nice day.\n"
     ]
    }
   ],
   "source": [
    "# =========================================\n",
    "# 3) Build partial->entire from CSV\n",
    "# =========================================\n",
    "def build_partial_entire(csv_path, partial_ratio=0.5):\n",
    "    df = pd.read_csv(csv_path)\n",
    "    pairs = []\n",
    "    for convo_id, group in df.groupby(\"CONVERSATION_ID\"):\n",
    "        group_sorted = group.sort_values(\"CONVERSATION_STEP\")\n",
    "        lines = group_sorted[\"TEXT\"].tolist()\n",
    "        if len(lines) < 2:\n",
    "            continue\n",
    "        entire_str = \"\\n\".join(lines).strip()\n",
    "        cutoff = max(1, int(len(lines) * partial_ratio))\n",
    "        partial_lines = lines[:cutoff]\n",
    "        partial_str = \"\\n\".join(partial_lines).strip()\n",
    "        pairs.append((partial_str, entire_str))\n",
    "    return pairs\n",
    "\n",
    "pairs = build_partial_entire(csv_path, partial_ratio=0.5)\n",
    "print(\"Number of partial->entire pairs:\", len(pairs))\n",
    "if pairs:\n",
    "    print(\"\\nSample pair:\\nPartial:\", pairs[0][0], \"\\nEntire:\", pairs[0][1])"
   ]
  },
  {
   "cell_type": "code",
   "execution_count": 13,
   "metadata": {},
   "outputs": [
    {
     "data": {
      "text/plain": [
       "XLNetLMHeadModel(\n",
       "  (transformer): XLNetModel(\n",
       "    (word_embedding): Embedding(32000, 768)\n",
       "    (layer): ModuleList(\n",
       "      (0-11): 12 x XLNetLayer(\n",
       "        (rel_attn): XLNetRelativeAttention(\n",
       "          (layer_norm): LayerNorm((768,), eps=1e-12, elementwise_affine=True)\n",
       "          (dropout): Dropout(p=0.1, inplace=False)\n",
       "        )\n",
       "        (ff): XLNetFeedForward(\n",
       "          (layer_norm): LayerNorm((768,), eps=1e-12, elementwise_affine=True)\n",
       "          (layer_1): Linear(in_features=768, out_features=3072, bias=True)\n",
       "          (layer_2): Linear(in_features=3072, out_features=768, bias=True)\n",
       "          (dropout): Dropout(p=0.1, inplace=False)\n",
       "          (activation_function): GELUActivation()\n",
       "        )\n",
       "        (dropout): Dropout(p=0.1, inplace=False)\n",
       "      )\n",
       "    )\n",
       "    (dropout): Dropout(p=0.1, inplace=False)\n",
       "  )\n",
       "  (lm_loss): Linear(in_features=768, out_features=32000, bias=True)\n",
       ")"
      ]
     },
     "execution_count": 13,
     "metadata": {},
     "output_type": "execute_result"
    }
   ],
   "source": [
    "# =========================================\n",
    "# 4) Load Fine-Tuned XLNet\n",
    "# =========================================\n",
    "tokenizer = XLNetTokenizer.from_pretrained(model_path)\n",
    "model = XLNetLMHeadModel.from_pretrained(model_path)\n",
    "model.to(device)\n",
    "model.eval()\n"
   ]
  },
  {
   "cell_type": "code",
   "execution_count": 15,
   "metadata": {},
   "outputs": [],
   "source": [
    "# =========================================\n",
    "# 5) Generate Entire Conversation from Partial\n",
    "# =========================================\n",
    "def generate_entire_conversation(model, tokenizer, partial_text, max_length=512, num_beams=4):\n",
    "    inputs = tokenizer.encode_plus(partial_text, add_special_tokens=True, return_tensors=\"pt\", max_length=max_length, truncation=True)\n",
    "    inputs = inputs.to(device)\n",
    "    with torch.no_grad():\n",
    "        outputs = model.generate(inputs['input_ids'], attention_mask=inputs['attention_mask'], max_length=max_length, num_beams=num_beams)\n",
    "    return tokenizer.decode(outputs[0], skip_special_tokens=True)\n",
    "\n"
   ]
  },
  {
   "cell_type": "code",
   "execution_count": 16,
   "metadata": {},
   "outputs": [
    {
     "name": "stdout",
     "output_type": "stream",
     "text": [
      "Hello, I need help with my bank account. Sure, I can help you with that. Can you please provide your account number? My account number is 12345678. Thank you. Can you also provide your PIN? My PIN is 1234. Thank you. Please hold on while I verify your information. Okay, I'll wait....................................................................................................................................................................................................................................................................................................................................................................................................................................................\n",
      "Hi, I received a message about a package delivery. Yes, we have a package for you. Can you confirm your address?, I have been waiting for you for a long time.........................................................................................................................................................................................................................................................................................................................................................................................................................................................................................\n",
      "Hello, this is Amazon customer service. We have seen a recent order number AMZ-0987 for an iPhone 11 Pro on your account. Wait, I didn't order an iPhone 11 Pro. What's going on? This order was billed to your card for $1499. We noticed some suspicious activity, so we have put a hold on this transaction. That doesn't seem right. I haven't made any purchases like that. To cancel this transaction, please press 1 now. If you wish to report fraud, press 2...............................................................................................................................................................................................................................................................................................................................................................................................................\n",
      "Hello, this is HMRC. A criminal case has been registered under your name for tax fraud and tax evasion. Wait, what? A criminal case? That doesn't make sense. Yes, sir. There is also a warrant out for your arrest. A warrant for my arrest? Are you serious? This is a recordable line, sir. I have to play this recording in the courthouse, so we don't need any interruptions in this call. Wait, this is going to be played in court? Yes, sir. The recording will be played in the courthouse. This doesn't sound right. How much do I supposedly owe?, I'm not going to pay you. I'm not going to pay you. I'm not going to pay you. I'm not going to pay you. I'm not going to pay you. I'm not going to pay you. I'm not going to pay you. I'm not going to pay you. I'm not going to pay you. I'm not going to pay you. I'm not going to pay you. I'm not going to pay you. I'm not going to pay you. I'm not going to pay you. I'm not going to pay you. I'm not going to pay you. I'm not going to pay you. I'm not going to pay you. I'm not going to pay you. I'm not going to pay you. I'm not going to pay you. I'm not going to pay you. I'm not going to pay you. I'm not going to pay you. I'm not going to pay you. I'm not going to pay you. I'm not going to pay you. I'm not going to pay you. I'm not going to pay you. I'm not going to pay you. I'm not going to pay you. I'm not going to pay you. I'm not going to pay you. I'm not going to pay you. I'm not going to pay you. I'm not going to pay you. I'm not going to pay you. I'm not going to pay you. I'm not going to pay you. I'm not going to pay you. I'm not going to pay you. I'm not going to\n",
      "You have reached the Department of National Crime Agency. How can I help you? Uh, I got a message saying that there is some problem with my National Insurance number. Okay, when did you receive the call? I got it yesterday. First of all, let me introduce myself. My name is Officer Season, Charlie Alpha 6581. Alright... and what exactly is the issue? Before we proceed, did you receive any reference number in the message? No, I don't think so......................................................................................................................................................................................................................................................................................................................................................................................................................\n",
      "Yeah, hi. Can I speak to you? Uh, yeah. Who is this? He was trying to reach you for the last couple of days but didn't get a hold of you. Who was trying to reach me? The reason I was trying to phone you, sir, is because for the last two days, we have been receiving notifications from your email. Notifications? What kind of notifications? Somebody has been trying to access your email from China. Wait, from China? That doesn't sound right..............................................................................................................................................................................................................................................................................................................................................................................................................\n",
      "Thank you for calling customer support. You are speaking to [Agent Name]. How can I help you? Um, hi. I have a message on my screen that says my computer is blocked for security reasons. Okay, I understand. Has this happened before, or is this the first time you're seeing this? I've never seen anything like this before. Alright. Can you tell me what you were doing on your computer when you got this message? I was clicking on some links I came across on Facebook. After I clicked on one, I got this warning. I'm not sure exactly what I clicked on. I see. It's possible that you clicked on a malicious link. Do you see any specific error code or instructions on the screen?..............................................................................................................................................................................................................................................................................................................................................................\n"
     ]
    }
   ],
   "source": [
    "predicted_texts = []\n",
    "for pair in pairs:\n",
    "    predicted_text = generate_entire_conversation(model, tokenizer, pair[0])\n",
    "    print(predicted_text)\n",
    "    predicted_texts.append(predicted_text)"
   ]
  },
  {
   "cell_type": "code",
   "execution_count": null,
   "metadata": {},
   "outputs": [],
   "source": [
    "# =========================================\n",
    "# 6) Evaluate with BLEU\n",
    "# =========================================\n",
    "bleu_scores = [sentence_bleu([nltk.word_tokenize(pair[1])], nltk.word_tokenize(pred), smoothing_function=SmoothingFunction().method1) for pair, pred in zip(pairs, predicted_texts)]\n",
    "average_bleu = np.mean(bleu_scores)\n",
    "print(f\"Average BLEU score: {average_bleu}\")"
   ]
  },
  {
   "cell_type": "code",
   "execution_count": null,
   "metadata": {},
   "outputs": [],
   "source": [
    "# =========================================\n",
    "# 7) Visualization\n",
    "# =========================================\n",
    "plt.figure(figsize=(10, 6))\n",
    "plt.hist(bleu_scores, bins=30, color=\"skyblue\", edgecolor=\"black\")\n",
    "plt.title(\"Distribution of BLEU Scores\")\n",
    "plt.xlabel(\"BLEU Score\")\n",
    "plt.ylabel(\"Number of Samples\")\n",
    "plt.show()\n",
    "\n",
    "# Optional: Print sample predictions with their BLEU scores\n",
    "for i, (pair, pred) in enumerate(zip(pairs, predicted_texts)):\n",
    "    if i < 5:  # Show only first 5 predictions\n",
    "        print(f\"Partial Text: {pair[0]}\")\n",
    "        print(f\"Generated Full Text: {pred}\")\n",
    "        print(f\"Actual Full Text: {pair[1]}\")\n",
    "        print(f\"BLEU Score: {bleu_scores[i]}\\n\")"
   ]
  }
 ],
 "metadata": {
  "kernelspec": {
   "display_name": "ai-backend",
   "language": "python",
   "name": "python3"
  },
  "language_info": {
   "codemirror_mode": {
    "name": "ipython",
    "version": 3
   },
   "file_extension": ".py",
   "mimetype": "text/x-python",
   "name": "python",
   "nbconvert_exporter": "python",
   "pygments_lexer": "ipython3",
   "version": "3.9.19"
  }
 },
 "nbformat": 4,
 "nbformat_minor": 2
}
