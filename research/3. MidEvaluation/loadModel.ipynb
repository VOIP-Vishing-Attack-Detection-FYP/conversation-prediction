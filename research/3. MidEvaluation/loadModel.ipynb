{
 "cells": [
  {
   "cell_type": "code",
   "execution_count": 2,
   "metadata": {},
   "outputs": [
    {
     "name": "stderr",
     "output_type": "stream",
     "text": [
      "/opt/anaconda3/envs/voipvishing/lib/python3.12/site-packages/tqdm/auto.py:21: TqdmWarning: IProgress not found. Please update jupyter and ipywidgets. See https://ipywidgets.readthedocs.io/en/stable/user_install.html\n",
      "  from .autonotebook import tqdm as notebook_tqdm\n"
     ]
    }
   ],
   "source": [
    "from transformers import (\n",
    "    GPT2LMHeadModel,\n",
    "    GPT2Tokenizer,\n",
    "    DataCollatorForLanguageModeling,\n",
    "    Trainer,\n",
    "    TrainingArguments\n",
    ")"
   ]
  },
  {
   "cell_type": "code",
   "execution_count": 3,
   "metadata": {},
   "outputs": [],
   "source": [
    "# Load model & tokenizer if needed\n",
    "model = GPT2LMHeadModel.from_pretrained(\"gpt2-conversation-finetuned\")\n",
    "tokenizer = GPT2Tokenizer.from_pretrained(\"gpt2-conversation-finetuned\")"
   ]
  },
  {
   "cell_type": "code",
   "execution_count": 4,
   "metadata": {},
   "outputs": [
    {
     "ename": "NameError",
     "evalue": "name 'trainer' is not defined",
     "output_type": "error",
     "traceback": [
      "\u001b[0;31m---------------------------------------------------------------------------\u001b[0m",
      "\u001b[0;31mNameError\u001b[0m                                 Traceback (most recent call last)",
      "Cell \u001b[0;32mIn[4], line 11\u001b[0m\n\u001b[1;32m      7\u001b[0m partial_conversation \u001b[38;5;241m=\u001b[39m \u001b[38;5;124m\"\"\"\u001b[39m\u001b[38;5;124mGood Morning, I am Sanuja calling on behalf of State Bank of Sri Lanka. Oh, hi. I\u001b[39m\u001b[38;5;124m'\u001b[39m\u001b[38;5;124mm actually in a meeting right now. Could you call later?\u001b[39m\n\u001b[1;32m      8\u001b[0m \u001b[38;5;124m\"\"\"\u001b[39m\n\u001b[1;32m     10\u001b[0m \u001b[38;5;66;03m# Encode the partial conversation\u001b[39;00m\n\u001b[0;32m---> 11\u001b[0m input_ids \u001b[38;5;241m=\u001b[39m tokenizer\u001b[38;5;241m.\u001b[39mencode(partial_conversation, return_tensors\u001b[38;5;241m=\u001b[39m\u001b[38;5;124m\"\u001b[39m\u001b[38;5;124mpt\u001b[39m\u001b[38;5;124m\"\u001b[39m)\u001b[38;5;241m.\u001b[39mto(\u001b[43mtrainer\u001b[49m\u001b[38;5;241m.\u001b[39mmodel\u001b[38;5;241m.\u001b[39mdevice)\n\u001b[1;32m     13\u001b[0m \u001b[38;5;66;03m# Generate up to some max length\u001b[39;00m\n\u001b[1;32m     14\u001b[0m max_gen_length \u001b[38;5;241m=\u001b[39m \u001b[38;5;241m100\u001b[39m  \u001b[38;5;66;03m# try more if you want a longer completion\u001b[39;00m\n",
      "\u001b[0;31mNameError\u001b[0m: name 'trainer' is not defined"
     ]
    }
   ],
   "source": [
    "# =========================================\n",
    "# 10) Inference / Generation\n",
    "# =========================================\n",
    "# Now, let's see how we might generate the rest of a conversation\n",
    "# given a partial conversation as a prompt.\n",
    "\n",
    "partial_conversation = \"\"\"Good Morning, I am Sanuja calling on behalf of State Bank of Sri Lanka. Oh, hi. I'm actually in a meeting right now. Could you call later?\n",
    "\"\"\"\n",
    "\n",
    "# Encode the partial conversation\n",
    "input_ids = tokenizer.encode(partial_conversation, return_tensors=\"pt\").to(trainer.model.device)\n",
    "\n",
    "# Generate up to some max length\n",
    "max_gen_length = 100  # try more if you want a longer completion\n",
    "\n",
    "# We can use various decoding strategies: greedy, beam search, sampling, etc.\n",
    "output_ids = model.generate(\n",
    "    input_ids,\n",
    "    max_length=max_gen_length,\n",
    "    do_sample=True,       # sample instead of greedy\n",
    "    top_k=50,\n",
    "    top_p=0.95,\n",
    "    temperature=0.7,\n",
    "    num_return_sequences=1,\n",
    "    pad_token_id=tokenizer.eos_token_id  # because GPT-2 needs an EOS token for padding\n",
    ")\n",
    "\n",
    "generated_text = tokenizer.decode(output_ids[0], skip_special_tokens=True)\n",
    "print(\"=== Generated Conversation Continuation ===\")\n",
    "print(generated_text)\n"
   ]
  },
  {
   "cell_type": "code",
   "execution_count": null,
   "metadata": {},
   "outputs": [],
   "source": []
  }
 ],
 "metadata": {
  "kernelspec": {
   "display_name": "voipvishing",
   "language": "python",
   "name": "python3"
  },
  "language_info": {
   "codemirror_mode": {
    "name": "ipython",
    "version": 3
   },
   "file_extension": ".py",
   "mimetype": "text/x-python",
   "name": "python",
   "nbconvert_exporter": "python",
   "pygments_lexer": "ipython3",
   "version": "3.12.8"
  }
 },
 "nbformat": 4,
 "nbformat_minor": 2
}
