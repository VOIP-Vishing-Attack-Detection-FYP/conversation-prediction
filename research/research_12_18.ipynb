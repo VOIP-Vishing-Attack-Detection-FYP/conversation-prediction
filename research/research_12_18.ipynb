{
 "cells": [
  {
   "cell_type": "code",
   "execution_count": 1,
   "metadata": {},
   "outputs": [],
   "source": [
    "import math\n",
    "import torch\n",
    "import torch.nn as nn\n",
    "import torch.optim as optim\n",
    "import torch.nn.functional as F\n",
    "from torch.utils.data import Dataset, DataLoader\n",
    "from torch.nn.utils.rnn import pad_sequence"
   ]
  },
  {
   "cell_type": "code",
   "execution_count": 2,
   "metadata": {},
   "outputs": [],
   "source": [
    "\n",
    "###############################################################\n",
    "# Conversations (Legitimate and Vishing) in List Format\n",
    "###############################################################"
   ]
  },
  {
   "cell_type": "code",
   "execution_count": 3,
   "metadata": {},
   "outputs": [],
   "source": [
    "legal_conversations = [\n",
    "    [\n",
    "        \"A: Hello, I’m Sarah from XYZ Bank’s support team. How can I help you today?\",\n",
    "        \"B: Hi Sarah, I was looking to update my address on my account. Could you assist me with that?\",\n",
    "        \"A: Certainly. Could you please verify the last four digits of your account number?\",\n",
    "        \"B: The last four digits are 1234.\",\n",
    "        \"A: Great. I see your current address is 123 Elm Street. What would you like to update it to?\",\n",
    "        \"B: I’d like it changed to 456 Oak Avenue, Springfield.\",\n",
    "        \"A: Perfect. I’ve updated the address. Is there anything else I can help with?\",\n",
    "        \"B: No, that’s all. Thank you so much.\",\n",
    "        \"A: You’re welcome! Have a wonderful day.\"\n",
    "    ],\n",
    "    [\n",
    "        \"A: Good morning, this is Max from ABC Internet Services. How may I assist you?\",\n",
    "        \"B: Hi Max, my internet has been running slower than usual. Can you help me figure out why?\",\n",
    "        \"A: Sure, let’s run a quick diagnostic. Could you confirm the email address associated with your account?\",\n",
    "        \"B: It’s jane.doe@example.com.\",\n",
    "        \"A: Thanks. I see there’s some scheduled maintenance in your area which might cause slow speeds. It should be resolved by tomorrow morning.\",\n",
    "        \"B: Got it, thanks for checking. Is there any way to get a temporary speed boost?\",\n",
    "        \"A: Unfortunately, not during maintenance. But I can offer you a small credit for the inconvenience. Would that help?\",\n",
    "        \"B: That would be great. Thanks!\",\n",
    "        \"A: I’ve applied a $5 credit. Anything else I can do?\",\n",
    "        \"B: No, that’s all. Appreciate your help.\",\n",
    "        \"A: My pleasure. Have a nice day!\"\n",
    "    ],\n",
    "    [\n",
    "        \"A: Hello, Julie from Secure Payments. How can I help?\",\n",
    "        \"B: Hi Julie, I want to set a travel notice on my credit card.\",\n",
    "        \"A: Absolutely. Could I have the last transaction amount you made so I can verify your identity?\",\n",
    "        \"B: My last transaction was $45 at GroceryMart.\",\n",
    "        \"A: Perfect, I see that. What dates and countries will you be traveling to?\",\n",
    "        \"B: I’ll be in Germany from June 10th to June 20th.\",\n",
    "        \"A: Got it. I’ve placed a travel notice for those dates. You’re all set.\",\n",
    "        \"B: Thank you, that’s all I needed.\",\n",
    "        \"A: You’re welcome. Safe travels!\"\n",
    "    ]\n",
    "]"
   ]
  },
  {
   "cell_type": "code",
   "execution_count": 4,
   "metadata": {},
   "outputs": [],
   "source": [
    "vishing_conversations = [\n",
    "    [\n",
    "        \"A: Hello, this is Andrew calling from Premium Bank’s fraud department.\",\n",
    "        \"B: Oh, hi. Is there an issue with my account?\",\n",
    "        \"A: Yes, we noticed several suspicious charges. Could you provide your full account number so we can secure your account immediately?\",\n",
    "        \"B: I’m not comfortable giving my full account number over the phone.\",\n",
    "        \"A: It’s urgent! Your account is at risk right now. If you don’t provide the account and your PIN, we can’t protect your money.\",\n",
    "        \"B: I should call the official bank number before giving this information.\",\n",
    "        \"A: There’s no time. Just give me your PIN, we’ll reverse the charges right now.\",\n",
    "        \"B: I’ll hang up and check with the bank directly. Goodbye.\",\n",
    "        \"A: Wait, no, don’t disconnect—!\"\n",
    "    ],\n",
    "    [\n",
    "        \"A: Hi, I’m calling from the government tax office. We have an urgent notice for you.\",\n",
    "        \"B: The tax office? Is there a problem?\",\n",
    "        \"A: Yes, there is a warrant for your arrest due to unpaid taxes. To fix this, you need to pay immediately.\",\n",
    "        \"B: That sounds suspicious. I don’t think the tax office calls like this.\",\n",
    "        \"A: If you don’t give me your credit card number right now, the police will be at your door in an hour.\",\n",
    "        \"B: No, I’m going to hang up and verify this through official channels.\",\n",
    "        \"A: Don’t you dare hang up! You must pay now!\",\n",
    "        \"B: (Hangs up)\"\n",
    "    ],\n",
    "    [\n",
    "        \"A: Good afternoon, this is Alex from Techy Support for your mobile service.\",\n",
    "        \"B: Hi, what’s the issue?\",\n",
    "        \"A: Your phone has been compromised. To fix it, I need your password and PIN so I can access your device remotely.\",\n",
    "        \"B: That’s not normal procedure.\",\n",
    "        \"A: It’s an emergency! Hackers are stealing your data. Give me your PIN so I can lock them out.\",\n",
    "        \"B: I’m going to call the official support line and verify.\",\n",
    "        \"A: No time! They’ll steal everything right now if you don’t comply!\",\n",
    "        \"B: I don’t believe you. Goodbye.\",\n",
    "        \"A: Wait, I…!\"\n",
    "    ]\n",
    "]"
   ]
  },
  {
   "cell_type": "code",
   "execution_count": 5,
   "metadata": {},
   "outputs": [],
   "source": [
    "all_conversations = legal_conversations + vishing_conversations"
   ]
  },
  {
   "cell_type": "code",
   "execution_count": 6,
   "metadata": {},
   "outputs": [],
   "source": [
    "###############################################################\n",
    "# 1. Preprocessing and Dataset\n",
    "###############################################################"
   ]
  },
  {
   "cell_type": "code",
   "execution_count": 7,
   "metadata": {},
   "outputs": [],
   "source": [
    "# Basic tokenization (whitespace)\n",
    "def tokenize_line(line):\n",
    "    return line.strip().split()\n",
    "\n",
    "# Special tokens\n",
    "PAD_TOKEN = \"<pad>\"\n",
    "UNK_TOKEN = \"<unk>\"\n",
    "BOS_TOKEN = \"<bos>\"\n",
    "EOS_TOKEN = \"<eos>\""
   ]
  },
  {
   "cell_type": "code",
   "execution_count": 8,
   "metadata": {},
   "outputs": [],
   "source": [
    "# Build vocab\n",
    "all_tokens = []\n",
    "for conv in all_conversations:\n",
    "    for line in conv:\n",
    "        all_tokens.extend(tokenize_line(line))\n",
    "\n",
    "vocab = {PAD_TOKEN:0, UNK_TOKEN:1, BOS_TOKEN:2, EOS_TOKEN:3}\n",
    "for tok in all_tokens:\n",
    "    if tok not in vocab:\n",
    "        vocab[tok] = len(vocab)\n",
    "\n",
    "inv_vocab = {v:k for k,v in vocab.items()}\n",
    "vocab_size = len(vocab)\n"
   ]
  },
  {
   "cell_type": "code",
   "execution_count": 9,
   "metadata": {},
   "outputs": [],
   "source": [
    "def encode_tokens(tokens, vocab):\n",
    "    return [vocab.get(t, vocab[UNK_TOKEN]) for t in tokens]\n"
   ]
  },
  {
   "cell_type": "code",
   "execution_count": 10,
   "metadata": {},
   "outputs": [],
   "source": [
    "class ConversationDataset(Dataset):\n",
    "    def __init__(self, conversations, vocab):\n",
    "        self.data = []\n",
    "        for conv in conversations:\n",
    "            # Flatten the conversation into a single sequence\n",
    "            # Add BOS at start and EOS at end\n",
    "            seq_tokens = [BOS_TOKEN]\n",
    "            for line in conv:\n",
    "                seq_tokens.extend(tokenize_line(line))\n",
    "            seq_tokens.append(EOS_TOKEN)\n",
    "            encoded = torch.tensor(encode_tokens(seq_tokens, vocab), dtype=torch.long)\n",
    "            self.data.append(encoded)\n",
    "\n",
    "    def __len__(self):\n",
    "        return len(self.data)\n",
    "\n",
    "    def __getitem__(self, idx):\n",
    "        # For language modeling:\n",
    "        # Input: seq[:-1], Target: seq[1:]\n",
    "        seq = self.data[idx]\n",
    "        inp = seq[:-1]\n",
    "        tgt = seq[1:]\n",
    "        return inp, tgt"
   ]
  },
  {
   "cell_type": "code",
   "execution_count": 11,
   "metadata": {},
   "outputs": [],
   "source": [
    "def collate_fn(batch):\n",
    "    inp_batch = [b[0] for b in batch]\n",
    "    tgt_batch = [b[1] for b in batch]\n",
    "\n",
    "    inp_padded = pad_sequence(inp_batch, batch_first=True, padding_value=vocab[PAD_TOKEN])\n",
    "    tgt_padded = pad_sequence(tgt_batch, batch_first=True, padding_value=vocab[PAD_TOKEN])\n",
    "\n",
    "    src_mask = (inp_padded != vocab[PAD_TOKEN]).unsqueeze(1).unsqueeze(2)\n",
    "    return inp_padded, tgt_padded, src_mask"
   ]
  },
  {
   "cell_type": "code",
   "execution_count": 12,
   "metadata": {},
   "outputs": [],
   "source": [
    "\n",
    "dataset = ConversationDataset(all_conversations, vocab)\n",
    "dataloader = DataLoader(dataset, batch_size=2, shuffle=True, collate_fn=collate_fn)\n"
   ]
  },
  {
   "cell_type": "code",
   "execution_count": 13,
   "metadata": {},
   "outputs": [],
   "source": [
    "###############################################################\n",
    "# 2. Transformer Language Model Definition\n",
    "###############################################################"
   ]
  },
  {
   "cell_type": "code",
   "execution_count": 14,
   "metadata": {},
   "outputs": [],
   "source": [
    "class Embedding(nn.Module):\n",
    "    def __init__(self, vocab_size, d_model):\n",
    "        super(Embedding, self).__init__()\n",
    "        self.embedding = nn.Embedding(vocab_size, d_model)\n",
    "        self.d_model = d_model\n",
    "\n",
    "    def forward(self, x):\n",
    "        return self.embedding(x) * math.sqrt(self.d_model)\n"
   ]
  },
  {
   "cell_type": "code",
   "execution_count": 15,
   "metadata": {},
   "outputs": [],
   "source": [
    "class PositionalEncoding(nn.Module):\n",
    "    def __init__(self, d_model, max_len=5000):\n",
    "        super(PositionalEncoding, self).__init__()\n",
    "        self.encoding = torch.zeros(max_len, d_model)\n",
    "        position = torch.arange(0, max_len, dtype=torch.float).unsqueeze(1)\n",
    "        div_term = torch.exp(torch.arange(0, d_model, 2).float() * (-math.log(10000.0) / d_model))\n",
    "\n",
    "        self.encoding[:, 0::2] = torch.sin(position * div_term)\n",
    "        self.encoding[:, 1::2] = torch.cos(position * div_term)\n",
    "        self.encoding = self.encoding.unsqueeze(0)\n",
    "\n",
    "    def forward(self, x):\n",
    "        return x + self.encoding[:, :x.size(1), :].to(x.device)\n"
   ]
  },
  {
   "cell_type": "code",
   "execution_count": 16,
   "metadata": {},
   "outputs": [],
   "source": [
    "def scaled_dot_product_attention(query, key, value, mask=None):\n",
    "    d_k = query.size(-1)\n",
    "    scores = torch.matmul(query, key.transpose(-2, -1)) / math.sqrt(d_k)\n",
    "    if mask is not None:\n",
    "        scores = scores.masked_fill(mask == 0, float('-inf'))\n",
    "    attention_weights = torch.softmax(scores, dim=-1)\n",
    "    return torch.matmul(attention_weights, value), attention_weights"
   ]
  },
  {
   "cell_type": "code",
   "execution_count": 17,
   "metadata": {},
   "outputs": [],
   "source": [
    "class MultiHeadAttention(nn.Module):\n",
    "    def __init__(self, num_heads, d_model):\n",
    "        super(MultiHeadAttention, self).__init__()\n",
    "        assert d_model % num_heads == 0\n",
    "        self.d_k = d_model // num_heads\n",
    "        self.num_heads = num_heads\n",
    "        self.linear_q = nn.Linear(d_model, d_model)\n",
    "        self.linear_k = nn.Linear(d_model, d_model)\n",
    "        self.linear_v = nn.Linear(d_model, d_model)\n",
    "        self.fc_out = nn.Linear(d_model, d_model)\n",
    "\n",
    "    def forward(self, query, key, value, mask=None):\n",
    "        batch_size = query.size(0)\n",
    "        def transform(x, linear_layer):\n",
    "            x = linear_layer(x)\n",
    "            return x.view(batch_size, -1, self.num_heads, self.d_k).transpose(1, 2)\n",
    "        query = transform(query, self.linear_q)\n",
    "        key = transform(key, self.linear_k)\n",
    "        value = transform(value, self.linear_v)\n",
    "\n",
    "        attention_output, _ = scaled_dot_product_attention(query, key, value, mask)\n",
    "        attention_output = attention_output.transpose(1, 2).contiguous().view(batch_size, -1, self.num_heads * self.d_k)\n",
    "        return self.fc_out(attention_output)"
   ]
  },
  {
   "cell_type": "code",
   "execution_count": 18,
   "metadata": {},
   "outputs": [],
   "source": [
    "class PositionwiseFeedforward(nn.Module):\n",
    "    def __init__(self, d_model, d_ff, dropout=0.1):\n",
    "        super(PositionwiseFeedforward, self).__init__()\n",
    "        self.linear1 = nn.Linear(d_model, d_ff)\n",
    "        self.dropout = nn.Dropout(dropout)\n",
    "        self.linear2 = nn.Linear(d_ff, d_model)\n",
    "\n",
    "    def forward(self, x):\n",
    "        return self.linear2(self.dropout(F.relu(self.linear1(x))))"
   ]
  },
  {
   "cell_type": "code",
   "execution_count": 19,
   "metadata": {},
   "outputs": [],
   "source": [
    "class EncoderLayer(nn.Module):\n",
    "    def __init__(self, d_model, num_heads, d_ff, dropout=0.1):\n",
    "        super(EncoderLayer, self).__init__()\n",
    "        self.attention = MultiHeadAttention(num_heads, d_model)\n",
    "        self.feed_forward = PositionwiseFeedforward(d_model, d_ff, dropout)\n",
    "        self.layer_norm1 = nn.LayerNorm(d_model)\n",
    "        self.layer_norm2 = nn.LayerNorm(d_model)\n",
    "        self.dropout = nn.Dropout(dropout)\n",
    "\n",
    "    def forward(self, src, src_mask):\n",
    "        src2 = self.attention(src, src, src, src_mask)\n",
    "        src = self.layer_norm1(src + self.dropout(src2))\n",
    "        \n",
    "        src2 = self.feed_forward(src)\n",
    "        src = self.layer_norm2(src + self.dropout(src2))\n",
    "        return src"
   ]
  },
  {
   "cell_type": "code",
   "execution_count": 20,
   "metadata": {},
   "outputs": [],
   "source": [
    "class TransformerLanguageModel(nn.Module):\n",
    "    def __init__(self, vocab_size, d_model=128, num_layers=2, num_heads=4, d_ff=512, dropout=0.1):\n",
    "        super(TransformerLanguageModel, self).__init__()\n",
    "        self.embedding = Embedding(vocab_size, d_model)\n",
    "        self.positional_encoding = PositionalEncoding(d_model)\n",
    "        self.layers = nn.ModuleList([EncoderLayer(d_model, num_heads, d_ff, dropout) for _ in range(num_layers)])\n",
    "        self.fc_out = nn.Linear(d_model, vocab_size)\n",
    "\n",
    "    def forward(self, src, src_mask):\n",
    "        x = self.embedding(src)\n",
    "        x = self.positional_encoding(x)\n",
    "        for layer in self.layers:\n",
    "            x = layer(x, src_mask)\n",
    "        logits = self.fc_out(x)\n",
    "        return logits\n"
   ]
  },
  {
   "cell_type": "code",
   "execution_count": 21,
   "metadata": {},
   "outputs": [],
   "source": [
    "###############################################################\n",
    "# 3. Training\n",
    "###############################################################"
   ]
  },
  {
   "cell_type": "code",
   "execution_count": 22,
   "metadata": {},
   "outputs": [
    {
     "name": "stderr",
     "output_type": "stream",
     "text": [
      "c:\\Users\\DELL\\anaconda3\\envs\\ai-backend\\lib\\site-packages\\tqdm\\auto.py:21: TqdmWarning: IProgress not found. Please update jupyter and ipywidgets. See https://ipywidgets.readthedocs.io/en/stable/user_install.html\n",
      "  from .autonotebook import tqdm as notebook_tqdm\n"
     ]
    }
   ],
   "source": [
    "device = torch.device(\"cuda\" if torch.cuda.is_available() else \"cpu\")\n",
    "model = TransformerLanguageModel(vocab_size).to(device)\n",
    "criterion = nn.CrossEntropyLoss(ignore_index=vocab[PAD_TOKEN])\n",
    "optimizer = optim.Adam(model.parameters(), lr=0.001)"
   ]
  },
  {
   "cell_type": "code",
   "execution_count": 23,
   "metadata": {},
   "outputs": [
    {
     "name": "stdout",
     "output_type": "stream",
     "text": [
      "Epoch 1, Loss: 5.9809\n",
      "Epoch 2, Loss: 5.4180\n",
      "Epoch 3, Loss: 5.0699\n",
      "Epoch 4, Loss: 4.7926\n",
      "Epoch 5, Loss: 4.4776\n",
      "Training completed.\n"
     ]
    }
   ],
   "source": [
    "epochs = 5\n",
    "model.train()\n",
    "for epoch in range(epochs):\n",
    "    total_loss = 0\n",
    "    for inp_padded, tgt_padded, src_mask in dataloader:\n",
    "        inp_padded = inp_padded.to(device)\n",
    "        tgt_padded = tgt_padded.to(device)\n",
    "        src_mask = src_mask.to(device)\n",
    "\n",
    "        optimizer.zero_grad()\n",
    "        logits = model(inp_padded, src_mask)\n",
    "        loss = criterion(logits.view(-1, vocab_size), tgt_padded.view(-1))\n",
    "        loss.backward()\n",
    "        optimizer.step()\n",
    "        total_loss += loss.item()\n",
    "    avg_loss = total_loss / len(dataloader)\n",
    "    print(f\"Epoch {epoch+1}, Loss: {avg_loss:.4f}\")\n",
    "\n",
    "print(\"Training completed.\")"
   ]
  },
  {
   "cell_type": "code",
   "execution_count": 24,
   "metadata": {},
   "outputs": [],
   "source": [
    "###############################################################\n",
    "# 4. Inference\n",
    "#\n",
    "# Given a partial conversation, predict the rest of the conversation.\n",
    "###############################################################\n"
   ]
  },
  {
   "cell_type": "code",
   "execution_count": 25,
   "metadata": {},
   "outputs": [],
   "source": [
    "def generate_continuation(prefix_lines, model, max_length=50):\n",
    "    model.eval()\n",
    "    with torch.no_grad():\n",
    "        # Encode prefix\n",
    "        prefix_tokens = [BOS_TOKEN]\n",
    "        for line in prefix_lines:\n",
    "            prefix_tokens.extend(tokenize_line(line))\n",
    "        \n",
    "        inp = torch.tensor([encode_tokens(prefix_tokens, vocab)], dtype=torch.long).to(device)\n",
    "        for _ in range(max_length):\n",
    "            src_mask = (inp != vocab[PAD_TOKEN]).unsqueeze(1).unsqueeze(2)\n",
    "            logits = model(inp, src_mask)\n",
    "            next_token_logits = logits[:, -1, :]\n",
    "            next_token = torch.argmax(next_token_logits, dim=-1).item()\n",
    "            if next_token == vocab[EOS_TOKEN]:\n",
    "                break\n",
    "            inp = torch.cat([inp, torch.tensor([[next_token]]).to(device)], dim=1)\n",
    "\n",
    "        generated_ids = inp.squeeze(0).tolist()\n",
    "        # Remove BOS\n",
    "        generated_ids = generated_ids[1:]\n",
    "        return [inv_vocab[i] for i in generated_ids]\n"
   ]
  },
  {
   "cell_type": "code",
   "execution_count": 26,
   "metadata": {},
   "outputs": [
    {
     "name": "stdout",
     "output_type": "stream",
     "text": [
      "\n",
      "Given prefix:\n",
      "A: Hello, I am John from your bank.\n",
      "B: Hello, how can I help you?\n",
      "\n",
      "Predicted continuation:\n",
      "A: Hello, I <unk> <unk> from your <unk> B: Hello, <unk> can I help you? B: Hi your mobile your mobile your mobile your mobile I can I can I can I can I can I can I can I can I can I can I can I can I can I can I can I can I can I can I can I can\n"
     ]
    }
   ],
   "source": [
    "# Example: partial conversation\n",
    "partial_conversation = [\n",
    "    \"A: Hello, I am John from your bank.\",\n",
    "    \"B: Hello, how can I help you?\"\n",
    "]\n",
    "\n",
    "predicted_tokens = generate_continuation(partial_conversation, model)\n",
    "print(\"\\nGiven prefix:\")\n",
    "for line in partial_conversation:\n",
    "    print(line)\n",
    "\n",
    "print(\"\\nPredicted continuation:\")\n",
    "print(\" \".join(predicted_tokens))"
   ]
  },
  {
   "cell_type": "code",
   "execution_count": null,
   "metadata": {},
   "outputs": [],
   "source": []
  }
 ],
 "metadata": {
  "kernelspec": {
   "display_name": "ai-backend",
   "language": "python",
   "name": "python3"
  },
  "language_info": {
   "codemirror_mode": {
    "name": "ipython",
    "version": 3
   },
   "file_extension": ".py",
   "mimetype": "text/x-python",
   "name": "python",
   "nbconvert_exporter": "python",
   "pygments_lexer": "ipython3",
   "version": "3.9.19"
  }
 },
 "nbformat": 4,
 "nbformat_minor": 2
}
