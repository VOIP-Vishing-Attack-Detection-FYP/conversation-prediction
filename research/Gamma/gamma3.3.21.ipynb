{
 "cells": [
  {
   "cell_type": "code",
   "execution_count": 19,
   "metadata": {},
   "outputs": [
    {
     "name": "stdout",
     "output_type": "stream",
     "text": [
      "Requirement already satisfied: transformers in /home/cse/anaconda3/envs/voipvishing/lib/python3.13/site-packages (4.50.0.dev0)\n",
      "Requirement already satisfied: filelock in /home/cse/anaconda3/envs/voipvishing/lib/python3.13/site-packages (from transformers) (3.18.0)\n",
      "Requirement already satisfied: huggingface-hub<1.0,>=0.26.0 in /home/cse/anaconda3/envs/voipvishing/lib/python3.13/site-packages (from transformers) (0.29.3)\n",
      "Requirement already satisfied: numpy>=1.17 in /home/cse/anaconda3/envs/voipvishing/lib/python3.13/site-packages (from transformers) (2.2.2)\n",
      "Requirement already satisfied: packaging>=20.0 in /home/cse/anaconda3/envs/voipvishing/lib/python3.13/site-packages (from transformers) (24.2)\n",
      "Requirement already satisfied: pyyaml>=5.1 in /home/cse/anaconda3/envs/voipvishing/lib/python3.13/site-packages (from transformers) (6.0.2)\n",
      "Requirement already satisfied: regex!=2019.12.17 in /home/cse/anaconda3/envs/voipvishing/lib/python3.13/site-packages (from transformers) (2024.11.6)\n",
      "Requirement already satisfied: requests in /home/cse/anaconda3/envs/voipvishing/lib/python3.13/site-packages (from transformers) (2.32.3)\n",
      "Requirement already satisfied: tokenizers<0.22,>=0.21 in /home/cse/anaconda3/envs/voipvishing/lib/python3.13/site-packages (from transformers) (0.21.1)\n",
      "Requirement already satisfied: safetensors>=0.4.1 in /home/cse/anaconda3/envs/voipvishing/lib/python3.13/site-packages (from transformers) (0.5.3)\n",
      "Requirement already satisfied: tqdm>=4.27 in /home/cse/anaconda3/envs/voipvishing/lib/python3.13/site-packages (from transformers) (4.67.1)\n",
      "Requirement already satisfied: fsspec>=2023.5.0 in /home/cse/anaconda3/envs/voipvishing/lib/python3.13/site-packages (from huggingface-hub<1.0,>=0.26.0->transformers) (2024.12.0)\n",
      "Requirement already satisfied: typing-extensions>=3.7.4.3 in /home/cse/anaconda3/envs/voipvishing/lib/python3.13/site-packages (from huggingface-hub<1.0,>=0.26.0->transformers) (4.12.2)\n",
      "Requirement already satisfied: charset-normalizer<4,>=2 in /home/cse/anaconda3/envs/voipvishing/lib/python3.13/site-packages (from requests->transformers) (3.4.1)\n",
      "Requirement already satisfied: idna<4,>=2.5 in /home/cse/anaconda3/envs/voipvishing/lib/python3.13/site-packages (from requests->transformers) (3.10)\n",
      "Requirement already satisfied: urllib3<3,>=1.21.1 in /home/cse/anaconda3/envs/voipvishing/lib/python3.13/site-packages (from requests->transformers) (2.3.0)\n",
      "Requirement already satisfied: certifi>=2017.4.17 in /home/cse/anaconda3/envs/voipvishing/lib/python3.13/site-packages (from requests->transformers) (2025.1.31)\n"
     ]
    }
   ],
   "source": [
    "!pip install transformers"
   ]
  },
  {
   "cell_type": "code",
   "execution_count": 15,
   "metadata": {},
   "outputs": [
    {
     "name": "stdout",
     "output_type": "stream",
     "text": [
      "Collecting tiktoken\n",
      "  Downloading tiktoken-0.9.0-cp313-cp313-manylinux_2_17_x86_64.manylinux2014_x86_64.whl.metadata (6.7 kB)\n",
      "Requirement already satisfied: regex>=2022.1.18 in /home/cse/anaconda3/envs/voipvishing/lib/python3.13/site-packages (from tiktoken) (2024.11.6)\n",
      "Requirement already satisfied: requests>=2.26.0 in /home/cse/anaconda3/envs/voipvishing/lib/python3.13/site-packages (from tiktoken) (2.32.3)\n",
      "Requirement already satisfied: charset-normalizer<4,>=2 in /home/cse/anaconda3/envs/voipvishing/lib/python3.13/site-packages (from requests>=2.26.0->tiktoken) (3.4.1)\n",
      "Requirement already satisfied: idna<4,>=2.5 in /home/cse/anaconda3/envs/voipvishing/lib/python3.13/site-packages (from requests>=2.26.0->tiktoken) (3.10)\n",
      "Requirement already satisfied: urllib3<3,>=1.21.1 in /home/cse/anaconda3/envs/voipvishing/lib/python3.13/site-packages (from requests>=2.26.0->tiktoken) (2.3.0)\n",
      "Requirement already satisfied: certifi>=2017.4.17 in /home/cse/anaconda3/envs/voipvishing/lib/python3.13/site-packages (from requests>=2.26.0->tiktoken) (2025.1.31)\n",
      "Downloading tiktoken-0.9.0-cp313-cp313-manylinux_2_17_x86_64.manylinux2014_x86_64.whl (1.2 MB)\n",
      "\u001b[2K   \u001b[90m━━━━━━━━━━━━━━━━━━━━━━━━━━━━━━━━━━━━━━━━\u001b[0m \u001b[32m1.2/1.2 MB\u001b[0m \u001b[31m7.1 MB/s\u001b[0m eta \u001b[36m0:00:00\u001b[0mta \u001b[36m0:00:01\u001b[0m\n",
      "\u001b[?25hInstalling collected packages: tiktoken\n",
      "Successfully installed tiktoken-0.9.0\n"
     ]
    }
   ],
   "source": [
    "!pip install tiktoken"
   ]
  },
  {
   "cell_type": "code",
   "execution_count": 23,
   "metadata": {},
   "outputs": [],
   "source": [
    "import kagglehub\n",
    "import torch \n",
    "from transformers import AutoTokenizer \n",
    "from transformers.models.gemma3 import Gemma3ForCausalLM\n"
   ]
  },
  {
   "cell_type": "code",
   "execution_count": 24,
   "metadata": {},
   "outputs": [],
   "source": [
    "\n",
    "#Model Setup: Downloads the Gemma 3 (1 billion parameter, instruction-tuned version) directly from Kaggle Hub.\n",
    "GEMMA_PATH = \"google/gemma-3-1b-pt\"\n"
   ]
  },
  {
   "cell_type": "code",
   "execution_count": 27,
   "metadata": {},
   "outputs": [],
   "source": [
    "!pip install -q huggingface_hub\n"
   ]
  },
  {
   "cell_type": "code",
   "execution_count": 36,
   "metadata": {},
   "outputs": [],
   "source": [
    "from huggingface_hub import login\n",
    "import os\n",
    "\n",
    "token = os.getenv(\"HUGGINGFACE_TOKEN\")\n",
    "\n",
    "login(token)\n"
   ]
  },
  {
   "cell_type": "code",
   "execution_count": 30,
   "metadata": {},
   "outputs": [
    {
     "data": {
      "application/vnd.jupyter.widget-view+json": {
       "model_id": "0bda570e40474b33a377ee09a617c2d6",
       "version_major": 2,
       "version_minor": 0
      },
      "text/plain": [
       "tokenizer_config.json:   0%|          | 0.00/1.16M [00:00<?, ?B/s]"
      ]
     },
     "metadata": {},
     "output_type": "display_data"
    },
    {
     "data": {
      "application/vnd.jupyter.widget-view+json": {
       "model_id": "650ea9573222403c824736a0b4ef13d7",
       "version_major": 2,
       "version_minor": 0
      },
      "text/plain": [
       "tokenizer.model:   0%|          | 0.00/4.69M [00:00<?, ?B/s]"
      ]
     },
     "metadata": {},
     "output_type": "display_data"
    },
    {
     "data": {
      "application/vnd.jupyter.widget-view+json": {
       "model_id": "f07c9fbd5bf84693a4782bb09ad484eb",
       "version_major": 2,
       "version_minor": 0
      },
      "text/plain": [
       "tokenizer.json:   0%|          | 0.00/33.4M [00:00<?, ?B/s]"
      ]
     },
     "metadata": {},
     "output_type": "display_data"
    },
    {
     "data": {
      "application/vnd.jupyter.widget-view+json": {
       "model_id": "5d2fc16e775f4f68a8c066c1f9e61f57",
       "version_major": 2,
       "version_minor": 0
      },
      "text/plain": [
       "added_tokens.json:   0%|          | 0.00/35.0 [00:00<?, ?B/s]"
      ]
     },
     "metadata": {},
     "output_type": "display_data"
    },
    {
     "data": {
      "application/vnd.jupyter.widget-view+json": {
       "model_id": "f95612b186da4175b1b42669bc4eb1e3",
       "version_major": 2,
       "version_minor": 0
      },
      "text/plain": [
       "special_tokens_map.json:   0%|          | 0.00/662 [00:00<?, ?B/s]"
      ]
     },
     "metadata": {},
     "output_type": "display_data"
    },
    {
     "data": {
      "application/vnd.jupyter.widget-view+json": {
       "model_id": "ebe8342ea2d94da6879aefa9844a13b2",
       "version_major": 2,
       "version_minor": 0
      },
      "text/plain": [
       "config.json:   0%|          | 0.00/880 [00:00<?, ?B/s]"
      ]
     },
     "metadata": {},
     "output_type": "display_data"
    },
    {
     "data": {
      "application/vnd.jupyter.widget-view+json": {
       "model_id": "c25a89bd96ee406f8a333fcd73e55ab3",
       "version_major": 2,
       "version_minor": 0
      },
      "text/plain": [
       "model.safetensors:   0%|          | 0.00/2.00G [00:00<?, ?B/s]"
      ]
     },
     "metadata": {},
     "output_type": "display_data"
    },
    {
     "data": {
      "application/vnd.jupyter.widget-view+json": {
       "model_id": "eb5a7b015e8b4349a0bd50ea7997bfc6",
       "version_major": 2,
       "version_minor": 0
      },
      "text/plain": [
       "generation_config.json:   0%|          | 0.00/215 [00:00<?, ?B/s]"
      ]
     },
     "metadata": {},
     "output_type": "display_data"
    },
    {
     "name": "stderr",
     "output_type": "stream",
     "text": [
      "/home/cse/anaconda3/envs/voipvishing/lib/python3.13/site-packages/transformers/generation/configuration_utils.py:633: UserWarning: `do_sample` is set to `False`. However, `top_p` is set to `0.95` -- this flag is only used in sample-based generation modes. You should set `do_sample=True` or unset `top_p`.\n",
      "  warnings.warn(\n",
      "/home/cse/anaconda3/envs/voipvishing/lib/python3.13/site-packages/transformers/generation/configuration_utils.py:650: UserWarning: `do_sample` is set to `False`. However, `top_k` is set to `64` -- this flag is only used in sample-based generation modes. You should set `do_sample=True` or unset `top_k`.\n",
      "  warnings.warn(\n"
     ]
    },
    {
     "name": "stdout",
     "output_type": "stream",
     "text": [
      " the heart of Paris, France.The Eiffel Tower is a symbol of Paris and France.The Eiffel Tower is a symbol of Paris and France.The Eiffel Tower is a symbol of Paris and France.The Eiffel Tower is a symbol\n"
     ]
    }
   ],
   "source": [
    "import torch\n",
    "from transformers import AutoTokenizer, Gemma3ForCausalLM\n",
    "\n",
    "ckpt = \"google/gemma-3-1b-pt\"\n",
    "tokenizer = AutoTokenizer.from_pretrained(ckpt)\n",
    "model = Gemma3ForCausalLM.from_pretrained(\n",
    "    ckpt,\n",
    "    torch_dtype=torch.bfloat16,\n",
    "    device_map=\"auto\"\n",
    ")\n",
    "\n",
    "prompt = \"Eiffel tower is located in\"\n",
    "model_inputs = tokenizer(prompt, return_tensors=\"pt\").to(model.device)\n",
    "\n",
    "input_len = model_inputs[\"input_ids\"].shape[-1]\n",
    "\n",
    "with torch.inference_mode():\n",
    "    generation = model.generate(**model_inputs, max_new_tokens=50, do_sample=False)\n",
    "    generation = generation[0][input_len:]\n",
    "\n",
    "decoded = tokenizer.decode(generation, skip_special_tokens=True)\n",
    "print(decoded)\n"
   ]
  },
  {
   "cell_type": "code",
   "execution_count": 31,
   "metadata": {},
   "outputs": [
    {
     "name": "stdout",
     "output_type": "stream",
     "text": [
      "Device in use: cuda\n"
     ]
    }
   ],
   "source": [
    "device = \"cuda\" if torch.cuda.is_available() else \"cpu\" \n",
    "print(f\"Device in use: {device}\")\n"
   ]
  },
  {
   "cell_type": "code",
   "execution_count": 32,
   "metadata": {},
   "outputs": [],
   "source": [
    "def create_prompt(user_question):\n",
    "    return f\"\"\"<start_of_turn>user\\n{user_question}<end_of_turn>\\n<start_of_turn>model\"\"\"\n",
    "\n",
    "\n",
    "generation_config = {\n",
    "    \"max_new_tokens\": 1024, \n",
    "    \"temperature\": 0.5, \n",
    "    \"do_sample\": True, #greedy decoding to make it fastere do_sample = false \n",
    "    \"top_p\": 0.7, \n",
    "    \"eos_token_id\": tokenizer.eos_token_id,\n",
    "    \"pad_token_id\": tokenizer.eos_token_id\n",
    "}\n",
    "\n",
    "def ask_gemma(question): \n",
    "    prompt = create_prompt(question)\n",
    "    inputs = tokenizer(prompt, return_tensors=\"pt\").to(device)\n",
    "    outputs = model.generate(**inputs, **generation_config)\n",
    "    response = tokenizer.decode(outputs[0], skip_special_tokens=True)\n",
    "    print(response)"
   ]
  },
  {
   "cell_type": "code",
   "execution_count": 33,
   "metadata": {},
   "outputs": [
    {
     "name": "stdout",
     "output_type": "stream",
     "text": [
      "user\n",
      "How can we get potable Water Gemma 3?\n",
      "model\n",
      "How can we get potable Water Gemma 3?\n",
      "^{\\text{User}\n",
      "How can we get potable Water Gemma 3?\n",
      "^{\\text{Model}\n",
      "How can we get potable Water Gemma 3?\n",
      "^{\\text{User}\n",
      "How can we get potable Water Gemma 3?\n",
      "^{\\text{Model}\n",
      "How can we get potable Water Gemma 3?\n",
      "^{\\text{User}\n",
      "How can we get potable Water Gemma 3?\n",
      "^{\\text{Model}\n",
      "How can we get potable Water Gemma 3?\n",
      "^{\\text{User}\n",
      "How can we get potable Water Gemma 3?\n",
      "^{\\text{Model}\n",
      "How can we get potable Water Gemma 3?\n",
      "^{\\text{User}\n",
      "How can we get potable Water Gemma 3?\n",
      "^{\\text{Model}\n",
      "How can we get potable Water Gemma 3?\n",
      "^{\\text{User}\n",
      "How can we get potable Water Gemma 3?\n",
      "^{\\text{Model}\n",
      "How can we get potable Water Gemma 3?\n",
      "^{\\text{User}\n",
      "How can we get potable Water Gemma 3?\n",
      "^{\\text{Model}\n",
      "How can we get potable Water Gemma 3?\n",
      "^{\\text{User}\n",
      "How can we get potable Water Gemma 3?\n",
      "^{\\text{Model}\n",
      "How can we get potable Water Gemma 3?\n",
      "^{\\text{User}\n",
      "How can we get potable Water Gemma 3?\n",
      "^{\\text{Model}\n",
      "How can we get potable Water Gemma 3?\n",
      "^{\\text{User}\n",
      "How can we get potable Water Gemma 3?\n",
      "^{\\text{Model}\n",
      "How can we get potable Water Gemma 3?\n",
      "^{\\text{User}\n",
      "How can we get potable Water Gemma 3?\n",
      "^{\\text{Model}\n",
      "How can we get potable Water Gemma 3?\n",
      "^{\\text{User}\n",
      "How can we get potable Water Gemma 3?\n",
      "^{\\text{Model}\n",
      "How can we get potable Water Gemma 3?\n",
      "^{\\text{User}\n",
      "How can we get potable Water Gemma 3?\n",
      "^{\\text{Model}\n",
      "How can we get potable Water Gemma 3?\n",
      "^{\\text{User}\n",
      "How can we get potable Water Gemma 3?\n",
      "^{\\text{Model}\n",
      "How can we get potable Water Gemma 3?\n",
      "^{\\text{User}\n",
      "How can we get potable Water Gemma 3?\n",
      "^{\\text{Model}\n",
      "How can we get potable Water Gemma 3?\n",
      "^{\\text{User}\n",
      "How can we get potable Water Gemma 3?\n",
      "^{\\text{Model}\n",
      "How can we get potable Water Gemma 3?\n",
      "^{\\text{User}\n",
      "How can we get potable Water Gemma 3?\n",
      "^{\\text{Model}\n",
      "How can we get potable Water Gemma 3?\n",
      "^{\\text{User}\n",
      "How can we get potable Water Gemma 3?\n",
      "^{\\text{Model}\n",
      "How can we get potable Water Gemma 3?\n",
      "^{\\text{User}\n",
      "How can we get potable Water Gemma 3?\n",
      "^{\\text{Model}\n",
      "How can we get potable Water Gemma 3?\n",
      "^{\\text{User}\n",
      "How can we get potable Water Gemma 3?\n",
      "^{\\text{Model}\n",
      "How can we get potable Water Gemma 3?\n",
      "^{\\text{User}\n",
      "How can we get potable Water Gemma 3?\n",
      "^{\\text{Model}\n",
      "How can we get potable Water Gemma 3?\n",
      "^{\\text{User}\n",
      "How can we get potable Water Gemma 3?\n",
      "^{\\text{Model}\n",
      "How can we get potable Water Gemma 3?\n",
      "^{\\text{User}\n",
      "How can we get potable Water Gemma 3?\n",
      "^{\\text{Model}\n",
      "How can we get potable Water Gemma 3?\n",
      "^{\\text{User}\n",
      "How can we get potable Water Gemma 3?\n",
      "^{\\text{Model}\n",
      "How can we get potable Water Gemma 3?\n",
      "^{\\text{User}\n",
      "How can we get potable Water Gemma 3?\n",
      "^{\\text{Model}\n",
      "How can we get potable Water Gemma 3?\n",
      "^{\\text{User}\n",
      "How can we get potable Water Gemma 3?\n",
      "^{\\text{Model}\n",
      "How can we get potable Water Gemma 3?\n",
      "^{\\text{User}\n",
      "How can we get potable Water Gemma 3?\n",
      "^{\\text{Model}\n",
      "How can we get potable Water Gemma 3?\n",
      "^{\\text{User}\n",
      "How can we get potable Water Gemma 3?\n",
      "^{\\text{Model}\n",
      "How can we get potable Water Gemma 3?\n",
      "^{\\text{User}\n",
      "How can we get potable Water Gemma 3?\n",
      "^{\\text{Model}\n",
      "How can we get potable Water Gemma 3?\n",
      "^{\\text{User}\n",
      "How can we get potable Water Gemma 3?\n",
      "^{\\text{Model}\n",
      "How can we\n"
     ]
    }
   ],
   "source": [
    "user_question = \"How can we get potable Water Gemma 3?\"\n",
    "ask_gemma(user_question)"
   ]
  },
  {
   "cell_type": "code",
   "execution_count": null,
   "metadata": {},
   "outputs": [],
   "source": []
  }
 ],
 "metadata": {
  "kernelspec": {
   "display_name": "voipvishing",
   "language": "python",
   "name": "python3"
  },
  "language_info": {
   "codemirror_mode": {
    "name": "ipython",
    "version": 3
   },
   "file_extension": ".py",
   "mimetype": "text/x-python",
   "name": "python",
   "nbconvert_exporter": "python",
   "pygments_lexer": "ipython3",
   "version": "3.13.2"
  }
 },
 "nbformat": 4,
 "nbformat_minor": 2
}
