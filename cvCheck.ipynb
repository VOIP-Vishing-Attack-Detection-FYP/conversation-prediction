{
 "cells": [
  {
   "cell_type": "code",
   "execution_count": 3,
   "metadata": {},
   "outputs": [],
   "source": [
    "import os\n",
    "\n",
    "def check_irrelevant_cvs(folder_path, names_list):\n",
    "    # Normalize names for comparison\n",
    "    normalized_names = [name.lower() for name in names_list]\n",
    "    \n",
    "    # Get a list of files in the folder\n",
    "    cv_files = [f for f in os.listdir(folder_path) if f.endswith('.pdf')]\n",
    "    \n",
    "    irrelevant_files = []\n",
    "    \n",
    "    for cv in cv_files:\n",
    "        # Extract the name part from the CV filename (before ' - ')\n",
    "        name_part = cv.split(' - ')[0].strip().lower()\n",
    "        \n",
    "        # Check if the name is in the list\n",
    "        if name_part not in normalized_names:\n",
    "            irrelevant_files.append(cv)\n",
    "    \n",
    "    if irrelevant_files:\n",
    "        print(\"Irrelevant CVs found in the folder:\")\n",
    "        for cv in irrelevant_files:\n",
    "            print(f\"- {cv}\")\n",
    "    else:\n",
    "        print(\"All CVs are relevant.\")\n"
   ]
  },
  {
   "cell_type": "code",
   "execution_count": 4,
   "metadata": {},
   "outputs": [
    {
     "name": "stdout",
     "output_type": "stream",
     "text": [
      "Irrelevant CVs found in the folder:\n",
      "- Sandil Ranasinghe CV.pdf\n",
      "- Bojitha_Liyanage - WSO2.pdf\n",
      "- Oshan Sandeep Amarasooriya - WSO2.pdf\n",
      "- Minidu Rupasinghe - WSO2.pdf\n",
      "- Savindu Rajapaksha- WSO2.pdf\n",
      "- Thejan Weerasekara - WSO2.pdf\n",
      "- Ravindi Weerasinghe-WSO2.pdf\n",
      "- Somesh_Chandimal- WSO2.pdf\n",
      "- Muaadh_MNM___WSO2.pdf\n",
      "- Thambara Sahassaka - WSO2.pdf\n",
      "- Pasindu Chamod Madusha - WSO2.pdf\n"
     ]
    }
   ],
   "source": [
    "\n",
    "# Example usage\n",
    "folder_path = 'WSO2'  \n",
    "names_list = [\n",
    "    \"Anjula Abeyweera\",\n",
    "    \"Oshan Sandeep\",\n",
    "    \"Inuka Ampavila\",\n",
    "    \"Aravinda H.W.K.\",\n",
    "    \"Prabhash Dissanayake\",\n",
    "    \"Akesh Samuditha\",\n",
    "    \"Benul Jayasekara\",\n",
    "    \"Rashmini Jayasundara\",\n",
    "    \"Isuru Jayawickrama\",\n",
    "    \"Jubeerathan Thevakumar\",\n",
    "    \"Hansini Karunarathne\",\n",
    "    \"Sandev Kuruppu\",\n",
    "    \"Shanuka Lakshan\",\n",
    "    \"Bojitha Liyanage\",\n",
    "    \"Pasindu Madusha\",\n",
    "    \"Pavan Pasidu Malshan\",\n",
    "    \"Saadha Salim\",\n",
    "    \"Chamaru Amasara\",\n",
    "    \"Kumudu Mohottala\",\n",
    "    \"Muaadh M.N.M\",\n",
    "    \"Damika Nanayakkara\",\n",
    "    \"Kavindu Nilshan\",\n",
    "    \"Vimukthi Pahasara\",\n",
    "    \"Shamindi Pathirathne\",\n",
    "    \"Somesh Chandimal\",\n",
    "    \"Shehan Premathilaka\",\n",
    "    \"Savindu Rajapaksha\",\n",
    "    \"Dilshan Rakshitha\",\n",
    "    \"Ruwan Ranasinghe\",\n",
    "    \"Sandil Ranasinghe\",\n",
    "    \"Nisal Dasunpriya Ranathunga\",\n",
    "    \"Nimesh Ranchagoda\",\n",
    "    \"Kulindu Rovin\",\n",
    "    \"Minindu Rupasinghe\",\n",
    "    \"Gimhan Sandeeptha\",\n",
    "    \"Ashan Subodha\",\n",
    "    \"Basadee Thennakoon\",\n",
    "    \"Kasun Prabashwara\",\n",
    "    \"Vibulan Jeyarasa\",\n",
    "    \"Thejan Bandara Weerasekara\",\n",
    "    \"Ravindi Weerasinghe\",\n",
    "    \"Sahiru Wijesinghe\",\n",
    "    \"Udara Wijesinghe\",\n",
    "    \"Sandaru Wijesiri\"\n",
    "]\n",
    " \n",
    "\n",
    "check_irrelevant_cvs(folder_path, names_list)\n"
   ]
  },
  {
   "cell_type": "code",
   "execution_count": null,
   "metadata": {},
   "outputs": [],
   "source": []
  }
 ],
 "metadata": {
  "kernelspec": {
   "display_name": "voipvishing",
   "language": "python",
   "name": "python3"
  },
  "language_info": {
   "codemirror_mode": {
    "name": "ipython",
    "version": 3
   },
   "file_extension": ".py",
   "mimetype": "text/x-python",
   "name": "python",
   "nbconvert_exporter": "python",
   "pygments_lexer": "ipython3",
   "version": "3.12.8"
  }
 },
 "nbformat": 4,
 "nbformat_minor": 2
}
